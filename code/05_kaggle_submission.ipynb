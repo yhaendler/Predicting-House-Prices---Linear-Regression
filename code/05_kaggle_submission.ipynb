{
 "cells": [
  {
   "cell_type": "markdown",
   "id": "8a75f19a-796e-4aca-b10b-356cc57a1779",
   "metadata": {},
   "source": [
    "## Preparing the Kaggle test data"
   ]
  },
  {
   "cell_type": "code",
   "execution_count": 169,
   "id": "e3c23fc9-101b-4ee8-bb31-20ad85b3e9ff",
   "metadata": {},
   "outputs": [],
   "source": [
    "import pandas as pd\n",
    "import numpy as np\n",
    "import matplotlib.pyplot as plt\n",
    "import seaborn as sns\n",
    "\n",
    "from sklearn.linear_model import LinearRegression, Ridge, RidgeCV, Lasso, LassoCV\n",
    "from sklearn.model_selection import train_test_split, cross_val_score\n",
    "from sklearn.metrics import mean_squared_error, r2_score\n",
    "from sklearn.preprocessing import StandardScaler"
   ]
  },
  {
   "cell_type": "code",
   "execution_count": 189,
   "id": "40943296-a56d-444e-a263-08e8c0e8a240",
   "metadata": {},
   "outputs": [],
   "source": [
    "data = pd.read_csv('../data/datasets/test.csv')"
   ]
  },
  {
   "cell_type": "code",
   "execution_count": 190,
   "id": "e3fd2c75-efbb-482a-a601-c2154542932e",
   "metadata": {},
   "outputs": [
    {
     "data": {
      "text/plain": [
       "(878, 80)"
      ]
     },
     "execution_count": 190,
     "metadata": {},
     "output_type": "execute_result"
    }
   ],
   "source": [
    "data.shape"
   ]
  },
  {
   "cell_type": "code",
   "execution_count": 191,
   "id": "049cb0ce-7c04-455a-91bc-a9bb371b481a",
   "metadata": {},
   "outputs": [
    {
     "data": {
      "text/html": [
       "<div>\n",
       "<style scoped>\n",
       "    .dataframe tbody tr th:only-of-type {\n",
       "        vertical-align: middle;\n",
       "    }\n",
       "\n",
       "    .dataframe tbody tr th {\n",
       "        vertical-align: top;\n",
       "    }\n",
       "\n",
       "    .dataframe thead th {\n",
       "        text-align: right;\n",
       "    }\n",
       "</style>\n",
       "<table border=\"1\" class=\"dataframe\">\n",
       "  <thead>\n",
       "    <tr style=\"text-align: right;\">\n",
       "      <th></th>\n",
       "      <th>Id</th>\n",
       "      <th>PID</th>\n",
       "      <th>MS SubClass</th>\n",
       "      <th>MS Zoning</th>\n",
       "      <th>Lot Frontage</th>\n",
       "      <th>Lot Area</th>\n",
       "      <th>Street</th>\n",
       "      <th>Alley</th>\n",
       "      <th>Lot Shape</th>\n",
       "      <th>Land Contour</th>\n",
       "      <th>...</th>\n",
       "      <th>3Ssn Porch</th>\n",
       "      <th>Screen Porch</th>\n",
       "      <th>Pool Area</th>\n",
       "      <th>Pool QC</th>\n",
       "      <th>Fence</th>\n",
       "      <th>Misc Feature</th>\n",
       "      <th>Misc Val</th>\n",
       "      <th>Mo Sold</th>\n",
       "      <th>Yr Sold</th>\n",
       "      <th>Sale Type</th>\n",
       "    </tr>\n",
       "  </thead>\n",
       "  <tbody>\n",
       "    <tr>\n",
       "      <th>0</th>\n",
       "      <td>2658</td>\n",
       "      <td>902301120</td>\n",
       "      <td>190</td>\n",
       "      <td>RM</td>\n",
       "      <td>69.0</td>\n",
       "      <td>9142</td>\n",
       "      <td>Pave</td>\n",
       "      <td>Grvl</td>\n",
       "      <td>Reg</td>\n",
       "      <td>Lvl</td>\n",
       "      <td>...</td>\n",
       "      <td>0</td>\n",
       "      <td>0</td>\n",
       "      <td>0</td>\n",
       "      <td>NaN</td>\n",
       "      <td>NaN</td>\n",
       "      <td>NaN</td>\n",
       "      <td>0</td>\n",
       "      <td>4</td>\n",
       "      <td>2006</td>\n",
       "      <td>WD</td>\n",
       "    </tr>\n",
       "    <tr>\n",
       "      <th>1</th>\n",
       "      <td>2718</td>\n",
       "      <td>905108090</td>\n",
       "      <td>90</td>\n",
       "      <td>RL</td>\n",
       "      <td>NaN</td>\n",
       "      <td>9662</td>\n",
       "      <td>Pave</td>\n",
       "      <td>NaN</td>\n",
       "      <td>IR1</td>\n",
       "      <td>Lvl</td>\n",
       "      <td>...</td>\n",
       "      <td>0</td>\n",
       "      <td>0</td>\n",
       "      <td>0</td>\n",
       "      <td>NaN</td>\n",
       "      <td>NaN</td>\n",
       "      <td>NaN</td>\n",
       "      <td>0</td>\n",
       "      <td>8</td>\n",
       "      <td>2006</td>\n",
       "      <td>WD</td>\n",
       "    </tr>\n",
       "    <tr>\n",
       "      <th>2</th>\n",
       "      <td>2414</td>\n",
       "      <td>528218130</td>\n",
       "      <td>60</td>\n",
       "      <td>RL</td>\n",
       "      <td>58.0</td>\n",
       "      <td>17104</td>\n",
       "      <td>Pave</td>\n",
       "      <td>NaN</td>\n",
       "      <td>IR1</td>\n",
       "      <td>Lvl</td>\n",
       "      <td>...</td>\n",
       "      <td>0</td>\n",
       "      <td>0</td>\n",
       "      <td>0</td>\n",
       "      <td>NaN</td>\n",
       "      <td>NaN</td>\n",
       "      <td>NaN</td>\n",
       "      <td>0</td>\n",
       "      <td>9</td>\n",
       "      <td>2006</td>\n",
       "      <td>New</td>\n",
       "    </tr>\n",
       "    <tr>\n",
       "      <th>3</th>\n",
       "      <td>1989</td>\n",
       "      <td>902207150</td>\n",
       "      <td>30</td>\n",
       "      <td>RM</td>\n",
       "      <td>60.0</td>\n",
       "      <td>8520</td>\n",
       "      <td>Pave</td>\n",
       "      <td>NaN</td>\n",
       "      <td>Reg</td>\n",
       "      <td>Lvl</td>\n",
       "      <td>...</td>\n",
       "      <td>0</td>\n",
       "      <td>0</td>\n",
       "      <td>0</td>\n",
       "      <td>NaN</td>\n",
       "      <td>NaN</td>\n",
       "      <td>NaN</td>\n",
       "      <td>0</td>\n",
       "      <td>7</td>\n",
       "      <td>2007</td>\n",
       "      <td>WD</td>\n",
       "    </tr>\n",
       "    <tr>\n",
       "      <th>4</th>\n",
       "      <td>625</td>\n",
       "      <td>535105100</td>\n",
       "      <td>20</td>\n",
       "      <td>RL</td>\n",
       "      <td>NaN</td>\n",
       "      <td>9500</td>\n",
       "      <td>Pave</td>\n",
       "      <td>NaN</td>\n",
       "      <td>IR1</td>\n",
       "      <td>Lvl</td>\n",
       "      <td>...</td>\n",
       "      <td>0</td>\n",
       "      <td>185</td>\n",
       "      <td>0</td>\n",
       "      <td>NaN</td>\n",
       "      <td>NaN</td>\n",
       "      <td>NaN</td>\n",
       "      <td>0</td>\n",
       "      <td>7</td>\n",
       "      <td>2009</td>\n",
       "      <td>WD</td>\n",
       "    </tr>\n",
       "  </tbody>\n",
       "</table>\n",
       "<p>5 rows × 80 columns</p>\n",
       "</div>"
      ],
      "text/plain": [
       "     Id        PID  MS SubClass MS Zoning  Lot Frontage  Lot Area Street  \\\n",
       "0  2658  902301120          190        RM          69.0      9142   Pave   \n",
       "1  2718  905108090           90        RL           NaN      9662   Pave   \n",
       "2  2414  528218130           60        RL          58.0     17104   Pave   \n",
       "3  1989  902207150           30        RM          60.0      8520   Pave   \n",
       "4   625  535105100           20        RL           NaN      9500   Pave   \n",
       "\n",
       "  Alley Lot Shape Land Contour  ... 3Ssn Porch Screen Porch Pool Area Pool QC  \\\n",
       "0  Grvl       Reg          Lvl  ...          0            0         0     NaN   \n",
       "1   NaN       IR1          Lvl  ...          0            0         0     NaN   \n",
       "2   NaN       IR1          Lvl  ...          0            0         0     NaN   \n",
       "3   NaN       Reg          Lvl  ...          0            0         0     NaN   \n",
       "4   NaN       IR1          Lvl  ...          0          185         0     NaN   \n",
       "\n",
       "  Fence Misc Feature Misc Val Mo Sold  Yr Sold  Sale Type  \n",
       "0   NaN          NaN        0       4     2006        WD   \n",
       "1   NaN          NaN        0       8     2006        WD   \n",
       "2   NaN          NaN        0       9     2006        New  \n",
       "3   NaN          NaN        0       7     2007        WD   \n",
       "4   NaN          NaN        0       7     2009        WD   \n",
       "\n",
       "[5 rows x 80 columns]"
      ]
     },
     "execution_count": 191,
     "metadata": {},
     "output_type": "execute_result"
    }
   ],
   "source": [
    "data.head()"
   ]
  },
  {
   "cell_type": "code",
   "execution_count": 192,
   "id": "c6cf31d7-60d5-4e05-bb48-e60001274415",
   "metadata": {},
   "outputs": [],
   "source": [
    "# lower case column names without spaces\n",
    "data.columns = data.columns.str.lower().str.replace(' ', '_')"
   ]
  },
  {
   "cell_type": "markdown",
   "id": "e5bab267-ac2d-4827-b603-ec94367e1796",
   "metadata": {},
   "source": [
    "---\n",
    "\n",
    "The next cells of code prepare the features in the Kaggle test data so that we can test the model predictions on these data and submit the predictions to the Kaggle competition. \n",
    "\n",
    "These preparation are essentially the feature scaling and contrast coding, as well as making sure that we remain only with the features included in the model fit to the training data set (in script 04_modeling).\n",
    "\n",
    "At the end of these cells, we save the test data frame under the name 'test_df.csv' and we then should return to script number 04_modeling, at the end of it, to test the model predictions on the test_df data frame."
   ]
  },
  {
   "cell_type": "code",
   "execution_count": 193,
   "id": "eacc7a9c-8e03-4e0b-9650-8e3750399c77",
   "metadata": {},
   "outputs": [],
   "source": [
    "qual_dict = {'Ex' : 5,\n",
    "             'Gd' : 4,\n",
    "             'TA' : 3,\n",
    "             'Fa' : 2,\n",
    "             'Po' : 1}"
   ]
  },
  {
   "cell_type": "code",
   "execution_count": 194,
   "id": "b1a2584d-46e7-4136-bf22-726af75368bc",
   "metadata": {},
   "outputs": [],
   "source": [
    "data['exter_qual'] = data['exter_qual'].map(qual_dict)"
   ]
  },
  {
   "cell_type": "code",
   "execution_count": 195,
   "id": "0543cb62-4bb1-4e42-80ff-d2fea230c236",
   "metadata": {},
   "outputs": [],
   "source": [
    "data['kitchen_qual'] = data['kitchen_qual'].map(qual_dict)"
   ]
  },
  {
   "cell_type": "code",
   "execution_count": 196,
   "id": "6ea45569-c7a5-44a2-8b12-98a9a597806e",
   "metadata": {},
   "outputs": [],
   "source": [
    "data['pool_area'] = np.where(data['pool_area']==0, 0, 1)"
   ]
  },
  {
   "cell_type": "code",
   "execution_count": 197,
   "id": "a719c8f1-cf15-441d-bde7-883d6f0a5b3f",
   "metadata": {},
   "outputs": [],
   "source": [
    "data['bsmt_cond'] = data['bsmt_cond'].map(qual_dict)"
   ]
  },
  {
   "cell_type": "code",
   "execution_count": 198,
   "id": "8597d965-ac93-4ae0-8041-8963aeba1e94",
   "metadata": {},
   "outputs": [],
   "source": [
    "data['fireplace_qu'] = data['fireplace_qu'].map(qual_dict)"
   ]
  },
  {
   "cell_type": "code",
   "execution_count": 199,
   "id": "cc6ff8cc-38cb-4f75-a582-900132410adc",
   "metadata": {},
   "outputs": [],
   "source": [
    "data['garage_qual'] = data['garage_qual'].map(qual_dict)"
   ]
  },
  {
   "cell_type": "code",
   "execution_count": 200,
   "id": "fa419540-43a8-4216-b547-b2fdaa06aed8",
   "metadata": {},
   "outputs": [],
   "source": [
    "data['garage_cond'] = data['garage_cond'].map(qual_dict)"
   ]
  },
  {
   "cell_type": "code",
   "execution_count": 201,
   "id": "5d0388d0-083e-44d1-9e14-1d7643cd75fb",
   "metadata": {},
   "outputs": [],
   "source": [
    "data['heating_qc'] = data['heating_qc'].map(qual_dict)"
   ]
  },
  {
   "cell_type": "code",
   "execution_count": 202,
   "id": "b6be4445-8815-4ab5-943f-dbfe1eecacdb",
   "metadata": {},
   "outputs": [],
   "source": [
    "style_dict = {'1Story' : 'story_1',\n",
    "              '2Story' : 'story_2',\n",
    "              '1.5Fin' : 'story_1_half_fin',\n",
    "              'SLvl' : 'split_level',\n",
    "              'SFoyer' : 'split_foyer',\n",
    "              '2.5Unf' : 'story_2_half_unfin',\n",
    "              '1.5Unf' : 'story_1_half_unfin',\n",
    "              '2.5Fin' : 'story_2_half_fin'}\n",
    "\n",
    "data['house_style'] = data['house_style'].map(style_dict)"
   ]
  },
  {
   "cell_type": "code",
   "execution_count": 203,
   "id": "e24f974f-7d97-48a5-9df6-6dad5d0b0d57",
   "metadata": {},
   "outputs": [],
   "source": [
    "data['garage_finish'].fillna('no_garage', inplace=True)"
   ]
  },
  {
   "cell_type": "code",
   "execution_count": 204,
   "id": "38a16eaa-31d0-4869-ab9c-8ed12b4f71b3",
   "metadata": {},
   "outputs": [],
   "source": [
    "data['fence'].fillna('no_fence', inplace=True)"
   ]
  },
  {
   "cell_type": "code",
   "execution_count": 205,
   "id": "1ff81729-70f5-41d1-a8fe-38372a0db085",
   "metadata": {},
   "outputs": [],
   "source": [
    "data['bsmtfin_type_1'].fillna('no_basement', inplace=True)"
   ]
  },
  {
   "cell_type": "code",
   "execution_count": 206,
   "id": "eab680b0-56ac-4392-940c-2f3e0b4c2107",
   "metadata": {},
   "outputs": [],
   "source": [
    "num_cols = [\n",
    "    'overall_qual', 'overall_cond', 'year_remod/add', 'exter_qual', 'exter_cond', 'kitchen_qual', 'full_bath',\n",
    "    'half_bath', 'bedroom_abvgr', 'kitchen_abvgr', 'totrms_abvgrd', 'fireplaces', 'wood_deck_sf', 'pool_area',\n",
    "    'misc_val', 'heating_qc', 'bsmt_cond', 'bsmtfin_sf_1', 'total_bsmt_sf', 'bsmt_full_bath', 'bsmt_half_bath', \n",
    "    'fireplace_qu', 'garage_qual', 'garage_cond',\n",
    "\n",
    "    # ID column\n",
    "    'id'\n",
    "]"
   ]
  },
  {
   "cell_type": "code",
   "execution_count": 207,
   "id": "ba7ba11e-d0b9-4b79-b2d2-5f9ba00887a1",
   "metadata": {},
   "outputs": [],
   "source": [
    "cat_cols = [\n",
    "    'house_style', 'heating', 'central_air', 'electrical', 'paved_drive', \n",
    "    'garage_finish', 'fence', 'bsmtfin_type_1']"
   ]
  },
  {
   "cell_type": "code",
   "execution_count": 208,
   "id": "08b54b4c-6421-4d60-9d9a-cb958107a0e6",
   "metadata": {},
   "outputs": [],
   "source": [
    "data = data[num_cols + cat_cols]"
   ]
  },
  {
   "cell_type": "code",
   "execution_count": 209,
   "id": "c98d403a-222e-4e0b-81f5-b105075667e6",
   "metadata": {},
   "outputs": [
    {
     "data": {
      "text/plain": [
       "(878, 33)"
      ]
     },
     "execution_count": 209,
     "metadata": {},
     "output_type": "execute_result"
    }
   ],
   "source": [
    "data.shape"
   ]
  },
  {
   "cell_type": "markdown",
   "id": "6b9486e1-ecb8-4b92-8486-09b29816f829",
   "metadata": {},
   "source": [
    "---"
   ]
  },
  {
   "cell_type": "code",
   "execution_count": 210,
   "id": "a0ec15a4-507b-4d1e-94ab-2fa997646598",
   "metadata": {},
   "outputs": [],
   "source": [
    "# names of categorical features\n",
    "cat_cols = [ 'house_style', 'heating', 'central_air', 'electrical', 'paved_drive', 'garage_finish', 'fence', \n",
    "    'bsmtfin_type_1', 'bsmt_cond', 'fireplace_qu', 'garage_qual', 'garage_cond', 'pool_area']"
   ]
  },
  {
   "cell_type": "code",
   "execution_count": 211,
   "id": "191cabae-11e4-471d-89af-66d74434e476",
   "metadata": {},
   "outputs": [],
   "source": [
    "data['house_style'].astype('category').cat.reorder_categories(['split_foyer','split_level','story_1',\n",
    "                                                               'story_1_half_unfin','story_1_half_fin',\n",
    "                                                               'story_2','story_2_half_unfin','story_2_half_fin'],\n",
    "                                                             inplace=True)"
   ]
  },
  {
   "cell_type": "code",
   "execution_count": 212,
   "id": "31ffb770-8b48-4a7c-9464-709e08a74f69",
   "metadata": {},
   "outputs": [
    {
     "name": "stderr",
     "output_type": "stream",
     "text": [
      "C:\\Users\\Yair\\anaconda3\\lib\\site-packages\\category_encoders\\utils.py:21: FutureWarning: is_categorical is deprecated and will be removed in a future version.  Use is_categorical_dtype instead\n",
      "  elif pd.api.types.is_categorical(cols):\n"
     ]
    }
   ],
   "source": [
    "encoder = ce.BackwardDifferenceEncoder()\n",
    "ce_house_style = encoder.fit_transform(data['house_style']).drop(columns='intercept')\n",
    "ce_house_style.rename(columns = {\n",
    "    'house_style_0' : 'house_style-split_level_VS_split_foyer',\n",
    "    'house_style_1' : 'house_style-story_1_VS_split_level',\n",
    "    'house_style_2' : 'house_style-story_1_half_unfin_VS_story_1',\n",
    "    'house_style_3' : 'house_style-story_1_half_fin_VS_story_1_half_unfin',\n",
    "    'house_style_4' : 'house_style-story_2_VS_story_1_half_fin',\n",
    "    'house_style_5' : 'house_style-story_2_half_unfin_VS_story_2',\n",
    "    'house_style_6' : 'house_style-story_2_half_fin_VS_story_2_half_unfin'\n",
    "}, inplace=True)"
   ]
  },
  {
   "cell_type": "code",
   "execution_count": 213,
   "id": "c48ec4fe-478a-4819-b8d9-16da96366ecc",
   "metadata": {},
   "outputs": [
    {
     "data": {
      "text/plain": [
       "GasA     866\n",
       "GasW       7\n",
       "Grav       4\n",
       "Floor      1\n",
       "Name: heating, dtype: int64"
      ]
     },
     "execution_count": 213,
     "metadata": {},
     "output_type": "execute_result"
    }
   ],
   "source": [
    "data['heating'].value_counts()"
   ]
  },
  {
   "cell_type": "code",
   "execution_count": 214,
   "id": "97de1734-30ff-461e-84d0-1f763530e2ba",
   "metadata": {},
   "outputs": [],
   "source": [
    "data['heating'].astype('category').cat.reorder_categories(['GasA','GasW','Grav','Floor'], inplace=True)"
   ]
  },
  {
   "cell_type": "code",
   "execution_count": 215,
   "id": "261e5a59-a493-4da5-8bb1-cc2f159c876b",
   "metadata": {},
   "outputs": [
    {
     "name": "stderr",
     "output_type": "stream",
     "text": [
      "C:\\Users\\Yair\\anaconda3\\lib\\site-packages\\category_encoders\\utils.py:21: FutureWarning: is_categorical is deprecated and will be removed in a future version.  Use is_categorical_dtype instead\n",
      "  elif pd.api.types.is_categorical(cols):\n"
     ]
    }
   ],
   "source": [
    "encoder = ce.BackwardDifferenceEncoder()\n",
    "ce_heating = encoder.fit_transform(data['heating']).drop(columns='intercept')\n",
    "ce_heating.rename(columns = {\n",
    "    'heating_0' : 'heating-GasW_VS_GasA',\n",
    "    'heating_1' : 'heating-Grav_VS_GasW',\n",
    "    'heating_2' : 'heating-Floor_VS_Grav' }, inplace=True)"
   ]
  },
  {
   "cell_type": "code",
   "execution_count": 216,
   "id": "7f85265e-79a5-4d14-a019-fd8d1883129d",
   "metadata": {},
   "outputs": [
    {
     "data": {
      "text/plain": [
       "Y    823\n",
       "N     55\n",
       "Name: central_air, dtype: int64"
      ]
     },
     "execution_count": 216,
     "metadata": {},
     "output_type": "execute_result"
    }
   ],
   "source": [
    "data['central_air'].value_counts()"
   ]
  },
  {
   "cell_type": "code",
   "execution_count": 217,
   "id": "3dbb858c-d8f8-4667-9e11-37bdecc4bc4b",
   "metadata": {},
   "outputs": [],
   "source": [
    "data['central_air'].astype('category').cat.reorder_categories(['N','Y'], inplace=True)"
   ]
  },
  {
   "cell_type": "code",
   "execution_count": 218,
   "id": "b78fa779-fdb4-4dc9-b581-e2042f1d8d3c",
   "metadata": {},
   "outputs": [
    {
     "name": "stderr",
     "output_type": "stream",
     "text": [
      "C:\\Users\\Yair\\anaconda3\\lib\\site-packages\\category_encoders\\utils.py:21: FutureWarning: is_categorical is deprecated and will be removed in a future version.  Use is_categorical_dtype instead\n",
      "  elif pd.api.types.is_categorical(cols):\n"
     ]
    }
   ],
   "source": [
    "encoder = ce.BackwardDifferenceEncoder()\n",
    "ce_central_air = encoder.fit_transform(data['central_air']).drop(columns='intercept')\n",
    "ce_central_air.rename(columns = {\n",
    "    'central_air_0' : 'central_air_VS_no_central_air'}, inplace=True)"
   ]
  },
  {
   "cell_type": "code",
   "execution_count": 219,
   "id": "a8130416-9a57-43b1-8551-9e4ca2aae02c",
   "metadata": {},
   "outputs": [
    {
     "data": {
      "text/plain": [
       "SBrkr    813\n",
       "FuseA     48\n",
       "FuseF     15\n",
       "FuseP      1\n",
       "Name: electrical, dtype: int64"
      ]
     },
     "execution_count": 219,
     "metadata": {},
     "output_type": "execute_result"
    }
   ],
   "source": [
    "data['electrical'].value_counts()"
   ]
  },
  {
   "cell_type": "code",
   "execution_count": 220,
   "id": "1526c9fe-b383-4f0c-bdea-ff36d46dea5e",
   "metadata": {},
   "outputs": [],
   "source": [
    "data['electrical'].astype('category').cat.reorder_categories(['SBrkr','FuseA','FuseF','FuseP'], inplace=True)"
   ]
  },
  {
   "cell_type": "code",
   "execution_count": 221,
   "id": "d26c7880-274e-4550-b911-93faae7a4227",
   "metadata": {},
   "outputs": [
    {
     "name": "stderr",
     "output_type": "stream",
     "text": [
      "C:\\Users\\Yair\\anaconda3\\lib\\site-packages\\category_encoders\\utils.py:21: FutureWarning: is_categorical is deprecated and will be removed in a future version.  Use is_categorical_dtype instead\n",
      "  elif pd.api.types.is_categorical(cols):\n"
     ]
    }
   ],
   "source": [
    "encoder = ce.BackwardDifferenceEncoder()\n",
    "ce_electrical = encoder.fit_transform(data['electrical']).drop(columns='intercept')\n",
    "ce_electrical.rename(columns = {\n",
    "    'electrical_0' : 'electrical-FuseA_VS_SBrkr',\n",
    "    'electrical_1' : 'electrical-FuseF_VS_FuseA',\n",
    "    'electrical_2' : 'electrical-FuseP_VS_FuseF'}, inplace=True)"
   ]
  },
  {
   "cell_type": "code",
   "execution_count": 222,
   "id": "a3cfbfa6-85e9-402f-8b8f-cf5cdfa53165",
   "metadata": {},
   "outputs": [
    {
     "data": {
      "text/plain": [
       "Y    790\n",
       "N     65\n",
       "P     23\n",
       "Name: paved_drive, dtype: int64"
      ]
     },
     "execution_count": 222,
     "metadata": {},
     "output_type": "execute_result"
    }
   ],
   "source": [
    "data['paved_drive'].value_counts()"
   ]
  },
  {
   "cell_type": "code",
   "execution_count": 223,
   "id": "09c44d2a-4732-4d14-adca-0a11a1ccc73d",
   "metadata": {},
   "outputs": [],
   "source": [
    "data['paved_drive'].astype('category').cat.reorder_categories(['N','P','Y'], inplace=True)"
   ]
  },
  {
   "cell_type": "code",
   "execution_count": 224,
   "id": "8515cee6-5421-4360-a87f-e9325b62a052",
   "metadata": {},
   "outputs": [
    {
     "name": "stderr",
     "output_type": "stream",
     "text": [
      "C:\\Users\\Yair\\anaconda3\\lib\\site-packages\\category_encoders\\utils.py:21: FutureWarning: is_categorical is deprecated and will be removed in a future version.  Use is_categorical_dtype instead\n",
      "  elif pd.api.types.is_categorical(cols):\n"
     ]
    }
   ],
   "source": [
    "encoder = ce.BackwardDifferenceEncoder()\n",
    "ce_paved_drive = encoder.fit_transform(data['paved_drive']).drop(columns='intercept')\n",
    "ce_paved_drive.rename(columns = {\n",
    "    'paved_drive_0' : 'paved_drive-P_VS_N',\n",
    "    'paved_drive_1' : 'paved_drive-Y_VS_P'}, inplace=True)"
   ]
  },
  {
   "cell_type": "code",
   "execution_count": 225,
   "id": "8c4850d0-d5e2-4a19-b045-6263eef63fec",
   "metadata": {},
   "outputs": [
    {
     "data": {
      "text/plain": [
       "Unf          382\n",
       "RFn          233\n",
       "Fin          218\n",
       "no_garage     45\n",
       "Name: garage_finish, dtype: int64"
      ]
     },
     "execution_count": 225,
     "metadata": {},
     "output_type": "execute_result"
    }
   ],
   "source": [
    "data['garage_finish'].value_counts()"
   ]
  },
  {
   "cell_type": "code",
   "execution_count": 226,
   "id": "e3189ba2-ada0-4fd3-aea3-25c0c53a4980",
   "metadata": {},
   "outputs": [],
   "source": [
    "data['garage_finish'].astype('category').cat.reorder_categories(['no_garage','Unf','RFn','Fin'], inplace=True)"
   ]
  },
  {
   "cell_type": "code",
   "execution_count": 227,
   "id": "1827e546-4a96-4746-8274-4be29619d649",
   "metadata": {},
   "outputs": [
    {
     "name": "stderr",
     "output_type": "stream",
     "text": [
      "C:\\Users\\Yair\\anaconda3\\lib\\site-packages\\category_encoders\\utils.py:21: FutureWarning: is_categorical is deprecated and will be removed in a future version.  Use is_categorical_dtype instead\n",
      "  elif pd.api.types.is_categorical(cols):\n"
     ]
    }
   ],
   "source": [
    "encoder = ce.BackwardDifferenceEncoder()\n",
    "ce_garage_finish = encoder.fit_transform(data['garage_finish']).drop(columns='intercept')\n",
    "ce_garage_finish.rename(columns = {\n",
    "    'garage_finish_0' : 'garage_finish-Unf_VS_no_garage',\n",
    "    'garage_finish_1' : 'garage_finish-RFn_VS_Unf',\n",
    "    'garage_finish_2' : 'garage_finish-Fin_VS_RFn'}, inplace=True)"
   ]
  },
  {
   "cell_type": "code",
   "execution_count": 228,
   "id": "f43a2e2d-0fb4-42b4-aa76-25edeaee1c7d",
   "metadata": {},
   "outputs": [
    {
     "data": {
      "text/plain": [
       "no_fence    706\n",
       "MnPrv       103\n",
       "GdPrv        35\n",
       "GdWo         32\n",
       "MnWw          2\n",
       "Name: fence, dtype: int64"
      ]
     },
     "execution_count": 228,
     "metadata": {},
     "output_type": "execute_result"
    }
   ],
   "source": [
    "data['fence'].value_counts()"
   ]
  },
  {
   "cell_type": "code",
   "execution_count": 229,
   "id": "9bf01c7a-84c4-46bb-97a5-2d7f7e75ca2b",
   "metadata": {},
   "outputs": [],
   "source": [
    "data['fence'].astype('category').cat.reorder_categories(['no_fence','MnWw','GdWo','MnPrv','GdPrv'], inplace=True)"
   ]
  },
  {
   "cell_type": "code",
   "execution_count": 230,
   "id": "acef6aab-d113-4d6b-b33f-9207ef9bd2d9",
   "metadata": {},
   "outputs": [
    {
     "name": "stderr",
     "output_type": "stream",
     "text": [
      "C:\\Users\\Yair\\anaconda3\\lib\\site-packages\\category_encoders\\utils.py:21: FutureWarning: is_categorical is deprecated and will be removed in a future version.  Use is_categorical_dtype instead\n",
      "  elif pd.api.types.is_categorical(cols):\n"
     ]
    }
   ],
   "source": [
    "encoder = ce.BackwardDifferenceEncoder()\n",
    "ce_fence = encoder.fit_transform(data['fence']).drop(columns='intercept')\n",
    "ce_fence.rename(columns = {\n",
    "    'fence_0' : 'fence-MnWw_VS_no_fence',\n",
    "    'fence_1' : 'fence-GdWo_VS_MnWw',\n",
    "    'fence_2' : 'fence-MnPrv_VS_GdWo',\n",
    "    'fence_3' : 'fence-GdPrv_VS_MnPrv'}, inplace=True)"
   ]
  },
  {
   "cell_type": "code",
   "execution_count": 231,
   "id": "dc010a88-4a07-4095-9c7a-848b685cec71",
   "metadata": {},
   "outputs": [
    {
     "data": {
      "text/plain": [
       "Unf            248\n",
       "GLQ            243\n",
       "ALQ            136\n",
       "Rec            105\n",
       "BLQ             69\n",
       "LwQ             52\n",
       "no_basement     25\n",
       "Name: bsmtfin_type_1, dtype: int64"
      ]
     },
     "execution_count": 231,
     "metadata": {},
     "output_type": "execute_result"
    }
   ],
   "source": [
    "data['bsmtfin_type_1'].value_counts()"
   ]
  },
  {
   "cell_type": "code",
   "execution_count": 232,
   "id": "8f4adbcb-5a9e-4198-84c5-48edf5e2410f",
   "metadata": {},
   "outputs": [],
   "source": [
    "data['bsmtfin_type_1'].astype('category').cat.reorder_categories(['no_basement','Unf','LwQ','Rec',\n",
    "                                                                 'BLQ','ALQ','GLQ'], inplace=True)"
   ]
  },
  {
   "cell_type": "code",
   "execution_count": 233,
   "id": "918ec182-31cc-4fef-806d-1a76902c82a9",
   "metadata": {},
   "outputs": [
    {
     "name": "stderr",
     "output_type": "stream",
     "text": [
      "C:\\Users\\Yair\\anaconda3\\lib\\site-packages\\category_encoders\\utils.py:21: FutureWarning: is_categorical is deprecated and will be removed in a future version.  Use is_categorical_dtype instead\n",
      "  elif pd.api.types.is_categorical(cols):\n"
     ]
    }
   ],
   "source": [
    "encoder = ce.BackwardDifferenceEncoder()\n",
    "ce_bsmtfin_type_1 = encoder.fit_transform(data['bsmtfin_type_1']).drop(columns='intercept')\n",
    "ce_bsmtfin_type_1.rename(columns = {\n",
    "    'bsmtfin_type_1_0' : 'bsmtfin_type_1-Unf_VS_no_basement',\n",
    "    'bsmtfin_type_1_1' : 'bsmtfin_type_1-LwQ_VS_Unf',\n",
    "    'bsmtfin_type_1_2' : 'bsmtfin_type_1-Rec_VS_LwQ',\n",
    "    'bsmtfin_type_1_3' : 'bsmtfin_type_1-BLQ_VS_Rec',\n",
    "    'bsmtfin_type_1_4' : 'bsmtfin_type_1-ALQ_VS_BLQ',\n",
    "    'bsmtfin_type_1_5' : 'bsmtfin_type_1-GLQ_VS_ALQ'}, inplace=True)"
   ]
  },
  {
   "cell_type": "code",
   "execution_count": 234,
   "id": "d250b449-e7f0-42b0-a81d-7a5db5814520",
   "metadata": {},
   "outputs": [
    {
     "data": {
      "text/plain": [
       "3.0    781\n",
       "2.0     39\n",
       "4.0     33\n",
       "Name: bsmt_cond, dtype: int64"
      ]
     },
     "execution_count": 234,
     "metadata": {},
     "output_type": "execute_result"
    }
   ],
   "source": [
    "data['bsmt_cond'].value_counts()"
   ]
  },
  {
   "cell_type": "code",
   "execution_count": 235,
   "id": "a160d2a2-2c10-49ed-9eb9-f349ba6ff57c",
   "metadata": {},
   "outputs": [],
   "source": [
    "data['bsmt_cond'] = ['4' if a==4 else '3' if a==3 else '2' if a==2 else 'no_basement' for a in data['bsmt_cond']]"
   ]
  },
  {
   "cell_type": "code",
   "execution_count": 236,
   "id": "aeba6f7f-222f-4344-b686-c16b4f1f387a",
   "metadata": {},
   "outputs": [
    {
     "data": {
      "text/plain": [
       "3              781\n",
       "2               39\n",
       "4               33\n",
       "no_basement     25\n",
       "Name: bsmt_cond, dtype: int64"
      ]
     },
     "execution_count": 236,
     "metadata": {},
     "output_type": "execute_result"
    }
   ],
   "source": [
    "data['bsmt_cond'].value_counts()"
   ]
  },
  {
   "cell_type": "code",
   "execution_count": 237,
   "id": "d494b8cc-160e-4153-ae92-125585cd2344",
   "metadata": {},
   "outputs": [],
   "source": [
    "data['bsmt_cond'].astype('category').cat.reorder_categories(['no_basement','2','3','4'], inplace=True)"
   ]
  },
  {
   "cell_type": "code",
   "execution_count": 238,
   "id": "547d1050-df04-47a4-b8aa-ee8496f76464",
   "metadata": {},
   "outputs": [
    {
     "name": "stderr",
     "output_type": "stream",
     "text": [
      "C:\\Users\\Yair\\anaconda3\\lib\\site-packages\\category_encoders\\utils.py:21: FutureWarning: is_categorical is deprecated and will be removed in a future version.  Use is_categorical_dtype instead\n",
      "  elif pd.api.types.is_categorical(cols):\n"
     ]
    }
   ],
   "source": [
    "encoder = ce.BackwardDifferenceEncoder()\n",
    "ce_bsmt_cond = encoder.fit_transform(data['bsmt_cond']).drop(columns='intercept')\n",
    "ce_bsmt_cond.rename(columns = {\n",
    "    'bsmt_cond_0' : 'bsmt_cond-2_VS_no_basement',\n",
    "    'bsmt_cond_1' : 'bsmt_cond-3_VS_2',\n",
    "    'bsmt_cond_2' : 'bsmt_cond-4_VS_3'}, inplace=True)"
   ]
  },
  {
   "cell_type": "code",
   "execution_count": 239,
   "id": "b5e0c14d-98d9-4c7b-8d24-b5b51b05798c",
   "metadata": {},
   "outputs": [
    {
     "data": {
      "text/plain": [
       "4.0    220\n",
       "3.0    193\n",
       "2.0     16\n",
       "1.0     15\n",
       "5.0     12\n",
       "Name: fireplace_qu, dtype: int64"
      ]
     },
     "execution_count": 239,
     "metadata": {},
     "output_type": "execute_result"
    }
   ],
   "source": [
    "data['fireplace_qu'].value_counts()"
   ]
  },
  {
   "cell_type": "code",
   "execution_count": 240,
   "id": "1c0720bc-2608-4206-835a-ea34f25f8d15",
   "metadata": {},
   "outputs": [],
   "source": [
    "data['fireplace_qu'] = ['5' if a==5 else '4' if a==4 else '3' if a==3 else '2' if a==2 else '1' if a==1 else 'no_fireplace' for a in data['fireplace_qu']]"
   ]
  },
  {
   "cell_type": "code",
   "execution_count": 241,
   "id": "83c6d28f-a494-458d-8b32-4ac29f701a69",
   "metadata": {},
   "outputs": [
    {
     "data": {
      "text/plain": [
       "no_fireplace    422\n",
       "4               220\n",
       "3               193\n",
       "2                16\n",
       "1                15\n",
       "5                12\n",
       "Name: fireplace_qu, dtype: int64"
      ]
     },
     "execution_count": 241,
     "metadata": {},
     "output_type": "execute_result"
    }
   ],
   "source": [
    "data['fireplace_qu'].value_counts()"
   ]
  },
  {
   "cell_type": "code",
   "execution_count": 242,
   "id": "e34e673a-167e-4eeb-8bd1-de25984a13ad",
   "metadata": {},
   "outputs": [],
   "source": [
    "data['fireplace_qu'].astype('category').cat.reorder_categories(['no_fireplace','1','2','3',\n",
    "                                                                 '4','5'], inplace=True)"
   ]
  },
  {
   "cell_type": "code",
   "execution_count": 243,
   "id": "30330e02-f826-41e9-9c82-703abcd31fcc",
   "metadata": {},
   "outputs": [
    {
     "name": "stderr",
     "output_type": "stream",
     "text": [
      "C:\\Users\\Yair\\anaconda3\\lib\\site-packages\\category_encoders\\utils.py:21: FutureWarning: is_categorical is deprecated and will be removed in a future version.  Use is_categorical_dtype instead\n",
      "  elif pd.api.types.is_categorical(cols):\n"
     ]
    }
   ],
   "source": [
    "encoder = ce.BackwardDifferenceEncoder()\n",
    "ce_fireplace_qu = encoder.fit_transform(data['fireplace_qu']).drop(columns='intercept')\n",
    "ce_fireplace_qu.rename(columns = {\n",
    "    'fireplace_qu_0' : 'fireplace_qu-1_VS_no_fireplace',\n",
    "    'fireplace_qu_1' : 'fireplace_qu-2_VS_1',\n",
    "    'fireplace_qu_2' : 'fireplace_qu-3_VS_2',\n",
    "    'fireplace_qu_3' : 'fireplace_qu-4_VS_3',\n",
    "    'fireplace_qu_4' : 'fireplace_qu-5_VS_4'}, inplace=True)"
   ]
  },
  {
   "cell_type": "code",
   "execution_count": 244,
   "id": "fc1c30dc-a3fb-4fdd-9b19-8308754c3892",
   "metadata": {},
   "outputs": [
    {
     "data": {
      "text/plain": [
       "3.0    782\n",
       "2.0     42\n",
       "4.0      6\n",
       "1.0      3\n",
       "Name: garage_qual, dtype: int64"
      ]
     },
     "execution_count": 244,
     "metadata": {},
     "output_type": "execute_result"
    }
   ],
   "source": [
    "data['garage_qual'].value_counts() "
   ]
  },
  {
   "cell_type": "code",
   "execution_count": 245,
   "id": "22ed7d37-21f1-4e5a-af4f-b0efb3be853f",
   "metadata": {},
   "outputs": [],
   "source": [
    "data['garage_qual'] = ['4' if a==4 else '3' if a==3 else '2' if a==2 else '1' if a==1 else 'no_garage' for a in data['garage_qual']]"
   ]
  },
  {
   "cell_type": "code",
   "execution_count": 246,
   "id": "8c922490-45f5-4138-b1d0-cb46f54f6c71",
   "metadata": {},
   "outputs": [
    {
     "data": {
      "text/plain": [
       "3            782\n",
       "no_garage     45\n",
       "2             42\n",
       "4              6\n",
       "1              3\n",
       "Name: garage_qual, dtype: int64"
      ]
     },
     "execution_count": 246,
     "metadata": {},
     "output_type": "execute_result"
    }
   ],
   "source": [
    "data['garage_qual'].value_counts() "
   ]
  },
  {
   "cell_type": "code",
   "execution_count": 247,
   "id": "fd41dc32-8227-43ac-a7fb-616bd3ada878",
   "metadata": {},
   "outputs": [],
   "source": [
    "data['garage_qual'].astype('category').cat.reorder_categories(['no_garage','1','2','3','4'], inplace=True)"
   ]
  },
  {
   "cell_type": "code",
   "execution_count": 248,
   "id": "1522ab03-6bc6-4028-a7f6-427c591806c0",
   "metadata": {},
   "outputs": [
    {
     "name": "stderr",
     "output_type": "stream",
     "text": [
      "C:\\Users\\Yair\\anaconda3\\lib\\site-packages\\category_encoders\\utils.py:21: FutureWarning: is_categorical is deprecated and will be removed in a future version.  Use is_categorical_dtype instead\n",
      "  elif pd.api.types.is_categorical(cols):\n"
     ]
    }
   ],
   "source": [
    "encoder = ce.BackwardDifferenceEncoder()\n",
    "ce_garage_qual = encoder.fit_transform(data['garage_qual']).drop(columns='intercept')\n",
    "ce_garage_qual.rename(columns = {\n",
    "    'garage_qual_0' : 'garage_qual-1_VS_no_garage',\n",
    "    'garage_qual_1' : 'garage_qual-2_VS_1',\n",
    "    'garage_qual_2' : 'garage_qual-3_VS_2',\n",
    "    'garage_qual_3' : 'garage_qual-4_VS_3'}, inplace=True)"
   ]
  },
  {
   "cell_type": "code",
   "execution_count": 249,
   "id": "1b3613c4-fc20-430e-bd35-55dba55cf5a8",
   "metadata": {},
   "outputs": [
    {
     "data": {
      "text/plain": [
       "3.0    796\n",
       "2.0     27\n",
       "1.0      6\n",
       "4.0      3\n",
       "5.0      1\n",
       "Name: garage_cond, dtype: int64"
      ]
     },
     "execution_count": 249,
     "metadata": {},
     "output_type": "execute_result"
    }
   ],
   "source": [
    "data['garage_cond'].value_counts()"
   ]
  },
  {
   "cell_type": "code",
   "execution_count": 250,
   "id": "dae60da2-661b-4930-8c78-998c92ea7df1",
   "metadata": {},
   "outputs": [],
   "source": [
    "data['garage_cond'] = ['5' if a==5 else '4' if a==4 else '3' if a==3 else '2' if a==2 else '1' if a==1 else 'no_garage' for a in data['garage_cond']]"
   ]
  },
  {
   "cell_type": "code",
   "execution_count": 251,
   "id": "07519181-713d-4f42-823d-ce202eec3c7e",
   "metadata": {},
   "outputs": [
    {
     "data": {
      "text/plain": [
       "3            796\n",
       "no_garage     45\n",
       "2             27\n",
       "1              6\n",
       "4              3\n",
       "5              1\n",
       "Name: garage_cond, dtype: int64"
      ]
     },
     "execution_count": 251,
     "metadata": {},
     "output_type": "execute_result"
    }
   ],
   "source": [
    "data['garage_cond'].value_counts()"
   ]
  },
  {
   "cell_type": "code",
   "execution_count": 252,
   "id": "57e2d8b5-46e4-403b-a1c8-3c63bd3b344e",
   "metadata": {},
   "outputs": [],
   "source": [
    "data['garage_cond'].astype('category').cat.reorder_categories(['no_garage','1','2','3',\n",
    "                                                                 '4','5'], inplace=True)"
   ]
  },
  {
   "cell_type": "code",
   "execution_count": 253,
   "id": "05888629-236f-421d-829c-81dcf3d2502c",
   "metadata": {},
   "outputs": [
    {
     "name": "stderr",
     "output_type": "stream",
     "text": [
      "C:\\Users\\Yair\\anaconda3\\lib\\site-packages\\category_encoders\\utils.py:21: FutureWarning: is_categorical is deprecated and will be removed in a future version.  Use is_categorical_dtype instead\n",
      "  elif pd.api.types.is_categorical(cols):\n"
     ]
    }
   ],
   "source": [
    "encoder = ce.BackwardDifferenceEncoder()\n",
    "ce_garage_cond = encoder.fit_transform(data['garage_cond']).drop(columns='intercept')\n",
    "ce_garage_cond.rename(columns = {\n",
    "    'garage_cond_0' : 'garage_cond-1_VS_no_garage',\n",
    "    'garage_cond_1' : 'garage_cond-2_VS_1',\n",
    "    'garage_cond_2' : 'garage_cond-3_VS_2',\n",
    "    'garage_cond_3' : 'garage_cond-4_VS_3',\n",
    "    'garage_cond_4' : 'garage_cond-5_VS_4'}, inplace=True)"
   ]
  },
  {
   "cell_type": "code",
   "execution_count": 254,
   "id": "2b1646fa-0bb0-4c5f-83d7-107c3e8ea9be",
   "metadata": {},
   "outputs": [
    {
     "data": {
      "text/plain": [
       "0    874\n",
       "1      4\n",
       "Name: pool_area, dtype: int64"
      ]
     },
     "execution_count": 254,
     "metadata": {},
     "output_type": "execute_result"
    }
   ],
   "source": [
    "data['pool_area'].value_counts()"
   ]
  },
  {
   "cell_type": "code",
   "execution_count": 255,
   "id": "0d42e4ab-4ab0-47b0-90eb-75f649c146f3",
   "metadata": {},
   "outputs": [],
   "source": [
    "data['pool_area'] = ['no_pool' if a==0 else 'pool' for a in data['pool_area']]"
   ]
  },
  {
   "cell_type": "code",
   "execution_count": 256,
   "id": "5f5e1138-abd2-4e52-93f0-25ecf887d87e",
   "metadata": {},
   "outputs": [
    {
     "name": "stderr",
     "output_type": "stream",
     "text": [
      "C:\\Users\\Yair\\anaconda3\\lib\\site-packages\\category_encoders\\utils.py:21: FutureWarning: is_categorical is deprecated and will be removed in a future version.  Use is_categorical_dtype instead\n",
      "  elif pd.api.types.is_categorical(cols):\n"
     ]
    }
   ],
   "source": [
    "encoder = ce.BackwardDifferenceEncoder()\n",
    "ce_pool_area = encoder.fit_transform(data['pool_area']).drop(columns='intercept')\n",
    "ce_pool_area.rename(columns = {\n",
    "    'pool_area_0' : 'pool_VS_no_pool'}, inplace=True)"
   ]
  },
  {
   "cell_type": "code",
   "execution_count": 257,
   "id": "7b427e02-fc31-461a-81ce-347ab7c51885",
   "metadata": {},
   "outputs": [],
   "source": [
    "# putting all the categorical features together\n",
    "data_cat = pd.concat([ce_house_style, \n",
    "                      ce_heating, ce_central_air, ce_electrical, ce_paved_drive,\n",
    "                      ce_garage_finish, ce_fence, ce_bsmtfin_type_1,\n",
    "                     ce_bsmt_cond, ce_fireplace_qu, ce_garage_qual, ce_garage_cond, ce_pool_area], axis=1)"
   ]
  },
  {
   "cell_type": "code",
   "execution_count": 258,
   "id": "6492ad1f-7f65-43c3-9e72-0c039784c5e9",
   "metadata": {},
   "outputs": [],
   "source": [
    "# numeric features to be scaled, except for the saleprice\n",
    "num_cols = [\n",
    "    'overall_qual', 'overall_cond', 'year_remod/add', 'exter_qual', 'exter_cond', 'kitchen_qual', 'full_bath',\n",
    "    'half_bath', 'bedroom_abvgr', 'kitchen_abvgr', 'totrms_abvgrd', 'fireplaces', 'wood_deck_sf',\n",
    "    'heating_qc', 'bsmtfin_sf_1', 'total_bsmt_sf', 'bsmt_full_bath', 'bsmt_half_bath']"
   ]
  },
  {
   "cell_type": "code",
   "execution_count": 259,
   "id": "da291b09-6dc1-4f8f-b403-261005ac6d4d",
   "metadata": {},
   "outputs": [],
   "source": [
    "data_num = data[num_cols]"
   ]
  },
  {
   "cell_type": "code",
   "execution_count": 260,
   "id": "d08a6ef4-44c9-4036-9fc0-d3d7d7842358",
   "metadata": {},
   "outputs": [
    {
     "name": "stdout",
     "output_type": "stream",
     "text": [
      "<class 'pandas.core.frame.DataFrame'>\n",
      "RangeIndex: 878 entries, 0 to 877\n",
      "Data columns (total 18 columns):\n",
      " #   Column          Non-Null Count  Dtype \n",
      "---  ------          --------------  ----- \n",
      " 0   overall_qual    878 non-null    int64 \n",
      " 1   overall_cond    878 non-null    int64 \n",
      " 2   year_remod/add  878 non-null    int64 \n",
      " 3   exter_qual      878 non-null    int64 \n",
      " 4   exter_cond      878 non-null    object\n",
      " 5   kitchen_qual    878 non-null    int64 \n",
      " 6   full_bath       878 non-null    int64 \n",
      " 7   half_bath       878 non-null    int64 \n",
      " 8   bedroom_abvgr   878 non-null    int64 \n",
      " 9   kitchen_abvgr   878 non-null    int64 \n",
      " 10  totrms_abvgrd   878 non-null    int64 \n",
      " 11  fireplaces      878 non-null    int64 \n",
      " 12  wood_deck_sf    878 non-null    int64 \n",
      " 13  heating_qc      878 non-null    int64 \n",
      " 14  bsmtfin_sf_1    878 non-null    int64 \n",
      " 15  total_bsmt_sf   878 non-null    int64 \n",
      " 16  bsmt_full_bath  878 non-null    int64 \n",
      " 17  bsmt_half_bath  878 non-null    int64 \n",
      "dtypes: int64(17), object(1)\n",
      "memory usage: 123.6+ KB\n"
     ]
    }
   ],
   "source": [
    "data_num.info()"
   ]
  },
  {
   "cell_type": "code",
   "execution_count": 261,
   "id": "c69b95ab-f3a2-4357-9adb-1ee9bf09b57a",
   "metadata": {},
   "outputs": [
    {
     "data": {
      "text/plain": [
       "TA    770\n",
       "Gd     84\n",
       "Fa     18\n",
       "Ex      5\n",
       "Po      1\n",
       "Name: exter_cond, dtype: int64"
      ]
     },
     "execution_count": 261,
     "metadata": {},
     "output_type": "execute_result"
    }
   ],
   "source": [
    "data_num['exter_cond'].value_counts()"
   ]
  },
  {
   "cell_type": "code",
   "execution_count": 262,
   "id": "29501440-9310-4c11-b827-1297b658a26c",
   "metadata": {},
   "outputs": [
    {
     "name": "stderr",
     "output_type": "stream",
     "text": [
      "<ipython-input-262-ab95d8f7ddd3>:1: SettingWithCopyWarning: \n",
      "A value is trying to be set on a copy of a slice from a DataFrame.\n",
      "Try using .loc[row_indexer,col_indexer] = value instead\n",
      "\n",
      "See the caveats in the documentation: https://pandas.pydata.org/pandas-docs/stable/user_guide/indexing.html#returning-a-view-versus-a-copy\n",
      "  data_num['exter_cond'] = [5 if a=='Ex' else 4 if a=='Gd' else 3 if a=='TA' else 2 if a=='Fa' else 1 for a in data_num['exter_cond']]\n"
     ]
    }
   ],
   "source": [
    "data_num['exter_cond'] = [5 if a=='Ex' else 4 if a=='Gd' else 3 if a=='TA' else 2 if a=='Fa' else 1 for a in data_num['exter_cond']]"
   ]
  },
  {
   "cell_type": "code",
   "execution_count": 263,
   "id": "f28ef3d4-aef4-4eec-957a-0db692f1fb1b",
   "metadata": {},
   "outputs": [],
   "source": [
    "sc = StandardScaler()"
   ]
  },
  {
   "cell_type": "code",
   "execution_count": 264,
   "id": "fd5eb44a-143f-4185-8603-524bb0620304",
   "metadata": {},
   "outputs": [],
   "source": [
    "data_num_Z = sc.fit_transform(data_num)"
   ]
  },
  {
   "cell_type": "code",
   "execution_count": 265,
   "id": "2e1315ed-c377-466f-8b36-95ac93afd005",
   "metadata": {},
   "outputs": [],
   "source": [
    "data_num_Z = pd.DataFrame(data_num_Z, columns=data_num.columns)"
   ]
  },
  {
   "cell_type": "code",
   "execution_count": 266,
   "id": "fbe3be39-01bc-4fd1-a7cc-c0ef5b81c3d5",
   "metadata": {},
   "outputs": [
    {
     "data": {
      "text/plain": [
       "(878, 18)"
      ]
     },
     "execution_count": 266,
     "metadata": {},
     "output_type": "execute_result"
    }
   ],
   "source": [
    "data_num_Z.shape"
   ]
  },
  {
   "cell_type": "code",
   "execution_count": 267,
   "id": "eddc5286-ec16-49c7-b643-3e7484d63231",
   "metadata": {},
   "outputs": [
    {
     "data": {
      "text/plain": [
       "(878, 48)"
      ]
     },
     "execution_count": 267,
     "metadata": {},
     "output_type": "execute_result"
    }
   ],
   "source": [
    "data_cat.shape"
   ]
  },
  {
   "cell_type": "code",
   "execution_count": 268,
   "id": "4e149cc3-197d-4564-9dc6-aa0881054a34",
   "metadata": {},
   "outputs": [],
   "source": [
    "# putting the categorical and numeric features together, alongside the \"ID\" column for the Kaggle submission\n",
    "data = pd.concat([data['id'], data_cat, data_num_Z], axis=1)"
   ]
  },
  {
   "cell_type": "code",
   "execution_count": 269,
   "id": "ca45ff5f-4650-4be2-9ed5-489f31c77f17",
   "metadata": {},
   "outputs": [
    {
     "data": {
      "text/html": [
       "<div>\n",
       "<style scoped>\n",
       "    .dataframe tbody tr th:only-of-type {\n",
       "        vertical-align: middle;\n",
       "    }\n",
       "\n",
       "    .dataframe tbody tr th {\n",
       "        vertical-align: top;\n",
       "    }\n",
       "\n",
       "    .dataframe thead th {\n",
       "        text-align: right;\n",
       "    }\n",
       "</style>\n",
       "<table border=\"1\" class=\"dataframe\">\n",
       "  <thead>\n",
       "    <tr style=\"text-align: right;\">\n",
       "      <th></th>\n",
       "      <th>id</th>\n",
       "      <th>house_style-split_level_VS_split_foyer</th>\n",
       "      <th>house_style-story_1_VS_split_level</th>\n",
       "      <th>house_style-story_1_half_unfin_VS_story_1</th>\n",
       "      <th>house_style-story_1_half_fin_VS_story_1_half_unfin</th>\n",
       "      <th>house_style-story_2_VS_story_1_half_fin</th>\n",
       "      <th>house_style-story_2_half_unfin_VS_story_2</th>\n",
       "      <th>house_style-story_2_half_fin_VS_story_2_half_unfin</th>\n",
       "      <th>heating-GasW_VS_GasA</th>\n",
       "      <th>heating-Grav_VS_GasW</th>\n",
       "      <th>...</th>\n",
       "      <th>bedroom_abvgr</th>\n",
       "      <th>kitchen_abvgr</th>\n",
       "      <th>totrms_abvgrd</th>\n",
       "      <th>fireplaces</th>\n",
       "      <th>wood_deck_sf</th>\n",
       "      <th>heating_qc</th>\n",
       "      <th>bsmtfin_sf_1</th>\n",
       "      <th>total_bsmt_sf</th>\n",
       "      <th>bsmt_full_bath</th>\n",
       "      <th>bsmt_half_bath</th>\n",
       "    </tr>\n",
       "  </thead>\n",
       "  <tbody>\n",
       "    <tr>\n",
       "      <th>0</th>\n",
       "      <td>2658</td>\n",
       "      <td>-0.875</td>\n",
       "      <td>-0.75</td>\n",
       "      <td>-0.625</td>\n",
       "      <td>-0.5</td>\n",
       "      <td>-0.375</td>\n",
       "      <td>-0.25</td>\n",
       "      <td>-0.125</td>\n",
       "      <td>-0.75</td>\n",
       "      <td>-0.5</td>\n",
       "      <td>...</td>\n",
       "      <td>1.349887</td>\n",
       "      <td>4.253806</td>\n",
       "      <td>1.595239</td>\n",
       "      <td>-0.924179</td>\n",
       "      <td>-0.771435</td>\n",
       "      <td>-0.135191</td>\n",
       "      <td>-1.007121</td>\n",
       "      <td>-0.034747</td>\n",
       "      <td>-0.830056</td>\n",
       "      <td>-0.24312</td>\n",
       "    </tr>\n",
       "    <tr>\n",
       "      <th>1</th>\n",
       "      <td>2718</td>\n",
       "      <td>0.125</td>\n",
       "      <td>-0.75</td>\n",
       "      <td>-0.625</td>\n",
       "      <td>-0.5</td>\n",
       "      <td>-0.375</td>\n",
       "      <td>-0.25</td>\n",
       "      <td>-0.125</td>\n",
       "      <td>-0.75</td>\n",
       "      <td>-0.5</td>\n",
       "      <td>...</td>\n",
       "      <td>3.758832</td>\n",
       "      <td>4.253806</td>\n",
       "      <td>2.221914</td>\n",
       "      <td>-0.924179</td>\n",
       "      <td>0.632217</td>\n",
       "      <td>-1.194990</td>\n",
       "      <td>-1.007121</td>\n",
       "      <td>2.257062</td>\n",
       "      <td>-0.830056</td>\n",
       "      <td>-0.24312</td>\n",
       "    </tr>\n",
       "    <tr>\n",
       "      <th>2</th>\n",
       "      <td>2414</td>\n",
       "      <td>-0.875</td>\n",
       "      <td>-0.75</td>\n",
       "      <td>-0.625</td>\n",
       "      <td>-0.5</td>\n",
       "      <td>-0.375</td>\n",
       "      <td>-0.25</td>\n",
       "      <td>-0.125</td>\n",
       "      <td>-0.75</td>\n",
       "      <td>-0.5</td>\n",
       "      <td>...</td>\n",
       "      <td>0.145415</td>\n",
       "      <td>-0.213708</td>\n",
       "      <td>0.341888</td>\n",
       "      <td>0.570166</td>\n",
       "      <td>0.054243</td>\n",
       "      <td>0.924608</td>\n",
       "      <td>0.257120</td>\n",
       "      <td>-0.920493</td>\n",
       "      <td>1.057998</td>\n",
       "      <td>-0.24312</td>\n",
       "    </tr>\n",
       "    <tr>\n",
       "      <th>3</th>\n",
       "      <td>1989</td>\n",
       "      <td>0.125</td>\n",
       "      <td>-0.75</td>\n",
       "      <td>-0.625</td>\n",
       "      <td>-0.5</td>\n",
       "      <td>-0.375</td>\n",
       "      <td>-0.25</td>\n",
       "      <td>-0.125</td>\n",
       "      <td>-0.75</td>\n",
       "      <td>-0.5</td>\n",
       "      <td>...</td>\n",
       "      <td>-1.059058</td>\n",
       "      <td>-0.213708</td>\n",
       "      <td>-0.911463</td>\n",
       "      <td>-0.924179</td>\n",
       "      <td>-0.771435</td>\n",
       "      <td>-1.194990</td>\n",
       "      <td>-1.007121</td>\n",
       "      <td>-0.160590</td>\n",
       "      <td>-0.830056</td>\n",
       "      <td>-0.24312</td>\n",
       "    </tr>\n",
       "    <tr>\n",
       "      <th>4</th>\n",
       "      <td>625</td>\n",
       "      <td>0.125</td>\n",
       "      <td>-0.75</td>\n",
       "      <td>-0.625</td>\n",
       "      <td>-0.5</td>\n",
       "      <td>-0.375</td>\n",
       "      <td>-0.25</td>\n",
       "      <td>-0.125</td>\n",
       "      <td>-0.75</td>\n",
       "      <td>-0.5</td>\n",
       "      <td>...</td>\n",
       "      <td>0.145415</td>\n",
       "      <td>-0.213708</td>\n",
       "      <td>-0.284788</td>\n",
       "      <td>2.064511</td>\n",
       "      <td>-0.771435</td>\n",
       "      <td>-0.135191</td>\n",
       "      <td>0.382631</td>\n",
       "      <td>0.870361</td>\n",
       "      <td>1.057998</td>\n",
       "      <td>-0.24312</td>\n",
       "    </tr>\n",
       "  </tbody>\n",
       "</table>\n",
       "<p>5 rows × 67 columns</p>\n",
       "</div>"
      ],
      "text/plain": [
       "     id  house_style-split_level_VS_split_foyer  \\\n",
       "0  2658                                  -0.875   \n",
       "1  2718                                   0.125   \n",
       "2  2414                                  -0.875   \n",
       "3  1989                                   0.125   \n",
       "4   625                                   0.125   \n",
       "\n",
       "   house_style-story_1_VS_split_level  \\\n",
       "0                               -0.75   \n",
       "1                               -0.75   \n",
       "2                               -0.75   \n",
       "3                               -0.75   \n",
       "4                               -0.75   \n",
       "\n",
       "   house_style-story_1_half_unfin_VS_story_1  \\\n",
       "0                                     -0.625   \n",
       "1                                     -0.625   \n",
       "2                                     -0.625   \n",
       "3                                     -0.625   \n",
       "4                                     -0.625   \n",
       "\n",
       "   house_style-story_1_half_fin_VS_story_1_half_unfin  \\\n",
       "0                                               -0.5    \n",
       "1                                               -0.5    \n",
       "2                                               -0.5    \n",
       "3                                               -0.5    \n",
       "4                                               -0.5    \n",
       "\n",
       "   house_style-story_2_VS_story_1_half_fin  \\\n",
       "0                                   -0.375   \n",
       "1                                   -0.375   \n",
       "2                                   -0.375   \n",
       "3                                   -0.375   \n",
       "4                                   -0.375   \n",
       "\n",
       "   house_style-story_2_half_unfin_VS_story_2  \\\n",
       "0                                      -0.25   \n",
       "1                                      -0.25   \n",
       "2                                      -0.25   \n",
       "3                                      -0.25   \n",
       "4                                      -0.25   \n",
       "\n",
       "   house_style-story_2_half_fin_VS_story_2_half_unfin  heating-GasW_VS_GasA  \\\n",
       "0                                             -0.125                  -0.75   \n",
       "1                                             -0.125                  -0.75   \n",
       "2                                             -0.125                  -0.75   \n",
       "3                                             -0.125                  -0.75   \n",
       "4                                             -0.125                  -0.75   \n",
       "\n",
       "   heating-Grav_VS_GasW  ...  bedroom_abvgr  kitchen_abvgr  totrms_abvgrd  \\\n",
       "0                  -0.5  ...       1.349887       4.253806       1.595239   \n",
       "1                  -0.5  ...       3.758832       4.253806       2.221914   \n",
       "2                  -0.5  ...       0.145415      -0.213708       0.341888   \n",
       "3                  -0.5  ...      -1.059058      -0.213708      -0.911463   \n",
       "4                  -0.5  ...       0.145415      -0.213708      -0.284788   \n",
       "\n",
       "   fireplaces  wood_deck_sf  heating_qc  bsmtfin_sf_1  total_bsmt_sf  \\\n",
       "0   -0.924179     -0.771435   -0.135191     -1.007121      -0.034747   \n",
       "1   -0.924179      0.632217   -1.194990     -1.007121       2.257062   \n",
       "2    0.570166      0.054243    0.924608      0.257120      -0.920493   \n",
       "3   -0.924179     -0.771435   -1.194990     -1.007121      -0.160590   \n",
       "4    2.064511     -0.771435   -0.135191      0.382631       0.870361   \n",
       "\n",
       "   bsmt_full_bath  bsmt_half_bath  \n",
       "0       -0.830056        -0.24312  \n",
       "1       -0.830056        -0.24312  \n",
       "2        1.057998        -0.24312  \n",
       "3       -0.830056        -0.24312  \n",
       "4        1.057998        -0.24312  \n",
       "\n",
       "[5 rows x 67 columns]"
      ]
     },
     "execution_count": 269,
     "metadata": {},
     "output_type": "execute_result"
    }
   ],
   "source": [
    "data.head()"
   ]
  },
  {
   "cell_type": "code",
   "execution_count": 270,
   "id": "73ad2ca1-eceb-45d0-b7db-61205d515204",
   "metadata": {},
   "outputs": [],
   "source": [
    "# save the test_df data frame\n",
    "data.to_csv('../data/test_df.csv', index=False)"
   ]
  },
  {
   "cell_type": "markdown",
   "id": "9eadd055-a05d-447f-b23e-1b3bc39f7021",
   "metadata": {},
   "source": [
    "---"
   ]
  }
 ],
 "metadata": {
  "kernelspec": {
   "display_name": "Python 3",
   "language": "python",
   "name": "python3"
  },
  "language_info": {
   "codemirror_mode": {
    "name": "ipython",
    "version": 3
   },
   "file_extension": ".py",
   "mimetype": "text/x-python",
   "name": "python",
   "nbconvert_exporter": "python",
   "pygments_lexer": "ipython3",
   "version": "3.8.8"
  }
 },
 "nbformat": 4,
 "nbformat_minor": 5
}
