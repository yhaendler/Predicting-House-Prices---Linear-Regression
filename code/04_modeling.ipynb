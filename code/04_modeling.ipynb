{
 "cells": [
  {
   "cell_type": "markdown",
   "id": "ec9cdb07-ca82-47a6-b8a5-d71c9729671f",
   "metadata": {},
   "source": [
    "## Modeling"
   ]
  },
  {
   "cell_type": "code",
   "execution_count": 77,
   "id": "51235609-d914-4176-ab33-aac4d89ea22f",
   "metadata": {},
   "outputs": [],
   "source": [
    "import pandas as pd\n",
    "import numpy as np\n",
    "import matplotlib.pyplot as plt\n",
    "import seaborn as sns\n",
    "\n",
    "from sklearn.linear_model import LinearRegression, Ridge, RidgeCV, Lasso, LassoCV\n",
    "from sklearn.model_selection import train_test_split, cross_val_score\n",
    "from sklearn.metrics import mean_squared_error, r2_score"
   ]
  },
  {
   "cell_type": "code",
   "execution_count": 78,
   "id": "a0141f15-c3df-4f23-97ea-78f3699ed836",
   "metadata": {},
   "outputs": [],
   "source": [
    "data = pd.read_csv('../data/data3.csv')"
   ]
  },
  {
   "cell_type": "code",
   "execution_count": 37,
   "id": "1d353739-1771-4b20-8977-b29c65497af0",
   "metadata": {},
   "outputs": [
    {
     "data": {
      "text/html": [
       "<div>\n",
       "<style scoped>\n",
       "    .dataframe tbody tr th:only-of-type {\n",
       "        vertical-align: middle;\n",
       "    }\n",
       "\n",
       "    .dataframe tbody tr th {\n",
       "        vertical-align: top;\n",
       "    }\n",
       "\n",
       "    .dataframe thead th {\n",
       "        text-align: right;\n",
       "    }\n",
       "</style>\n",
       "<table border=\"1\" class=\"dataframe\">\n",
       "  <thead>\n",
       "    <tr style=\"text-align: right;\">\n",
       "      <th></th>\n",
       "      <th>house_style-split_level_VS_split_foyer</th>\n",
       "      <th>house_style-story_1_VS_split_level</th>\n",
       "      <th>house_style-story_1_half_unfin_VS_story_1</th>\n",
       "      <th>house_style-story_1_half_fin_VS_story_1_half_unfin</th>\n",
       "      <th>house_style-story_2_VS_story_1_half_fin</th>\n",
       "      <th>house_style-story_2_half_unfin_VS_story_2</th>\n",
       "      <th>house_style-story_2_half_fin_VS_story_2_half_unfin</th>\n",
       "      <th>heating-GasW_VS_GasA</th>\n",
       "      <th>heating-Grav_VS_GasW</th>\n",
       "      <th>heating-Wall_VS_Grav</th>\n",
       "      <th>...</th>\n",
       "      <th>kitchen_abvgr</th>\n",
       "      <th>totrms_abvgrd</th>\n",
       "      <th>fireplaces</th>\n",
       "      <th>wood_deck_sf</th>\n",
       "      <th>heating_qc</th>\n",
       "      <th>bsmtfin_sf_1</th>\n",
       "      <th>total_bsmt_sf</th>\n",
       "      <th>bsmt_full_bath</th>\n",
       "      <th>bsmt_half_bath</th>\n",
       "      <th>saleprice</th>\n",
       "    </tr>\n",
       "  </thead>\n",
       "  <tbody>\n",
       "    <tr>\n",
       "      <th>0</th>\n",
       "      <td>-0.875</td>\n",
       "      <td>-0.75</td>\n",
       "      <td>-0.625</td>\n",
       "      <td>-0.5</td>\n",
       "      <td>-0.375</td>\n",
       "      <td>-0.25</td>\n",
       "      <td>-0.125</td>\n",
       "      <td>-0.8</td>\n",
       "      <td>-0.6</td>\n",
       "      <td>-0.4</td>\n",
       "      <td>...</td>\n",
       "      <td>-0.199992</td>\n",
       "      <td>-0.278128</td>\n",
       "      <td>-0.931714</td>\n",
       "      <td>-0.750407</td>\n",
       "      <td>0.871767</td>\n",
       "      <td>0.222219</td>\n",
       "      <td>-0.769570</td>\n",
       "      <td>-0.823172</td>\n",
       "      <td>-0.250759</td>\n",
       "      <td>130500</td>\n",
       "    </tr>\n",
       "    <tr>\n",
       "      <th>1</th>\n",
       "      <td>-0.875</td>\n",
       "      <td>-0.75</td>\n",
       "      <td>-0.625</td>\n",
       "      <td>-0.5</td>\n",
       "      <td>-0.375</td>\n",
       "      <td>-0.25</td>\n",
       "      <td>-0.125</td>\n",
       "      <td>-0.8</td>\n",
       "      <td>-0.6</td>\n",
       "      <td>-0.4</td>\n",
       "      <td>...</td>\n",
       "      <td>-0.199992</td>\n",
       "      <td>1.030746</td>\n",
       "      <td>0.657359</td>\n",
       "      <td>-0.750407</td>\n",
       "      <td>0.871767</td>\n",
       "      <td>0.459688</td>\n",
       "      <td>-0.328274</td>\n",
       "      <td>1.141040</td>\n",
       "      <td>-0.250759</td>\n",
       "      <td>220000</td>\n",
       "    </tr>\n",
       "    <tr>\n",
       "      <th>2</th>\n",
       "      <td>0.125</td>\n",
       "      <td>-0.75</td>\n",
       "      <td>-0.625</td>\n",
       "      <td>-0.5</td>\n",
       "      <td>-0.375</td>\n",
       "      <td>-0.25</td>\n",
       "      <td>-0.125</td>\n",
       "      <td>-0.8</td>\n",
       "      <td>-0.6</td>\n",
       "      <td>-0.4</td>\n",
       "      <td>...</td>\n",
       "      <td>-0.199992</td>\n",
       "      <td>-0.932564</td>\n",
       "      <td>-0.931714</td>\n",
       "      <td>-0.750407</td>\n",
       "      <td>-1.202315</td>\n",
       "      <td>0.674323</td>\n",
       "      <td>0.009740</td>\n",
       "      <td>1.141040</td>\n",
       "      <td>-0.250759</td>\n",
       "      <td>109000</td>\n",
       "    </tr>\n",
       "    <tr>\n",
       "      <th>3</th>\n",
       "      <td>-0.875</td>\n",
       "      <td>-0.75</td>\n",
       "      <td>-0.625</td>\n",
       "      <td>-0.5</td>\n",
       "      <td>-0.375</td>\n",
       "      <td>-0.25</td>\n",
       "      <td>-0.125</td>\n",
       "      <td>-0.8</td>\n",
       "      <td>-0.6</td>\n",
       "      <td>-0.4</td>\n",
       "      <td>...</td>\n",
       "      <td>-0.199992</td>\n",
       "      <td>0.376309</td>\n",
       "      <td>-0.931714</td>\n",
       "      <td>0.065353</td>\n",
       "      <td>-0.165274</td>\n",
       "      <td>-0.994809</td>\n",
       "      <td>-1.570005</td>\n",
       "      <td>-0.823172</td>\n",
       "      <td>-0.250759</td>\n",
       "      <td>174000</td>\n",
       "    </tr>\n",
       "    <tr>\n",
       "      <th>4</th>\n",
       "      <td>0.125</td>\n",
       "      <td>0.25</td>\n",
       "      <td>-0.625</td>\n",
       "      <td>-0.5</td>\n",
       "      <td>-0.375</td>\n",
       "      <td>-0.25</td>\n",
       "      <td>-0.125</td>\n",
       "      <td>-0.8</td>\n",
       "      <td>-0.6</td>\n",
       "      <td>-0.4</td>\n",
       "      <td>...</td>\n",
       "      <td>-0.199992</td>\n",
       "      <td>-0.278128</td>\n",
       "      <td>-0.931714</td>\n",
       "      <td>-0.750407</td>\n",
       "      <td>-1.202315</td>\n",
       "      <td>-0.994809</td>\n",
       "      <td>-0.884588</td>\n",
       "      <td>-0.823172</td>\n",
       "      <td>-0.250759</td>\n",
       "      <td>138500</td>\n",
       "    </tr>\n",
       "  </tbody>\n",
       "</table>\n",
       "<p>5 rows × 70 columns</p>\n",
       "</div>"
      ],
      "text/plain": [
       "   house_style-split_level_VS_split_foyer  house_style-story_1_VS_split_level  \\\n",
       "0                                  -0.875                               -0.75   \n",
       "1                                  -0.875                               -0.75   \n",
       "2                                   0.125                               -0.75   \n",
       "3                                  -0.875                               -0.75   \n",
       "4                                   0.125                                0.25   \n",
       "\n",
       "   house_style-story_1_half_unfin_VS_story_1  \\\n",
       "0                                     -0.625   \n",
       "1                                     -0.625   \n",
       "2                                     -0.625   \n",
       "3                                     -0.625   \n",
       "4                                     -0.625   \n",
       "\n",
       "   house_style-story_1_half_fin_VS_story_1_half_unfin  \\\n",
       "0                                               -0.5    \n",
       "1                                               -0.5    \n",
       "2                                               -0.5    \n",
       "3                                               -0.5    \n",
       "4                                               -0.5    \n",
       "\n",
       "   house_style-story_2_VS_story_1_half_fin  \\\n",
       "0                                   -0.375   \n",
       "1                                   -0.375   \n",
       "2                                   -0.375   \n",
       "3                                   -0.375   \n",
       "4                                   -0.375   \n",
       "\n",
       "   house_style-story_2_half_unfin_VS_story_2  \\\n",
       "0                                      -0.25   \n",
       "1                                      -0.25   \n",
       "2                                      -0.25   \n",
       "3                                      -0.25   \n",
       "4                                      -0.25   \n",
       "\n",
       "   house_style-story_2_half_fin_VS_story_2_half_unfin  heating-GasW_VS_GasA  \\\n",
       "0                                             -0.125                   -0.8   \n",
       "1                                             -0.125                   -0.8   \n",
       "2                                             -0.125                   -0.8   \n",
       "3                                             -0.125                   -0.8   \n",
       "4                                             -0.125                   -0.8   \n",
       "\n",
       "   heating-Grav_VS_GasW  heating-Wall_VS_Grav  ...  kitchen_abvgr  \\\n",
       "0                  -0.6                  -0.4  ...      -0.199992   \n",
       "1                  -0.6                  -0.4  ...      -0.199992   \n",
       "2                  -0.6                  -0.4  ...      -0.199992   \n",
       "3                  -0.6                  -0.4  ...      -0.199992   \n",
       "4                  -0.6                  -0.4  ...      -0.199992   \n",
       "\n",
       "   totrms_abvgrd  fireplaces  wood_deck_sf  heating_qc  bsmtfin_sf_1  \\\n",
       "0      -0.278128   -0.931714     -0.750407    0.871767      0.222219   \n",
       "1       1.030746    0.657359     -0.750407    0.871767      0.459688   \n",
       "2      -0.932564   -0.931714     -0.750407   -1.202315      0.674323   \n",
       "3       0.376309   -0.931714      0.065353   -0.165274     -0.994809   \n",
       "4      -0.278128   -0.931714     -0.750407   -1.202315     -0.994809   \n",
       "\n",
       "   total_bsmt_sf  bsmt_full_bath  bsmt_half_bath  saleprice  \n",
       "0      -0.769570       -0.823172       -0.250759     130500  \n",
       "1      -0.328274        1.141040       -0.250759     220000  \n",
       "2       0.009740        1.141040       -0.250759     109000  \n",
       "3      -1.570005       -0.823172       -0.250759     174000  \n",
       "4      -0.884588       -0.823172       -0.250759     138500  \n",
       "\n",
       "[5 rows x 70 columns]"
      ]
     },
     "execution_count": 37,
     "metadata": {},
     "output_type": "execute_result"
    }
   ],
   "source": [
    "data.head()"
   ]
  },
  {
   "cell_type": "code",
   "execution_count": 38,
   "id": "390bee71-0baf-4c6a-a63d-2d26f9f1f34e",
   "metadata": {},
   "outputs": [
    {
     "data": {
      "text/plain": [
       "(2033, 70)"
      ]
     },
     "execution_count": 38,
     "metadata": {},
     "output_type": "execute_result"
    }
   ],
   "source": [
    "data.shape"
   ]
  },
  {
   "cell_type": "markdown",
   "id": "813ebe19-0719-4815-9210-8fd8f5d78fa5",
   "metadata": {},
   "source": [
    "---"
   ]
  },
  {
   "cell_type": "markdown",
   "id": "b0288d02-b543-4a06-b42b-892aa1b6fade",
   "metadata": {},
   "source": [
    "#### Define X and y"
   ]
  },
  {
   "cell_type": "code",
   "execution_count": 79,
   "id": "361972a1-cb09-4451-b476-8048f9c9b97f",
   "metadata": {},
   "outputs": [],
   "source": [
    "X = data.drop(columns=['saleprice'])"
   ]
  },
  {
   "cell_type": "code",
   "execution_count": 80,
   "id": "366c48f9-b7f1-4fc2-bd05-5306802d039c",
   "metadata": {},
   "outputs": [],
   "source": [
    "# we take the log transformed y\n",
    "y = data['saleprice']\n",
    "# y = np.log(data['saleprice']) # using the log-transformed sale price yielded predictions that, when exponentiated,\n",
    "                                # result in infinity."
   ]
  },
  {
   "cell_type": "markdown",
   "id": "d6de24ab-ca58-4a44-9683-089fcb5f4de1",
   "metadata": {},
   "source": [
    "---"
   ]
  },
  {
   "cell_type": "markdown",
   "id": "d4315bc9-7d35-4739-b44c-d6f8cf2edf2b",
   "metadata": {},
   "source": [
    "#### Train-test split"
   ]
  },
  {
   "cell_type": "code",
   "execution_count": 81,
   "id": "4c924111-9d05-41fd-9164-ae3dfe3f2272",
   "metadata": {},
   "outputs": [],
   "source": [
    "X_train, X_test, y_train, y_test = train_test_split(X, y, random_state=42, train_size=2/3)"
   ]
  },
  {
   "cell_type": "code",
   "execution_count": 82,
   "id": "f2fad173-ef46-42c6-bd40-af16d25099f1",
   "metadata": {},
   "outputs": [
    {
     "name": "stdout",
     "output_type": "stream",
     "text": [
      "(1355, 69)\n",
      "(678, 69)\n"
     ]
    }
   ],
   "source": [
    "print(X_train.shape)\n",
    "print(X_test.shape)"
   ]
  },
  {
   "cell_type": "markdown",
   "id": "ee3967f4-95ab-4527-8996-33b7e6f8a5a8",
   "metadata": {},
   "source": [
    "---"
   ]
  },
  {
   "cell_type": "markdown",
   "id": "f4ec84a5-a1bd-46f4-9cf1-5142761710ef",
   "metadata": {},
   "source": [
    "#### Baseline"
   ]
  },
  {
   "cell_type": "code",
   "execution_count": 93,
   "id": "6b282472-807b-44bb-bb6b-a8a9563aefc7",
   "metadata": {},
   "outputs": [],
   "source": [
    "baseline_train = np.mean(y_train)\n",
    "baseline_test = np.mean(y_test)"
   ]
  },
  {
   "cell_type": "code",
   "execution_count": 94,
   "id": "b57129f5-9f43-4373-a6c2-0bfd9b5c27ec",
   "metadata": {},
   "outputs": [],
   "source": [
    "baseline_train_preds = y_train - baseline_train\n",
    "baseline_test_preds = y_test - baseline_test"
   ]
  },
  {
   "cell_type": "code",
   "execution_count": 96,
   "id": "92a7979f-6407-4b11-8ec7-e4fca2276cbb",
   "metadata": {},
   "outputs": [
    {
     "name": "stdout",
     "output_type": "stream",
     "text": [
      "181085.9660516605\n",
      "181701.1283185841\n"
     ]
    }
   ],
   "source": [
    "# baseline RMSE\n",
    "print(mean_squared_error(y_train, baseline_train_preds, squared=False))\n",
    "print(mean_squared_error(y_test, baseline_test_preds, squared=False))"
   ]
  },
  {
   "cell_type": "code",
   "execution_count": 97,
   "id": "e1e5187a-7d39-4ee0-aa67-0cf2626c7c3d",
   "metadata": {},
   "outputs": [
    {
     "name": "stdout",
     "output_type": "stream",
     "text": [
      "-4.0539105815638194\n",
      "-4.659876738878608\n"
     ]
    }
   ],
   "source": [
    "# baseline R2 score\n",
    "print(r2_score(y_train, baseline_train_preds))\n",
    "print(r2_score(y_test, baseline_test_preds))"
   ]
  },
  {
   "cell_type": "markdown",
   "id": "88c2580e-c0d1-4e5d-b416-7e34ec7a8adf",
   "metadata": {},
   "source": [
    "---"
   ]
  },
  {
   "cell_type": "markdown",
   "id": "f80b5ce1-a8f1-49d3-9a47-cb1b1de14bbb",
   "metadata": {},
   "source": [
    "#### **Linear Regression** "
   ]
  },
  {
   "cell_type": "code",
   "execution_count": 104,
   "id": "71ffbee3-0f66-40ef-86db-484b1057799a",
   "metadata": {},
   "outputs": [],
   "source": [
    "lr = LinearRegression().fit(X=X_train, y=y_train)"
   ]
  },
  {
   "cell_type": "code",
   "execution_count": 105,
   "id": "8c4d76a0-ce14-4642-bbb9-8a0856e06de5",
   "metadata": {},
   "outputs": [],
   "source": [
    "# predictions for train and test data\n",
    "train_preds = lr.predict(X_train)\n",
    "test_preds = lr.predict(X_test)"
   ]
  },
  {
   "cell_type": "code",
   "execution_count": 106,
   "id": "c40dc78c-aebd-4150-81ef-d78af73eaccb",
   "metadata": {},
   "outputs": [
    {
     "name": "stdout",
     "output_type": "stream",
     "text": [
      "868329764.5785978\n"
     ]
    }
   ],
   "source": [
    "# RMSE for train data\n",
    "print(mean_squared_error(y_train, train_preds))"
   ]
  },
  {
   "cell_type": "code",
   "execution_count": 107,
   "id": "9a399f87-4893-4bf3-8bf8-68eb0c6028c0",
   "metadata": {},
   "outputs": [
    {
     "name": "stdout",
     "output_type": "stream",
     "text": [
      "948793045.0073746\n"
     ]
    }
   ],
   "source": [
    "# RMSE for test data\n",
    "print(mean_squared_error(y_test, test_preds))"
   ]
  },
  {
   "cell_type": "code",
   "execution_count": 108,
   "id": "1c746c76-e977-4d58-a925-fc8e3b5756ed",
   "metadata": {},
   "outputs": [
    {
     "data": {
      "text/plain": [
       "0.8661733356914476"
      ]
     },
     "execution_count": 108,
     "metadata": {},
     "output_type": "execute_result"
    }
   ],
   "source": [
    "# score for train data\n",
    "lr.score(X_train, y_train)"
   ]
  },
  {
   "cell_type": "code",
   "execution_count": 109,
   "id": "e5bc5a4e-bf5d-4075-bdb5-a66e70d55c74",
   "metadata": {},
   "outputs": [
    {
     "data": {
      "text/plain": [
       "0.8373465732493108"
      ]
     },
     "execution_count": 109,
     "metadata": {},
     "output_type": "execute_result"
    }
   ],
   "source": [
    "# score for test data\n",
    "lr.score(X_test, y_test)"
   ]
  },
  {
   "cell_type": "markdown",
   "id": "7e45c92c-1692-4127-9dcd-9fed9512aafa",
   "metadata": {},
   "source": [
    "---"
   ]
  },
  {
   "cell_type": "markdown",
   "id": "27acb0ce-612e-4b8a-be49-a8b5ab35e6ca",
   "metadata": {},
   "source": [
    "#### Cross Validation Linear Regression"
   ]
  },
  {
   "cell_type": "code",
   "execution_count": 102,
   "id": "5e56a2af-1847-4b97-bd68-e4006b62e563",
   "metadata": {},
   "outputs": [
    {
     "data": {
      "text/plain": [
       "array([ 8.41033119e-01,  8.55300896e-01, -1.15117402e+19, -9.26971883e+20,\n",
       "        8.39219046e-01])"
      ]
     },
     "execution_count": 102,
     "metadata": {},
     "output_type": "execute_result"
    }
   ],
   "source": [
    "cvs = cross_val_score(lr, X, y)\n",
    "cvs"
   ]
  },
  {
   "cell_type": "code",
   "execution_count": 103,
   "id": "b594cb8c-a39f-40aa-9ac5-2cfd6f6c754a",
   "metadata": {},
   "outputs": [
    {
     "data": {
      "text/plain": [
       "-1.876967246137614e+20"
      ]
     },
     "execution_count": 103,
     "metadata": {},
     "output_type": "execute_result"
    }
   ],
   "source": [
    "cvs.mean()"
   ]
  },
  {
   "cell_type": "markdown",
   "id": "9c51eb30-d49c-4969-baa4-07dcc4e46b2d",
   "metadata": {},
   "source": [
    "---"
   ]
  },
  {
   "cell_type": "markdown",
   "id": "063dadcc-e246-4f00-87b3-e482c9f13c20",
   "metadata": {},
   "source": [
    "#### **Ridge**"
   ]
  },
  {
   "cell_type": "code",
   "execution_count": 110,
   "id": "68c60700-f8ca-425b-be5c-0b39182418bb",
   "metadata": {},
   "outputs": [
    {
     "data": {
      "text/plain": [
       "RidgeCV(alphas=array([   1.        ,    1.00693863,    1.01392541,    1.02096066,\n",
       "          1.02804473,    1.03517796,    1.04236067,    1.04959323,\n",
       "          1.05687597,    1.06420924,    1.0715934 ,    1.07902879,\n",
       "          1.08651577,    1.09405471,    1.10164595,    1.10928986,\n",
       "          1.11698682,    1.12473718,    1.13254132,    1.1403996 ,\n",
       "          1.14831241,    1.15628013,    1.16430313,    1.1723818 ,\n",
       "          1.18051653,    1.1887077 ,    1.1969557 ,    1.20526094,\n",
       "          1.2136238 ,    1.22204469,    1.230524  ,    1.2...\n",
       "        829.69585208,  835.45280584,  841.24970497,  847.08682666,\n",
       "        852.96444997,  858.88285595,  864.84232757,  870.84314977,\n",
       "        876.88560946,  882.96999555,  889.09659895,  895.2657126 ,\n",
       "        901.47763145,  907.73265252,  914.03107488,  920.37319966,\n",
       "        926.75933011,  933.18977157,  939.6648315 ,  946.18481947,\n",
       "        952.75004724,  959.36082871,  966.01747995,  972.72031925,\n",
       "        979.46966707,  986.26584613,  993.10918137, 1000.        ]),\n",
       "        cv=5, scoring='r2')"
      ]
     },
     "execution_count": 110,
     "metadata": {},
     "output_type": "execute_result"
    }
   ],
   "source": [
    "# defining a range for possible alpha values\n",
    "ridge_alphas = np.logspace(0, 3, 1000)\n",
    "\n",
    "# Cross-validate over our list of ridge alphas.\n",
    "ridge_cv = RidgeCV(alphas = ridge_alphas, \n",
    "                   scoring = 'r2',\n",
    "                   cv = 5)\n",
    "\n",
    "# fitting the model with the best alpha\n",
    "ridge_cv.fit(X_train, y_train)"
   ]
  },
  {
   "cell_type": "code",
   "execution_count": 111,
   "id": "7da4389f-dcd9-4146-b657-6d8b7fdbc521",
   "metadata": {},
   "outputs": [
    {
     "data": {
      "text/plain": [
       "6.789406812696109"
      ]
     },
     "execution_count": 111,
     "metadata": {},
     "output_type": "execute_result"
    }
   ],
   "source": [
    "# best alpha\n",
    "ridge_cv.alpha_"
   ]
  },
  {
   "cell_type": "code",
   "execution_count": 112,
   "id": "4c75e851-aba7-4860-942f-84ffa159c491",
   "metadata": {},
   "outputs": [
    {
     "name": "stdout",
     "output_type": "stream",
     "text": [
      "0.866805610345701\n",
      "0.8391801906968066\n"
     ]
    }
   ],
   "source": [
    "# R2 score\n",
    "print(ridge_cv.score(X_train, y_train))\n",
    "print(ridge_cv.score(X_test, y_test))"
   ]
  },
  {
   "cell_type": "code",
   "execution_count": 113,
   "id": "96bf6a28-ca03-4f97-837f-2a070319d423",
   "metadata": {},
   "outputs": [
    {
     "data": {
      "text/plain": [
       "29397.742633850834"
      ]
     },
     "execution_count": 113,
     "metadata": {},
     "output_type": "execute_result"
    }
   ],
   "source": [
    "# RMSE for train data\n",
    "ridge_cv_preds_train = ridge_cv.predict(X_train)\n",
    "mean_squared_error(y_train, ridge_cv_preds_train, squared=False)"
   ]
  },
  {
   "cell_type": "code",
   "execution_count": 114,
   "id": "1c313302-103a-466d-9aae-6c87f3a47d6c",
   "metadata": {},
   "outputs": [
    {
     "data": {
      "text/plain": [
       "30628.37170068714"
      ]
     },
     "execution_count": 114,
     "metadata": {},
     "output_type": "execute_result"
    }
   ],
   "source": [
    "# RMSE for test data\n",
    "ridge_cv_preds_test = ridge_cv.predict(X_test)\n",
    "mean_squared_error(y_test, ridge_cv_preds_test, squared=False)"
   ]
  },
  {
   "cell_type": "code",
   "execution_count": 137,
   "id": "37898cbd-9915-4a8b-a1d7-a24dfc8cf7c8",
   "metadata": {},
   "outputs": [
    {
     "data": {
      "text/plain": [
       "house_style-split_level_VS_split_foyer                -7515.946971\n",
       "house_style-story_1_VS_split_level                     1176.521090\n",
       "house_style-story_1_half_unfin_VS_story_1              8090.829385\n",
       "house_style-story_1_half_fin_VS_story_1_half_unfin    -2941.422531\n",
       "house_style-story_2_VS_story_1_half_fin               -4899.346635\n",
       "house_style-story_2_half_unfin_VS_story_2              3948.047353\n",
       "house_style-story_2_half_fin_VS_story_2_half_unfin    -4131.581866\n",
       "heating-GasW_VS_GasA                                  -5225.789681\n",
       "heating-Grav_VS_GasW                                  -1408.742849\n",
       "heating-Wall_VS_Grav                                   3795.061234\n",
       "heating-OthW_VS_Wall                                  -5963.576875\n",
       "central_air_VS_no_central_air                          1451.256317\n",
       "electrical-FuseA_VS_SBrkr                              5985.438800\n",
       "electrical-FuseF_VS_FuseA                             -1751.571892\n",
       "electrical-FuseP_VS_FuseF                              4056.005929\n",
       "paved_drive-P_VS_N                                    -3077.674480\n",
       "paved_drive-Y_VS_P                                     1858.462680\n",
       "garage_finish-Unf_VS_no_garage                         3021.959826\n",
       "garage_finish-RFn_VS_Unf                               3803.935545\n",
       "garage_finish-Fin_VS_RFn                              -9411.865760\n",
       "fence-MnWw_VS_no_fence                                -1707.673919\n",
       "fence-GdWo_VS_MnWw                                    -3228.113418\n",
       "fence-MnPrv_VS_GdWo                                    2220.054188\n",
       "fence-GdPrv_VS_MnPrv                                    849.270297\n",
       "bsmtfin_type_1-Unf_VS_no_basement                      1081.594608\n",
       "bsmtfin_type_1-LwQ_VS_Unf                             -3025.005104\n",
       "bsmtfin_type_1-Rec_VS_LwQ                              6894.593667\n",
       "bsmtfin_type_1-BLQ_VS_Rec                             21150.686559\n",
       "bsmtfin_type_1-ALQ_VS_BLQ                            -24479.542799\n",
       "bsmtfin_type_1-GLQ_VS_ALQ                             -2655.301969\n",
       "bsmt_cond-1_VS_no_basement                             9068.279819\n",
       "bsmt_cond-2_VS_1                                      20750.494661\n",
       "bsmt_cond-3_VS_2                                     -24879.734698\n",
       "bsmt_cond-4_VS_3                                       5525.574966\n",
       "bsmt_cond-5_VS_4                                      -2899.324956\n",
       "fireplace_qu-1_VS_no_fireplace                        -6108.438365\n",
       "fireplace_qu-2_VS_1                                    2882.252869\n",
       "fireplace_qu-3_VS_2                                    -309.817793\n",
       "fireplace_qu-4_VS_3                                    5677.446141\n",
       "fireplace_qu-5_VS_4                                  -18770.360900\n",
       "garage_qual-1_VS_no_garage                             6079.353033\n",
       "garage_qual-2_VS_1                                    10432.871447\n",
       "garage_qual-3_VS_2                                    19844.737207\n",
       "garage_qual-4_VS_3                                     2537.586423\n",
       "garage_qual-5_VS_4                                    -7462.336856\n",
       "garage_cond-1_VS_no_garage                            -3104.832353\n",
       "garage_cond-2_VS_1                                    -9214.989217\n",
       "garage_cond-3_VS_2                                      196.876543\n",
       "garage_cond-4_VS_3                                     -789.368487\n",
       "garage_cond-5_VS_4                                    -3583.419574\n",
       "pool_VS_no_pool                                        7592.536253\n",
       "overall_qual                                          17693.774522\n",
       "overall_cond                                           3853.566788\n",
       "year_remod/add                                          570.371340\n",
       "exter_qual                                            10700.496154\n",
       "exter_cond                                             -228.603496\n",
       "kitchen_qual                                          10370.084927\n",
       "full_bath                                              6657.013416\n",
       "half_bath                                              7044.524671\n",
       "bedroom_abvgr                                         -1855.821624\n",
       "kitchen_abvgr                                         -6646.519820\n",
       "totrms_abvgrd                                         15346.076108\n",
       "fireplaces                                             7574.122756\n",
       "wood_deck_sf                                           2792.397560\n",
       "heating_qc                                             1437.024039\n",
       "bsmtfin_sf_1                                          10369.295036\n",
       "total_bsmt_sf                                         23439.003528\n",
       "bsmt_full_bath                                         2335.678073\n",
       "bsmt_half_bath                                          366.367185\n",
       "dtype: float64"
      ]
     },
     "execution_count": 137,
     "metadata": {},
     "output_type": "execute_result"
    }
   ],
   "source": [
    "pd.set_option('display.max_rows', 80)\n",
    "pd.Series(data=ridge_cv.coef_, index=X_train.columns)"
   ]
  },
  {
   "cell_type": "markdown",
   "id": "8a272f27-494f-4949-a689-7b0f3af8a2bd",
   "metadata": {},
   "source": [
    "---"
   ]
  },
  {
   "cell_type": "markdown",
   "id": "caeadada-47d1-4beb-9906-8de54bc4302b",
   "metadata": {},
   "source": [
    "#### **Lasso**"
   ]
  },
  {
   "cell_type": "code",
   "execution_count": 115,
   "id": "bd687b0b-cad2-4ff8-aedb-de4bbbbd1583",
   "metadata": {},
   "outputs": [
    {
     "data": {
      "text/plain": [
       "LassoCV(alphas=array([0.001     , 0.00100694, 0.00101393, 0.00102096, 0.00102804,\n",
       "       0.00103518, 0.00104236, 0.00104959, 0.00105688, 0.00106421,\n",
       "       0.00107159, 0.00107903, 0.00108652, 0.00109405, 0.00110165,\n",
       "       0.00110929, 0.00111699, 0.00112474, 0.00113254, 0.0011404 ,\n",
       "       0.00114831, 0.00115628, 0.0011643 , 0.00117238, 0.00118052,\n",
       "       0.00118871, 0.00119696, 0.00120526, 0.00121362, 0.00122204,\n",
       "       0.001...\n",
       "       0.79049276, 0.7959777 , 0.8015007 , 0.80706201, 0.81266192,\n",
       "       0.81830068, 0.82397857, 0.82969585, 0.83545281, 0.8412497 ,\n",
       "       0.84708683, 0.85296445, 0.85888286, 0.86484233, 0.87084315,\n",
       "       0.87688561, 0.88297   , 0.8890966 , 0.89526571, 0.90147763,\n",
       "       0.90773265, 0.91403107, 0.9203732 , 0.92675933, 0.93318977,\n",
       "       0.93966483, 0.94618482, 0.95275005, 0.95936083, 0.96601748,\n",
       "       0.97272032, 0.97946967, 0.98626585, 0.99310918, 1.        ]),\n",
       "        cv=5, max_iter=5000, tol=0.015)"
      ]
     },
     "execution_count": 115,
     "metadata": {},
     "output_type": "execute_result"
    }
   ],
   "source": [
    "# set up a range for possible alpha values\n",
    "l_alphas = np.logspace(-3, 0, 1000)\n",
    "\n",
    "# Cross-validate over our list of Lasso alphas.\n",
    "lasso_cv = LassoCV(alphas = l_alphas,\n",
    "                 cv = 5,\n",
    "                 max_iter = 5000,\n",
    "                 tol = 0.015)\n",
    "\n",
    "# Fit model using best ridge alpha\n",
    "lasso_cv.fit(X_train, y_train)"
   ]
  },
  {
   "cell_type": "code",
   "execution_count": 116,
   "id": "d9ef17f2-b0e3-4ec8-982f-16b6cc991d78",
   "metadata": {},
   "outputs": [
    {
     "data": {
      "text/plain": [
       "0.24231727942375983"
      ]
     },
     "execution_count": 116,
     "metadata": {},
     "output_type": "execute_result"
    }
   ],
   "source": [
    "# best alpha\n",
    "lasso_cv.alpha_"
   ]
  },
  {
   "cell_type": "code",
   "execution_count": 121,
   "id": "0ca28933-7283-4c34-acfc-e282ae8b5acc",
   "metadata": {},
   "outputs": [
    {
     "name": "stdout",
     "output_type": "stream",
     "text": [
      "0.870085010826267\n",
      "0.8403838640888341\n"
     ]
    }
   ],
   "source": [
    "# R2 score\n",
    "print(lasso_cv.score(X_train, y_train))\n",
    "print(lasso_cv.score(X_test, y_test))"
   ]
  },
  {
   "cell_type": "code",
   "execution_count": 122,
   "id": "e7989d08-18a5-4c83-93c8-fbb14e8fbcc8",
   "metadata": {},
   "outputs": [
    {
     "data": {
      "text/plain": [
       "29033.583887736986"
      ]
     },
     "execution_count": 122,
     "metadata": {},
     "output_type": "execute_result"
    }
   ],
   "source": [
    "# RMSE for train data\n",
    "lasso_cv_preds_train = lasso_cv.predict(X_train)\n",
    "mean_squared_error(y_train, lasso_cv_preds_train, squared=False)"
   ]
  },
  {
   "cell_type": "code",
   "execution_count": 123,
   "id": "b82d0856-b9ff-42d5-95c4-276379dcb5aa",
   "metadata": {},
   "outputs": [
    {
     "data": {
      "text/plain": [
       "30513.53572828504"
      ]
     },
     "execution_count": 123,
     "metadata": {},
     "output_type": "execute_result"
    }
   ],
   "source": [
    "# RMSE for test data\n",
    "lasso_cv_preds_test = lasso_cv.predict(X_test)\n",
    "mean_squared_error(y_test, lasso_cv_preds_test, squared=False)"
   ]
  },
  {
   "cell_type": "code",
   "execution_count": 124,
   "id": "ffbe51a3-e63e-4614-8280-aec629b75eba",
   "metadata": {},
   "outputs": [
    {
     "data": {
      "text/plain": [
       "house_style-split_level_VS_split_foyer                -11251.926232\n",
       "house_style-story_1_VS_split_level                      3675.422084\n",
       "house_style-story_1_half_unfin_VS_story_1               8910.888593\n",
       "house_style-story_1_half_fin_VS_story_1_half_unfin     -2786.130753\n",
       "house_style-story_2_VS_story_1_half_fin               -13231.754471\n",
       "house_style-story_2_half_unfin_VS_story_2              -2278.924802\n",
       "house_style-story_2_half_fin_VS_story_2_half_unfin      4668.987723\n",
       "heating-GasW_VS_GasA                                   -7440.093664\n",
       "heating-Grav_VS_GasW                                  -10918.503841\n",
       "heating-Wall_VS_Grav                                   18857.975938\n",
       "heating-OthW_VS_Wall                                  -47386.843878\n",
       "central_air_VS_no_central_air                           2152.501590\n",
       "electrical-FuseA_VS_SBrkr                               7190.971881\n",
       "electrical-FuseF_VS_FuseA                              -3359.240323\n",
       "electrical-FuseP_VS_FuseF                              10437.475361\n",
       "paved_drive-P_VS_N                                     -3569.420715\n",
       "paved_drive-Y_VS_P                                       978.116261\n",
       "garage_finish-Unf_VS_no_garage                          2928.753056\n",
       "garage_finish-RFn_VS_Unf                                4578.620598\n",
       "garage_finish-Fin_VS_RFn                               -3407.516545\n",
       "fence-MnWw_VS_no_fence                                 -1546.631004\n",
       "fence-GdWo_VS_MnWw                                     -5836.351268\n",
       "fence-MnPrv_VS_GdWo                                     6419.489410\n",
       "fence-GdPrv_VS_MnPrv                                     260.932566\n",
       "bsmtfin_type_1-Unf_VS_no_basement                       2377.549490\n",
       "bsmtfin_type_1-LwQ_VS_Unf                              -4484.110776\n",
       "bsmtfin_type_1-Rec_VS_LwQ                               6507.516682\n",
       "bsmtfin_type_1-BLQ_VS_Rec                              18479.938617\n",
       "bsmtfin_type_1-ALQ_VS_BLQ                             -22268.034183\n",
       "bsmtfin_type_1-GLQ_VS_ALQ                               -383.267669\n",
       "bsmt_cond-1_VS_no_basement                              7797.693634\n",
       "bsmt_cond-2_VS_1                                       40728.113919\n",
       "bsmt_cond-3_VS_2                                      -48165.409761\n",
       "bsmt_cond-4_VS_3                                       24661.229731\n",
       "bsmt_cond-5_VS_4                                      -26130.579841\n",
       "fireplace_qu-1_VS_no_fireplace                         -6672.892696\n",
       "fireplace_qu-2_VS_1                                     3999.092548\n",
       "fireplace_qu-3_VS_2                                    -3329.427245\n",
       "fireplace_qu-4_VS_3                                    17847.495414\n",
       "fireplace_qu-5_VS_4                                   -32488.728414\n",
       "garage_qual-1_VS_no_garage                              3943.808600\n",
       "garage_qual-2_VS_1                                        -0.000000\n",
       "garage_qual-3_VS_2                                     43751.060745\n",
       "garage_qual-4_VS_3                                    103390.870554\n",
       "garage_qual-5_VS_4                                   -181396.841432\n",
       "garage_cond-1_VS_no_garage                              -513.012363\n",
       "garage_cond-2_VS_1                                     -6547.551008\n",
       "garage_cond-3_VS_2                                      5477.321687\n",
       "garage_cond-4_VS_3                                    -19051.708053\n",
       "garage_cond-5_VS_4                                   -118925.289339\n",
       "pool_VS_no_pool                                        28851.528321\n",
       "overall_qual                                           17605.824978\n",
       "overall_cond                                            3826.777927\n",
       "year_remod/add                                           647.669218\n",
       "exter_qual                                             10092.100533\n",
       "exter_cond                                                57.582915\n",
       "kitchen_qual                                            9597.850864\n",
       "full_bath                                               6392.007359\n",
       "half_bath                                               6795.692337\n",
       "bedroom_abvgr                                          -1687.829374\n",
       "kitchen_abvgr                                          -7627.831657\n",
       "totrms_abvgrd                                          14510.636130\n",
       "fireplaces                                              7230.535919\n",
       "wood_deck_sf                                            2702.043574\n",
       "heating_qc                                              1294.929208\n",
       "bsmtfin_sf_1                                           10463.839656\n",
       "total_bsmt_sf                                          25814.704340\n",
       "bsmt_full_bath                                          2471.004238\n",
       "bsmt_half_bath                                           525.121981\n",
       "dtype: float64"
      ]
     },
     "execution_count": 124,
     "metadata": {},
     "output_type": "execute_result"
    }
   ],
   "source": [
    "# printing out the coefficients -- those zeroed out by Lasso are variables that do not contribute to the model\n",
    "# fit and can be excluded\n",
    "\n",
    "pd.set_option('display.max_rows', 80)\n",
    "pd.Series(data=lasso_cv.coef_, index=X_train.columns)"
   ]
  },
  {
   "cell_type": "code",
   "execution_count": 125,
   "id": "c79763cc-8337-48f5-9b2d-f0ccfbc6b4f3",
   "metadata": {},
   "outputs": [],
   "source": [
    "coldrop = [\n",
    "\n",
    "# drop bsmtfin_type_1 - redundant with bsmt_cond\n",
    "'bsmtfin_type_1-Unf_VS_no_basement',\n",
    "'bsmtfin_type_1-LwQ_VS_Unf',\n",
    "'bsmtfin_type_1-Rec_VS_LwQ',\n",
    "'bsmtfin_type_1-BLQ_VS_Rec',\n",
    "'bsmtfin_type_1-ALQ_VS_BLQ',\n",
    "'bsmtfin_type_1-GLQ_VS_ALQ',\n",
    "\n",
    "# drop garage_qual - redandant with garage_cond and one comparison resulted as 0\n",
    "'garage_qual-1_VS_no_garage',\n",
    "'garage_qual-2_VS_1',\n",
    "'garage_qual-3_VS_2',\n",
    "'garage_qual-4_VS_3',\n",
    "'garage_qual-5_VS_4',\n",
    "\n",
    "# drop bsmtfin_sf_1 - redundant with total_bsmt_sf\n",
    "'bsmtfin_sf_1',\n",
    "    \n",
    "# these features cannot be easily manipulated / modified by the house owners\n",
    "'house_style-split_level_VS_split_foyer',\n",
    "'house_style-story_1_VS_split_level',\n",
    "'house_style-story_1_half_unfin_VS_story_1',\n",
    "'house_style-story_1_half_fin_VS_story_1_half_unfin',\n",
    "'house_style-story_2_VS_story_1_half_fin',\n",
    "'house_style-story_2_half_unfin_VS_story_2',\n",
    "'house_style-story_2_half_fin_VS_story_2_half_unfin',\n",
    "    \n",
    "# excluding columns so that we can run the model with the Kaggle test data (some features there are slightly different)\n",
    "'heating-Wall_VS_Grav',\n",
    "'heating-OthW_VS_Wall',\n",
    "'bsmt_cond-4_VS_3',\n",
    "'bsmt_cond-5_VS_4'\n",
    "]"
   ]
  },
  {
   "cell_type": "code",
   "execution_count": 126,
   "id": "46d4d770-5d13-41af-b190-5023ac38e672",
   "metadata": {},
   "outputs": [],
   "source": [
    "# drop the parameters that came out as 0 in the Lasso regression\n",
    "# drop also the parameters of columns that don't make much sense in the context of our goal\n",
    "X_ss = X.drop(columns = coldrop)\n",
    "y_ss = y"
   ]
  },
  {
   "cell_type": "code",
   "execution_count": 127,
   "id": "8b23096e-f634-4622-b60b-332e0bec2c2d",
   "metadata": {},
   "outputs": [],
   "source": [
    "X_ss_train, X_ss_test, y_ss_train, y_ss_test = train_test_split(X_ss, y_ss, random_state=42, train_size=2/3)"
   ]
  },
  {
   "cell_type": "code",
   "execution_count": 128,
   "id": "15f7485a-b1ab-41f5-9e27-8095ac0222d9",
   "metadata": {},
   "outputs": [
    {
     "data": {
      "text/plain": [
       "(1355, 46)"
      ]
     },
     "execution_count": 128,
     "metadata": {},
     "output_type": "execute_result"
    }
   ],
   "source": [
    "X_ss_train.shape"
   ]
  },
  {
   "cell_type": "code",
   "execution_count": 129,
   "id": "3b26151c-900b-4b0f-975e-96efda9ec2ea",
   "metadata": {},
   "outputs": [
    {
     "data": {
      "text/plain": [
       "Index(['heating-GasW_VS_GasA', 'heating-Grav_VS_GasW',\n",
       "       'central_air_VS_no_central_air', 'electrical-FuseA_VS_SBrkr',\n",
       "       'electrical-FuseF_VS_FuseA', 'electrical-FuseP_VS_FuseF',\n",
       "       'paved_drive-P_VS_N', 'paved_drive-Y_VS_P',\n",
       "       'garage_finish-Unf_VS_no_garage', 'garage_finish-RFn_VS_Unf',\n",
       "       'garage_finish-Fin_VS_RFn', 'fence-MnWw_VS_no_fence',\n",
       "       'fence-GdWo_VS_MnWw', 'fence-MnPrv_VS_GdWo', 'fence-GdPrv_VS_MnPrv',\n",
       "       'bsmt_cond-1_VS_no_basement', 'bsmt_cond-2_VS_1', 'bsmt_cond-3_VS_2',\n",
       "       'fireplace_qu-1_VS_no_fireplace', 'fireplace_qu-2_VS_1',\n",
       "       'fireplace_qu-3_VS_2', 'fireplace_qu-4_VS_3', 'fireplace_qu-5_VS_4',\n",
       "       'garage_cond-1_VS_no_garage', 'garage_cond-2_VS_1',\n",
       "       'garage_cond-3_VS_2', 'garage_cond-4_VS_3', 'garage_cond-5_VS_4',\n",
       "       'pool_VS_no_pool', 'overall_qual', 'overall_cond', 'year_remod/add',\n",
       "       'exter_qual', 'exter_cond', 'kitchen_qual', 'full_bath', 'half_bath',\n",
       "       'bedroom_abvgr', 'kitchen_abvgr', 'totrms_abvgrd', 'fireplaces',\n",
       "       'wood_deck_sf', 'heating_qc', 'total_bsmt_sf', 'bsmt_full_bath',\n",
       "       'bsmt_half_bath'],\n",
       "      dtype='object')"
      ]
     },
     "execution_count": 129,
     "metadata": {},
     "output_type": "execute_result"
    }
   ],
   "source": [
    "X_ss_train.columns"
   ]
  },
  {
   "cell_type": "code",
   "execution_count": 130,
   "id": "2337cc82-dff2-4ad3-b508-1a0ba3f6e7e0",
   "metadata": {},
   "outputs": [
    {
     "data": {
      "text/plain": [
       "LassoCV(alphas=array([0.001     , 0.00100694, 0.00101393, 0.00102096, 0.00102804,\n",
       "       0.00103518, 0.00104236, 0.00104959, 0.00105688, 0.00106421,\n",
       "       0.00107159, 0.00107903, 0.00108652, 0.00109405, 0.00110165,\n",
       "       0.00110929, 0.00111699, 0.00112474, 0.00113254, 0.0011404 ,\n",
       "       0.00114831, 0.00115628, 0.0011643 , 0.00117238, 0.00118052,\n",
       "       0.00118871, 0.00119696, 0.00120526, 0.00121362, 0.00122204,\n",
       "       0.001...\n",
       "       0.79049276, 0.7959777 , 0.8015007 , 0.80706201, 0.81266192,\n",
       "       0.81830068, 0.82397857, 0.82969585, 0.83545281, 0.8412497 ,\n",
       "       0.84708683, 0.85296445, 0.85888286, 0.86484233, 0.87084315,\n",
       "       0.87688561, 0.88297   , 0.8890966 , 0.89526571, 0.90147763,\n",
       "       0.90773265, 0.91403107, 0.9203732 , 0.92675933, 0.93318977,\n",
       "       0.93966483, 0.94618482, 0.95275005, 0.95936083, 0.96601748,\n",
       "       0.97272032, 0.97946967, 0.98626585, 0.99310918, 1.        ]),\n",
       "        cv=5, max_iter=5000, tol=0.015)"
      ]
     },
     "execution_count": 130,
     "metadata": {},
     "output_type": "execute_result"
    }
   ],
   "source": [
    "# set up a range for possible alpha values\n",
    "l_alphas = np.logspace(-3, 0, 1000)\n",
    "\n",
    "# Cross-validate over our list of Lasso alphas.\n",
    "lasso_cv = LassoCV(alphas = l_alphas,\n",
    "                 cv = 5,\n",
    "                 max_iter = 5000,\n",
    "                 tol = 0.015)\n",
    "\n",
    "# Fit model using best ridge alpha\n",
    "lasso_cv.fit(X_ss_train, y_ss_train)"
   ]
  },
  {
   "cell_type": "code",
   "execution_count": 131,
   "id": "c279af27-118e-4ae7-888c-cf94ab3839e0",
   "metadata": {},
   "outputs": [
    {
     "data": {
      "text/plain": [
       "1.0"
      ]
     },
     "execution_count": 131,
     "metadata": {},
     "output_type": "execute_result"
    }
   ],
   "source": [
    "# best alpha\n",
    "lasso_cv.alpha_"
   ]
  },
  {
   "cell_type": "code",
   "execution_count": 132,
   "id": "7c060f9a-e538-4057-be5d-44591c8c485f",
   "metadata": {},
   "outputs": [
    {
     "data": {
      "text/plain": [
       "heating-GasW_VS_GasA              -7732.526777\n",
       "heating-Grav_VS_GasW              -3365.938848\n",
       "central_air_VS_no_central_air      2952.693646\n",
       "electrical-FuseA_VS_SBrkr          5845.572400\n",
       "electrical-FuseF_VS_FuseA         -2659.307576\n",
       "electrical-FuseP_VS_FuseF         12336.560272\n",
       "paved_drive-P_VS_N                -4071.244694\n",
       "paved_drive-Y_VS_P                  149.334123\n",
       "garage_finish-Unf_VS_no_garage     3114.890043\n",
       "garage_finish-RFn_VS_Unf           5096.309329\n",
       "garage_finish-Fin_VS_RFn           -425.856454\n",
       "fence-MnWw_VS_no_fence             -585.609913\n",
       "fence-GdWo_VS_MnWw                -5224.342276\n",
       "fence-MnPrv_VS_GdWo                5093.204616\n",
       "fence-GdPrv_VS_MnPrv               8461.766795\n",
       "bsmt_cond-1_VS_no_basement         7220.736314\n",
       "bsmt_cond-2_VS_1                  62076.575552\n",
       "bsmt_cond-3_VS_2                 -66707.606453\n",
       "fireplace_qu-1_VS_no_fireplace    -9282.357216\n",
       "fireplace_qu-2_VS_1                2044.974754\n",
       "fireplace_qu-3_VS_2                1083.736814\n",
       "fireplace_qu-4_VS_3               16510.056695\n",
       "fireplace_qu-5_VS_4              -34777.950253\n",
       "garage_cond-1_VS_no_garage         1873.263812\n",
       "garage_cond-2_VS_1                -9501.146592\n",
       "garage_cond-3_VS_2                 4479.694999\n",
       "garage_cond-4_VS_3                13098.843399\n",
       "garage_cond-5_VS_4                 7360.802747\n",
       "pool_VS_no_pool                   24045.485708\n",
       "overall_qual                      18259.348363\n",
       "overall_cond                       4414.627388\n",
       "year_remod/add                      249.396990\n",
       "exter_qual                        10269.508191\n",
       "exter_cond                          296.450316\n",
       "kitchen_qual                      10078.928699\n",
       "full_bath                          7247.799682\n",
       "half_bath                          8811.442994\n",
       "bedroom_abvgr                     -2061.564552\n",
       "kitchen_abvgr                     -7890.138830\n",
       "totrms_abvgrd                     15794.305122\n",
       "fireplaces                        10027.289544\n",
       "wood_deck_sf                       2798.922136\n",
       "heating_qc                         1176.695756\n",
       "total_bsmt_sf                     25781.170048\n",
       "bsmt_full_bath                     8234.399558\n",
       "bsmt_half_bath                     1544.054811\n",
       "dtype: float64"
      ]
     },
     "execution_count": 132,
     "metadata": {},
     "output_type": "execute_result"
    }
   ],
   "source": [
    "# printing out the coefficients -- those zeroed out by Lasso are variables that do not contribute to the model\n",
    "# fit and can be excluded\n",
    "\n",
    "pd.set_option('display.max_rows', 80)\n",
    "pd.Series(data=lasso_cv.coef_, index=X_ss_train.columns)"
   ]
  },
  {
   "cell_type": "code",
   "execution_count": 143,
   "id": "60cd466d-2e1d-4482-a9b4-2900e6aab97d",
   "metadata": {},
   "outputs": [],
   "source": [
    "# saving the coefficients as a data frame\n",
    "\n",
    "coef_df = pd.DataFrame({\n",
    "    'columns' : X_ss_train.columns,\n",
    "    'coefficients' : lasso_cv.coef_\n",
    "}).sort_values('coefficients', ascending=False)\n",
    "\n",
    "coef_df.to_csv('../data/coef_df.csv')"
   ]
  },
  {
   "cell_type": "code",
   "execution_count": 133,
   "id": "761a0fe1-d478-49b2-8bf8-c8ebad80808a",
   "metadata": {},
   "outputs": [
    {
     "data": {
      "text/plain": [
       "30487.775002320624"
      ]
     },
     "execution_count": 133,
     "metadata": {},
     "output_type": "execute_result"
    }
   ],
   "source": [
    "# RMSE for train data\n",
    "lasso_cv_preds_train = lasso_cv.predict(X_ss_train)\n",
    "mean_squared_error(y_ss_train, lasso_cv_preds_train, squared=False)"
   ]
  },
  {
   "cell_type": "code",
   "execution_count": 134,
   "id": "61dbc64c-faa4-46b3-bf81-587c0d1b78ff",
   "metadata": {},
   "outputs": [
    {
     "data": {
      "text/plain": [
       "31609.755849491023"
      ]
     },
     "execution_count": 134,
     "metadata": {},
     "output_type": "execute_result"
    }
   ],
   "source": [
    "# RMSE for test data\n",
    "lasso_cv_preds_test = lasso_cv.predict(X_ss_test)\n",
    "mean_squared_error(y_ss_test, lasso_cv_preds_test, squared=False)"
   ]
  },
  {
   "cell_type": "code",
   "execution_count": 136,
   "id": "2bab0fad-8aa6-4f12-b4fd-794502a917f5",
   "metadata": {},
   "outputs": [
    {
     "name": "stdout",
     "output_type": "stream",
     "text": [
      "0.8567451195646016\n",
      "0.8287092118510822\n"
     ]
    }
   ],
   "source": [
    "# R2 scores\n",
    "print(lasso_cv.score(X_ss_train, y_ss_train))\n",
    "print(lasso_cv.score(X_ss_test, y_ss_test))"
   ]
  },
  {
   "cell_type": "code",
   "execution_count": 76,
   "id": "428a0bc2-1854-4e65-937a-c5f0aeb8b2ae",
   "metadata": {},
   "outputs": [
    {
     "data": {
      "image/png": "[encoded data removed]",
      "text/plain": [
       "<Figure size 864x648 with 1 Axes>"
      ]
     },
     "metadata": {
      "needs_background": "light"
     },
     "output_type": "display_data"
    }
   ],
   "source": [
    "plt.figure(figsize=(12,9))\n",
    "sns.scatterplot(y=y_ss_train, x=lasso_cv_preds_train);\n",
    "plt.xlabel('Predicted Sale Price from Lasso Regression model', fontsize=20);\n",
    "plt.ylabel('Actual Sale Price', fontsize=20);\n",
    "plt.xticks(size=14);\n",
    "plt.yticks(size=14);"
   ]
  },
  {
   "cell_type": "markdown",
   "id": "ee87427d-2a27-4deb-bbb6-788161b219f5",
   "metadata": {},
   "source": [
    "---"
   ]
  },
  {
   "cell_type": "code",
   "execution_count": 99,
   "id": "5a4245c9-9b31-427a-8c80-d87244b811d4",
   "metadata": {},
   "outputs": [],
   "source": [
    "# read test data\n",
    "test = pd.read_csv('../data/test_df.csv')"
   ]
  },
  {
   "cell_type": "code",
   "execution_count": 100,
   "id": "cb786acb-73c3-4fc9-8d97-b4f8fef7d59c",
   "metadata": {},
   "outputs": [
    {
     "data": {
      "text/plain": [
       "(878, 67)"
      ]
     },
     "execution_count": 100,
     "metadata": {},
     "output_type": "execute_result"
    }
   ],
   "source": [
    "test.shape"
   ]
  },
  {
   "cell_type": "code",
   "execution_count": 101,
   "id": "ff6d2329-eb0b-4dd8-a798-f38622bbda37",
   "metadata": {},
   "outputs": [
    {
     "data": {
      "text/plain": [
       "Index(['id', 'house_style-split_level_VS_split_foyer',\n",
       "       'house_style-story_1_VS_split_level',\n",
       "       'house_style-story_1_half_unfin_VS_story_1',\n",
       "       'house_style-story_1_half_fin_VS_story_1_half_unfin',\n",
       "       'house_style-story_2_VS_story_1_half_fin',\n",
       "       'house_style-story_2_half_unfin_VS_story_2',\n",
       "       'house_style-story_2_half_fin_VS_story_2_half_unfin',\n",
       "       'heating-GasW_VS_GasA', 'heating-Grav_VS_GasW', 'heating-Floor_VS_Grav',\n",
       "       'central_air_VS_no_central_air', 'electrical-FuseA_VS_SBrkr',\n",
       "       'electrical-FuseF_VS_FuseA', 'electrical-FuseP_VS_FuseF',\n",
       "       'electrical_3', 'paved_drive-P_VS_N', 'paved_drive-Y_VS_P',\n",
       "       'garage_finish-Unf_VS_no_garage', 'garage_finish-RFn_VS_Unf',\n",
       "       'garage_finish-Fin_VS_RFn', 'fence-MnWw_VS_no_fence',\n",
       "       'fence-GdWo_VS_MnWw', 'fence-MnPrv_VS_GdWo', 'fence-GdPrv_VS_MnPrv',\n",
       "       'bsmtfin_type_1-Unf_VS_no_basement', 'bsmtfin_type_1-LwQ_VS_Unf',\n",
       "       'bsmtfin_type_1-Rec_VS_LwQ', 'bsmtfin_type_1-BLQ_VS_Rec',\n",
       "       'bsmtfin_type_1-ALQ_VS_BLQ', 'bsmtfin_type_1-GLQ_VS_ALQ',\n",
       "       'bsmt_cond-2_VS_no_basement', 'bsmt_cond-3_VS_2', 'bsmt_cond-4_VS_3',\n",
       "       'fireplace_qu-1_VS_no_fireplace', 'fireplace_qu-2_VS_1',\n",
       "       'fireplace_qu-3_VS_2', 'fireplace_qu-4_VS_3', 'fireplace_qu-5_VS_4',\n",
       "       'garage_qual-1_VS_no_garage', 'garage_qual-2_VS_1',\n",
       "       'garage_qual-3_VS_2', 'garage_qual-4_VS_3',\n",
       "       'garage_cond-1_VS_no_garage', 'garage_cond-2_VS_1',\n",
       "       'garage_cond-3_VS_2', 'garage_cond-4_VS_3', 'garage_cond-5_VS_4',\n",
       "       'pool_VS_no_pool', 'overall_qual', 'overall_cond', 'year_remod/add',\n",
       "       'exter_qual', 'exter_cond', 'kitchen_qual', 'full_bath', 'half_bath',\n",
       "       'bedroom_abvgr', 'kitchen_abvgr', 'totrms_abvgrd', 'fireplaces',\n",
       "       'wood_deck_sf', 'heating_qc', 'bsmtfin_sf_1', 'total_bsmt_sf',\n",
       "       'bsmt_full_bath', 'bsmt_half_bath'],\n",
       "      dtype='object')"
      ]
     },
     "execution_count": 101,
     "metadata": {},
     "output_type": "execute_result"
    }
   ],
   "source": [
    "test.columns"
   ]
  },
  {
   "cell_type": "code",
   "execution_count": 102,
   "id": "9f4b1730-529f-4910-8781-7aea5f9dc1c4",
   "metadata": {},
   "outputs": [],
   "source": [
    "coldrop = [\n",
    "\n",
    "# drop bsmtfin_type_1 - collinear with bsmt_cond\n",
    "'bsmtfin_type_1-Unf_VS_no_basement',\n",
    "'bsmtfin_type_1-LwQ_VS_Unf',\n",
    "'bsmtfin_type_1-Rec_VS_LwQ',\n",
    "'bsmtfin_type_1-BLQ_VS_Rec',\n",
    "'bsmtfin_type_1-ALQ_VS_BLQ',\n",
    "'bsmtfin_type_1-GLQ_VS_ALQ',\n",
    "\n",
    "# drop garage_qual - collinear with garage_cond\n",
    "'garage_qual-1_VS_no_garage',\n",
    "'garage_qual-2_VS_1',\n",
    "'garage_qual-3_VS_2',\n",
    "'garage_qual-4_VS_3',\n",
    "\n",
    "# drop bsmtfin_sf_1 - collinear with total_bsmt_sf\n",
    "'bsmtfin_sf_1',\n",
    "    \n",
    "# these features cannot be easily manipulated / modified by the house owners\n",
    "'house_style-split_level_VS_split_foyer',\n",
    "'house_style-story_1_VS_split_level',\n",
    "'house_style-story_1_half_unfin_VS_story_1',\n",
    "'house_style-story_1_half_fin_VS_story_1_half_unfin',\n",
    "'house_style-story_2_VS_story_1_half_fin',\n",
    "'house_style-story_2_half_unfin_VS_story_2',\n",
    "'house_style-story_2_half_fin_VS_story_2_half_unfin',\n",
    "\n",
    "'electrical_3',\n",
    "'heating-Floor_VS_Grav',\n",
    "    \n",
    "# ID\n",
    "'id'\n",
    "]"
   ]
  },
  {
   "cell_type": "code",
   "execution_count": 103,
   "id": "06c7d943-b2e8-4879-8dbc-ad298a35dd2f",
   "metadata": {},
   "outputs": [],
   "source": [
    "X = test.drop(columns = coldrop)"
   ]
  },
  {
   "cell_type": "code",
   "execution_count": 104,
   "id": "fa63dadc-6924-4f92-9c71-148d761d2428",
   "metadata": {},
   "outputs": [],
   "source": [
    "X.rename(columns = {'bsmt_cond-2_VS_no_basement' : 'bsmt_cond-1_VS_no_basement',\n",
    "                   'bsmt_cond-3_VS_2' : 'bsmt_cond-2_VS_1',\n",
    "                   'bsmt_cond-4_VS_3' : 'bsmt_cond-3_VS_2'}, inplace=True)"
   ]
  },
  {
   "cell_type": "code",
   "execution_count": 105,
   "id": "691c201c-393c-47d0-aafe-0f25c22f56c0",
   "metadata": {},
   "outputs": [
    {
     "data": {
      "text/plain": [
       "(878, 46)"
      ]
     },
     "execution_count": 105,
     "metadata": {},
     "output_type": "execute_result"
    }
   ],
   "source": [
    "X.shape"
   ]
  },
  {
   "cell_type": "code",
   "execution_count": 106,
   "id": "1eae4c0e-eef6-443d-97df-75b02456c5f9",
   "metadata": {},
   "outputs": [
    {
     "data": {
      "text/plain": [
       "46"
      ]
     },
     "execution_count": 106,
     "metadata": {},
     "output_type": "execute_result"
    }
   ],
   "source": [
    "len(X_ss_train.columns)"
   ]
  },
  {
   "cell_type": "code",
   "execution_count": 107,
   "id": "c23429fe-0991-4e86-b55a-a5cabf5be34e",
   "metadata": {},
   "outputs": [
    {
     "data": {
      "text/plain": [
       "46"
      ]
     },
     "execution_count": 107,
     "metadata": {},
     "output_type": "execute_result"
    }
   ],
   "source": [
    "len(X.columns)"
   ]
  },
  {
   "cell_type": "code",
   "execution_count": 108,
   "id": "a1e2b25d-c086-45ed-980f-459d1712310e",
   "metadata": {},
   "outputs": [],
   "source": [
    "for col in X.columns:\n",
    "    if col not in X_ss_train:\n",
    "        print(col)\n",
    "        print('------')"
   ]
  },
  {
   "cell_type": "code",
   "execution_count": 109,
   "id": "b3497c44-5da3-4d86-8449-ee00205ea2a5",
   "metadata": {},
   "outputs": [
    {
     "data": {
      "text/html": [
       "<div>\n",
       "<style scoped>\n",
       "    .dataframe tbody tr th:only-of-type {\n",
       "        vertical-align: middle;\n",
       "    }\n",
       "\n",
       "    .dataframe tbody tr th {\n",
       "        vertical-align: top;\n",
       "    }\n",
       "\n",
       "    .dataframe thead th {\n",
       "        text-align: right;\n",
       "    }\n",
       "</style>\n",
       "<table border=\"1\" class=\"dataframe\">\n",
       "  <thead>\n",
       "    <tr style=\"text-align: right;\">\n",
       "      <th></th>\n",
       "      <th>heating-GasW_VS_GasA</th>\n",
       "      <th>heating-Grav_VS_GasW</th>\n",
       "      <th>central_air_VS_no_central_air</th>\n",
       "      <th>electrical-FuseA_VS_SBrkr</th>\n",
       "      <th>electrical-FuseF_VS_FuseA</th>\n",
       "      <th>electrical-FuseP_VS_FuseF</th>\n",
       "      <th>paved_drive-P_VS_N</th>\n",
       "      <th>paved_drive-Y_VS_P</th>\n",
       "      <th>garage_finish-Unf_VS_no_garage</th>\n",
       "      <th>garage_finish-RFn_VS_Unf</th>\n",
       "      <th>garage_finish-Fin_VS_RFn</th>\n",
       "      <th>fence-MnWw_VS_no_fence</th>\n",
       "      <th>fence-GdWo_VS_MnWw</th>\n",
       "      <th>fence-MnPrv_VS_GdWo</th>\n",
       "      <th>fence-GdPrv_VS_MnPrv</th>\n",
       "      <th>bsmt_cond-1_VS_no_basement</th>\n",
       "      <th>bsmt_cond-2_VS_1</th>\n",
       "      <th>bsmt_cond-3_VS_2</th>\n",
       "      <th>fireplace_qu-1_VS_no_fireplace</th>\n",
       "      <th>fireplace_qu-2_VS_1</th>\n",
       "      <th>fireplace_qu-3_VS_2</th>\n",
       "      <th>fireplace_qu-4_VS_3</th>\n",
       "      <th>fireplace_qu-5_VS_4</th>\n",
       "      <th>garage_cond-1_VS_no_garage</th>\n",
       "      <th>garage_cond-2_VS_1</th>\n",
       "      <th>garage_cond-3_VS_2</th>\n",
       "      <th>garage_cond-4_VS_3</th>\n",
       "      <th>garage_cond-5_VS_4</th>\n",
       "      <th>pool_VS_no_pool</th>\n",
       "      <th>overall_qual</th>\n",
       "      <th>overall_cond</th>\n",
       "      <th>year_remod/add</th>\n",
       "      <th>exter_qual</th>\n",
       "      <th>exter_cond</th>\n",
       "      <th>kitchen_qual</th>\n",
       "      <th>full_bath</th>\n",
       "      <th>half_bath</th>\n",
       "      <th>bedroom_abvgr</th>\n",
       "      <th>kitchen_abvgr</th>\n",
       "      <th>totrms_abvgrd</th>\n",
       "      <th>fireplaces</th>\n",
       "      <th>wood_deck_sf</th>\n",
       "      <th>heating_qc</th>\n",
       "      <th>total_bsmt_sf</th>\n",
       "      <th>bsmt_full_bath</th>\n",
       "      <th>bsmt_half_bath</th>\n",
       "    </tr>\n",
       "  </thead>\n",
       "  <tbody>\n",
       "    <tr>\n",
       "      <th>0</th>\n",
       "      <td>-0.75</td>\n",
       "      <td>-0.5</td>\n",
       "      <td>-0.5</td>\n",
       "      <td>-0.8</td>\n",
       "      <td>-0.6</td>\n",
       "      <td>-0.4</td>\n",
       "      <td>-0.666667</td>\n",
       "      <td>-0.333333</td>\n",
       "      <td>-0.75</td>\n",
       "      <td>-0.5</td>\n",
       "      <td>-0.25</td>\n",
       "      <td>-0.8</td>\n",
       "      <td>-0.6</td>\n",
       "      <td>-0.4</td>\n",
       "      <td>-0.2</td>\n",
       "      <td>-0.75</td>\n",
       "      <td>-0.5</td>\n",
       "      <td>-0.25</td>\n",
       "      <td>-0.833333</td>\n",
       "      <td>-0.666667</td>\n",
       "      <td>-0.5</td>\n",
       "      <td>-0.333333</td>\n",
       "      <td>-0.166667</td>\n",
       "      <td>-0.833333</td>\n",
       "      <td>-0.666667</td>\n",
       "      <td>-0.5</td>\n",
       "      <td>-0.333333</td>\n",
       "      <td>-0.166667</td>\n",
       "      <td>-0.5</td>\n",
       "      <td>-0.036625</td>\n",
       "      <td>2.157251</td>\n",
       "      <td>-1.683931</td>\n",
       "      <td>-0.678056</td>\n",
       "      <td>-2.935812</td>\n",
       "      <td>-2.280707</td>\n",
       "      <td>0.823523</td>\n",
       "      <td>-0.788376</td>\n",
       "      <td>1.349887</td>\n",
       "      <td>4.253806</td>\n",
       "      <td>1.595239</td>\n",
       "      <td>-0.924179</td>\n",
       "      <td>-0.771435</td>\n",
       "      <td>-0.135191</td>\n",
       "      <td>-0.034747</td>\n",
       "      <td>-0.830056</td>\n",
       "      <td>-0.24312</td>\n",
       "    </tr>\n",
       "    <tr>\n",
       "      <th>1</th>\n",
       "      <td>-0.75</td>\n",
       "      <td>-0.5</td>\n",
       "      <td>0.5</td>\n",
       "      <td>0.2</td>\n",
       "      <td>-0.6</td>\n",
       "      <td>-0.4</td>\n",
       "      <td>-0.666667</td>\n",
       "      <td>-0.333333</td>\n",
       "      <td>0.25</td>\n",
       "      <td>-0.5</td>\n",
       "      <td>-0.25</td>\n",
       "      <td>-0.8</td>\n",
       "      <td>-0.6</td>\n",
       "      <td>-0.4</td>\n",
       "      <td>-0.2</td>\n",
       "      <td>-0.75</td>\n",
       "      <td>-0.5</td>\n",
       "      <td>-0.25</td>\n",
       "      <td>-0.833333</td>\n",
       "      <td>-0.666667</td>\n",
       "      <td>-0.5</td>\n",
       "      <td>-0.333333</td>\n",
       "      <td>-0.166667</td>\n",
       "      <td>0.166667</td>\n",
       "      <td>-0.666667</td>\n",
       "      <td>-0.5</td>\n",
       "      <td>-0.333333</td>\n",
       "      <td>-0.166667</td>\n",
       "      <td>-0.5</td>\n",
       "      <td>-0.767467</td>\n",
       "      <td>-1.388030</td>\n",
       "      <td>-0.362932</td>\n",
       "      <td>-0.678056</td>\n",
       "      <td>-0.228204</td>\n",
       "      <td>-0.755604</td>\n",
       "      <td>0.823523</td>\n",
       "      <td>-0.788376</td>\n",
       "      <td>3.758832</td>\n",
       "      <td>4.253806</td>\n",
       "      <td>2.221914</td>\n",
       "      <td>-0.924179</td>\n",
       "      <td>0.632217</td>\n",
       "      <td>-1.194990</td>\n",
       "      <td>2.257062</td>\n",
       "      <td>-0.830056</td>\n",
       "      <td>-0.24312</td>\n",
       "    </tr>\n",
       "    <tr>\n",
       "      <th>2</th>\n",
       "      <td>-0.75</td>\n",
       "      <td>-0.5</td>\n",
       "      <td>0.5</td>\n",
       "      <td>0.2</td>\n",
       "      <td>-0.6</td>\n",
       "      <td>-0.4</td>\n",
       "      <td>-0.666667</td>\n",
       "      <td>-0.333333</td>\n",
       "      <td>0.25</td>\n",
       "      <td>0.5</td>\n",
       "      <td>-0.25</td>\n",
       "      <td>-0.8</td>\n",
       "      <td>-0.6</td>\n",
       "      <td>-0.4</td>\n",
       "      <td>-0.2</td>\n",
       "      <td>0.25</td>\n",
       "      <td>-0.5</td>\n",
       "      <td>-0.25</td>\n",
       "      <td>0.166667</td>\n",
       "      <td>-0.666667</td>\n",
       "      <td>-0.5</td>\n",
       "      <td>-0.333333</td>\n",
       "      <td>-0.166667</td>\n",
       "      <td>0.166667</td>\n",
       "      <td>-0.666667</td>\n",
       "      <td>-0.5</td>\n",
       "      <td>-0.333333</td>\n",
       "      <td>-0.166667</td>\n",
       "      <td>-0.5</td>\n",
       "      <td>0.694217</td>\n",
       "      <td>-0.501710</td>\n",
       "      <td>1.055919</td>\n",
       "      <td>1.109731</td>\n",
       "      <td>-0.228204</td>\n",
       "      <td>0.769500</td>\n",
       "      <td>0.823523</td>\n",
       "      <td>1.189322</td>\n",
       "      <td>0.145415</td>\n",
       "      <td>-0.213708</td>\n",
       "      <td>0.341888</td>\n",
       "      <td>0.570166</td>\n",
       "      <td>0.054243</td>\n",
       "      <td>0.924608</td>\n",
       "      <td>-0.920493</td>\n",
       "      <td>1.057998</td>\n",
       "      <td>-0.24312</td>\n",
       "    </tr>\n",
       "    <tr>\n",
       "      <th>3</th>\n",
       "      <td>-0.75</td>\n",
       "      <td>-0.5</td>\n",
       "      <td>0.5</td>\n",
       "      <td>0.2</td>\n",
       "      <td>-0.6</td>\n",
       "      <td>-0.4</td>\n",
       "      <td>0.333333</td>\n",
       "      <td>-0.333333</td>\n",
       "      <td>-0.75</td>\n",
       "      <td>-0.5</td>\n",
       "      <td>-0.25</td>\n",
       "      <td>-0.8</td>\n",
       "      <td>-0.6</td>\n",
       "      <td>-0.4</td>\n",
       "      <td>-0.2</td>\n",
       "      <td>-0.75</td>\n",
       "      <td>-0.5</td>\n",
       "      <td>-0.25</td>\n",
       "      <td>-0.833333</td>\n",
       "      <td>-0.666667</td>\n",
       "      <td>-0.5</td>\n",
       "      <td>-0.333333</td>\n",
       "      <td>-0.166667</td>\n",
       "      <td>0.166667</td>\n",
       "      <td>-0.666667</td>\n",
       "      <td>-0.5</td>\n",
       "      <td>-0.333333</td>\n",
       "      <td>-0.166667</td>\n",
       "      <td>-0.5</td>\n",
       "      <td>-0.767467</td>\n",
       "      <td>0.384611</td>\n",
       "      <td>1.055919</td>\n",
       "      <td>1.109731</td>\n",
       "      <td>-0.228204</td>\n",
       "      <td>-0.755604</td>\n",
       "      <td>-0.966213</td>\n",
       "      <td>-0.788376</td>\n",
       "      <td>-1.059058</td>\n",
       "      <td>-0.213708</td>\n",
       "      <td>-0.911463</td>\n",
       "      <td>-0.924179</td>\n",
       "      <td>-0.771435</td>\n",
       "      <td>-1.194990</td>\n",
       "      <td>-0.160590</td>\n",
       "      <td>-0.830056</td>\n",
       "      <td>-0.24312</td>\n",
       "    </tr>\n",
       "    <tr>\n",
       "      <th>4</th>\n",
       "      <td>-0.75</td>\n",
       "      <td>-0.5</td>\n",
       "      <td>0.5</td>\n",
       "      <td>0.2</td>\n",
       "      <td>-0.6</td>\n",
       "      <td>-0.4</td>\n",
       "      <td>-0.666667</td>\n",
       "      <td>-0.333333</td>\n",
       "      <td>0.25</td>\n",
       "      <td>0.5</td>\n",
       "      <td>-0.25</td>\n",
       "      <td>-0.8</td>\n",
       "      <td>-0.6</td>\n",
       "      <td>-0.4</td>\n",
       "      <td>-0.2</td>\n",
       "      <td>-0.75</td>\n",
       "      <td>-0.5</td>\n",
       "      <td>-0.25</td>\n",
       "      <td>0.166667</td>\n",
       "      <td>-0.666667</td>\n",
       "      <td>-0.5</td>\n",
       "      <td>-0.333333</td>\n",
       "      <td>-0.166667</td>\n",
       "      <td>0.166667</td>\n",
       "      <td>-0.666667</td>\n",
       "      <td>-0.5</td>\n",
       "      <td>-0.333333</td>\n",
       "      <td>-0.166667</td>\n",
       "      <td>-0.5</td>\n",
       "      <td>-0.036625</td>\n",
       "      <td>-0.501710</td>\n",
       "      <td>-1.047895</td>\n",
       "      <td>-0.678056</td>\n",
       "      <td>-0.228204</td>\n",
       "      <td>-0.755604</td>\n",
       "      <td>-0.966213</td>\n",
       "      <td>1.189322</td>\n",
       "      <td>0.145415</td>\n",
       "      <td>-0.213708</td>\n",
       "      <td>-0.284788</td>\n",
       "      <td>2.064511</td>\n",
       "      <td>-0.771435</td>\n",
       "      <td>-0.135191</td>\n",
       "      <td>0.870361</td>\n",
       "      <td>1.057998</td>\n",
       "      <td>-0.24312</td>\n",
       "    </tr>\n",
       "  </tbody>\n",
       "</table>\n",
       "</div>"
      ],
      "text/plain": [
       "   heating-GasW_VS_GasA  heating-Grav_VS_GasW  central_air_VS_no_central_air  \\\n",
       "0                 -0.75                  -0.5                           -0.5   \n",
       "1                 -0.75                  -0.5                            0.5   \n",
       "2                 -0.75                  -0.5                            0.5   \n",
       "3                 -0.75                  -0.5                            0.5   \n",
       "4                 -0.75                  -0.5                            0.5   \n",
       "\n",
       "   electrical-FuseA_VS_SBrkr  electrical-FuseF_VS_FuseA  \\\n",
       "0                       -0.8                       -0.6   \n",
       "1                        0.2                       -0.6   \n",
       "2                        0.2                       -0.6   \n",
       "3                        0.2                       -0.6   \n",
       "4                        0.2                       -0.6   \n",
       "\n",
       "   electrical-FuseP_VS_FuseF  paved_drive-P_VS_N  paved_drive-Y_VS_P  \\\n",
       "0                       -0.4           -0.666667           -0.333333   \n",
       "1                       -0.4           -0.666667           -0.333333   \n",
       "2                       -0.4           -0.666667           -0.333333   \n",
       "3                       -0.4            0.333333           -0.333333   \n",
       "4                       -0.4           -0.666667           -0.333333   \n",
       "\n",
       "   garage_finish-Unf_VS_no_garage  garage_finish-RFn_VS_Unf  \\\n",
       "0                           -0.75                      -0.5   \n",
       "1                            0.25                      -0.5   \n",
       "2                            0.25                       0.5   \n",
       "3                           -0.75                      -0.5   \n",
       "4                            0.25                       0.5   \n",
       "\n",
       "   garage_finish-Fin_VS_RFn  fence-MnWw_VS_no_fence  fence-GdWo_VS_MnWw  \\\n",
       "0                     -0.25                    -0.8                -0.6   \n",
       "1                     -0.25                    -0.8                -0.6   \n",
       "2                     -0.25                    -0.8                -0.6   \n",
       "3                     -0.25                    -0.8                -0.6   \n",
       "4                     -0.25                    -0.8                -0.6   \n",
       "\n",
       "   fence-MnPrv_VS_GdWo  fence-GdPrv_VS_MnPrv  bsmt_cond-1_VS_no_basement  \\\n",
       "0                 -0.4                  -0.2                       -0.75   \n",
       "1                 -0.4                  -0.2                       -0.75   \n",
       "2                 -0.4                  -0.2                        0.25   \n",
       "3                 -0.4                  -0.2                       -0.75   \n",
       "4                 -0.4                  -0.2                       -0.75   \n",
       "\n",
       "   bsmt_cond-2_VS_1  bsmt_cond-3_VS_2  fireplace_qu-1_VS_no_fireplace  \\\n",
       "0              -0.5             -0.25                       -0.833333   \n",
       "1              -0.5             -0.25                       -0.833333   \n",
       "2              -0.5             -0.25                        0.166667   \n",
       "3              -0.5             -0.25                       -0.833333   \n",
       "4              -0.5             -0.25                        0.166667   \n",
       "\n",
       "   fireplace_qu-2_VS_1  fireplace_qu-3_VS_2  fireplace_qu-4_VS_3  \\\n",
       "0            -0.666667                 -0.5            -0.333333   \n",
       "1            -0.666667                 -0.5            -0.333333   \n",
       "2            -0.666667                 -0.5            -0.333333   \n",
       "3            -0.666667                 -0.5            -0.333333   \n",
       "4            -0.666667                 -0.5            -0.333333   \n",
       "\n",
       "   fireplace_qu-5_VS_4  garage_cond-1_VS_no_garage  garage_cond-2_VS_1  \\\n",
       "0            -0.166667                   -0.833333           -0.666667   \n",
       "1            -0.166667                    0.166667           -0.666667   \n",
       "2            -0.166667                    0.166667           -0.666667   \n",
       "3            -0.166667                    0.166667           -0.666667   \n",
       "4            -0.166667                    0.166667           -0.666667   \n",
       "\n",
       "   garage_cond-3_VS_2  garage_cond-4_VS_3  garage_cond-5_VS_4  \\\n",
       "0                -0.5           -0.333333           -0.166667   \n",
       "1                -0.5           -0.333333           -0.166667   \n",
       "2                -0.5           -0.333333           -0.166667   \n",
       "3                -0.5           -0.333333           -0.166667   \n",
       "4                -0.5           -0.333333           -0.166667   \n",
       "\n",
       "   pool_VS_no_pool  overall_qual  overall_cond  year_remod/add  exter_qual  \\\n",
       "0             -0.5     -0.036625      2.157251       -1.683931   -0.678056   \n",
       "1             -0.5     -0.767467     -1.388030       -0.362932   -0.678056   \n",
       "2             -0.5      0.694217     -0.501710        1.055919    1.109731   \n",
       "3             -0.5     -0.767467      0.384611        1.055919    1.109731   \n",
       "4             -0.5     -0.036625     -0.501710       -1.047895   -0.678056   \n",
       "\n",
       "   exter_cond  kitchen_qual  full_bath  half_bath  bedroom_abvgr  \\\n",
       "0   -2.935812     -2.280707   0.823523  -0.788376       1.349887   \n",
       "1   -0.228204     -0.755604   0.823523  -0.788376       3.758832   \n",
       "2   -0.228204      0.769500   0.823523   1.189322       0.145415   \n",
       "3   -0.228204     -0.755604  -0.966213  -0.788376      -1.059058   \n",
       "4   -0.228204     -0.755604  -0.966213   1.189322       0.145415   \n",
       "\n",
       "   kitchen_abvgr  totrms_abvgrd  fireplaces  wood_deck_sf  heating_qc  \\\n",
       "0       4.253806       1.595239   -0.924179     -0.771435   -0.135191   \n",
       "1       4.253806       2.221914   -0.924179      0.632217   -1.194990   \n",
       "2      -0.213708       0.341888    0.570166      0.054243    0.924608   \n",
       "3      -0.213708      -0.911463   -0.924179     -0.771435   -1.194990   \n",
       "4      -0.213708      -0.284788    2.064511     -0.771435   -0.135191   \n",
       "\n",
       "   total_bsmt_sf  bsmt_full_bath  bsmt_half_bath  \n",
       "0      -0.034747       -0.830056        -0.24312  \n",
       "1       2.257062       -0.830056        -0.24312  \n",
       "2      -0.920493        1.057998        -0.24312  \n",
       "3      -0.160590       -0.830056        -0.24312  \n",
       "4       0.870361        1.057998        -0.24312  "
      ]
     },
     "execution_count": 109,
     "metadata": {},
     "output_type": "execute_result"
    }
   ],
   "source": [
    "pd.set_option('display.max_columns', 50)\n",
    "X.head()"
   ]
  },
  {
   "cell_type": "code",
   "execution_count": 110,
   "id": "b0837e72-b68e-422b-99e1-249a6a7a5adf",
   "metadata": {},
   "outputs": [],
   "source": [
    "preds = lasso_cv.predict(X)"
   ]
  },
  {
   "cell_type": "code",
   "execution_count": 111,
   "id": "7b02d93d-345b-4cf3-beb4-db14b8c5e1a5",
   "metadata": {},
   "outputs": [],
   "source": [
    "submit_df = pd.DataFrame(test['id'])"
   ]
  },
  {
   "cell_type": "code",
   "execution_count": 113,
   "id": "4f36bb61-a8e7-4192-a3ee-7dafc74da872",
   "metadata": {},
   "outputs": [],
   "source": [
    "submit_df.rename(columns = {'id' : 'ID'}, inplace=True)"
   ]
  },
  {
   "cell_type": "code",
   "execution_count": 114,
   "id": "f865be16-6337-46f1-acf7-c758b6362ca0",
   "metadata": {},
   "outputs": [],
   "source": [
    "submit_df['SalePrice'] = preds"
   ]
  },
  {
   "cell_type": "code",
   "execution_count": 118,
   "id": "12b5ddab-aa1e-432e-9936-8e73abb37e78",
   "metadata": {},
   "outputs": [],
   "source": [
    "submit_df.to_csv('../kaggle_submissions/haendler_submission_4.csv', index=False)"
   ]
  },
  {
   "cell_type": "markdown",
   "id": "0bc8f2cd-a331-4eb1-bd91-3ec9a5b3d131",
   "metadata": {},
   "source": [
    "---"
   ]
  }
 ],
 "metadata": {
  "kernelspec": {
   "display_name": "Python 3",
   "language": "python",
   "name": "python3"
  },
  "language_info": {
   "codemirror_mode": {
    "name": "ipython",
    "version": 3
   },
   "file_extension": ".py",
   "mimetype": "text/x-python",
   "name": "python",
   "nbconvert_exporter": "python",
   "pygments_lexer": "ipython3",
   "version": "3.8.8"
  }
 },
 "nbformat": 4,
 "nbformat_minor": 5
}
