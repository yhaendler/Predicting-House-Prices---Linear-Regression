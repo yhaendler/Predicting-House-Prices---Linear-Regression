{
 "cells": [
  {
   "cell_type": "markdown",
   "id": "e8dddd23-e729-4df3-bb91-6207d9f3c3b9",
   "metadata": {},
   "source": [
    "## Preprocessing and Feature Engineering"
   ]
  },
  {
   "cell_type": "code",
   "execution_count": 79,
   "id": "b22f84f5-a546-46ae-bfce-c1eda348b7cf",
   "metadata": {},
   "outputs": [],
   "source": [
    "# imports\n",
    "import pandas as pd\n",
    "import numpy as np\n",
    "import matplotlib.pyplot as plt\n",
    "import seaborn as sns\n",
    "from sklearn.preprocessing import StandardScaler\n",
    "import category_encoders as ce"
   ]
  },
  {
   "cell_type": "code",
   "execution_count": 80,
   "id": "e6293ba9-31f2-47f2-89fa-4113182baa0b",
   "metadata": {},
   "outputs": [],
   "source": [
    "# read the data\n",
    "data = pd.read_csv('../data/data2.csv')"
   ]
  },
  {
   "cell_type": "markdown",
   "id": "a3ea068b-1b57-4d6a-a59c-dc240ccf5d95",
   "metadata": {},
   "source": [
    "---"
   ]
  },
  {
   "cell_type": "markdown",
   "id": "2eab5d0e-7afc-4c5d-af89-0d5ceb49dfd4",
   "metadata": {},
   "source": [
    "#### Contrast coding for categorical features"
   ]
  },
  {
   "cell_type": "code",
   "execution_count": 81,
   "id": "66b87088-1afc-4623-902b-03201b3c4ba5",
   "metadata": {},
   "outputs": [],
   "source": [
    "# names of categorical features\n",
    "cat_cols = [\n",
    "    'house_style', 'heating', 'central_air', 'electrical', 'paved_drive', 'garage_finish', 'fence', \n",
    "    'bsmtfin_type_1',\n",
    "    # added features that were among the numeric features, but they need to be converted to categorical features\n",
    "    'bsmt_cond', 'fireplace_qu', 'garage_qual', 'garage_cond', 'pool_area']"
   ]
  },
  {
   "cell_type": "code",
   "execution_count": 82,
   "id": "eb1cdc47-4221-471a-b84a-f5e612a63894",
   "metadata": {},
   "outputs": [
    {
     "data": {
      "text/plain": [
       "story_1               1050\n",
       "story_2                595\n",
       "story_1_half_fin       218\n",
       "split_level             91\n",
       "split_foyer             49\n",
       "story_2_half_unfin      13\n",
       "story_1_half_unfin      12\n",
       "story_2_half_fin         5\n",
       "Name: house_style, dtype: int64"
      ]
     },
     "execution_count": 82,
     "metadata": {},
     "output_type": "execute_result"
    }
   ],
   "source": [
    "data['house_style'].value_counts()"
   ]
  },
  {
   "cell_type": "code",
   "execution_count": 83,
   "id": "82dc32ff-c207-4392-8b27-5af883277c9a",
   "metadata": {},
   "outputs": [],
   "source": [
    "data['house_style'].astype('category').cat.reorder_categories(['split_foyer','split_level','story_1',\n",
    "                                                               'story_1_half_unfin','story_1_half_fin',\n",
    "                                                               'story_2','story_2_half_unfin','story_2_half_fin'],\n",
    "                                                             inplace=True)"
   ]
  },
  {
   "cell_type": "code",
   "execution_count": 84,
   "id": "95138353-a197-43ab-bab1-8d1194a70827",
   "metadata": {},
   "outputs": [
    {
     "name": "stderr",
     "output_type": "stream",
     "text": [
      "C:\\Users\\Yair\\anaconda3\\lib\\site-packages\\category_encoders\\utils.py:21: FutureWarning: is_categorical is deprecated and will be removed in a future version.  Use is_categorical_dtype instead\n",
      "  elif pd.api.types.is_categorical(cols):\n"
     ]
    }
   ],
   "source": [
    "encoder = ce.BackwardDifferenceEncoder()\n",
    "ce_house_style = encoder.fit_transform(data['house_style']).drop(columns='intercept')\n",
    "ce_house_style.rename(columns = {\n",
    "    'house_style_0' : 'house_style-split_level_VS_split_foyer',\n",
    "    'house_style_1' : 'house_style-story_1_VS_split_level',\n",
    "    'house_style_2' : 'house_style-story_1_half_unfin_VS_story_1',\n",
    "    'house_style_3' : 'house_style-story_1_half_fin_VS_story_1_half_unfin',\n",
    "    'house_style_4' : 'house_style-story_2_VS_story_1_half_fin',\n",
    "    'house_style_5' : 'house_style-story_2_half_unfin_VS_story_2',\n",
    "    'house_style_6' : 'house_style-story_2_half_fin_VS_story_2_half_unfin'\n",
    "}, inplace=True)"
   ]
  },
  {
   "cell_type": "code",
   "execution_count": 7,
   "id": "45a0f474-58ed-44d4-a57f-b08161b2af2e",
   "metadata": {},
   "outputs": [],
   "source": [
    "# referent category is the best category: 'story_2_half_fin'\n",
    "# dum_hous_style = pd.get_dummies(data['house_style'], prefix='story_2_half_fin_VS').drop(columns='story_2_half_fin_VS_story_2_half_fin')"
   ]
  },
  {
   "cell_type": "code",
   "execution_count": 85,
   "id": "3a378772-3fab-44c6-8496-2db9492f3448",
   "metadata": {},
   "outputs": [
    {
     "data": {
      "text/plain": [
       "GasA    2000\n",
       "GasW      20\n",
       "Wall       6\n",
       "Grav       5\n",
       "OthW       2\n",
       "Name: heating, dtype: int64"
      ]
     },
     "execution_count": 85,
     "metadata": {},
     "output_type": "execute_result"
    }
   ],
   "source": [
    "data['heating'].value_counts()"
   ]
  },
  {
   "cell_type": "code",
   "execution_count": 86,
   "id": "6eeb3656-fabc-4e79-8cf6-364a9d2d569d",
   "metadata": {},
   "outputs": [],
   "source": [
    "data['heating'].astype('category').cat.reorder_categories(['GasA','GasW','Grav','Wall','OthW'], inplace=True)"
   ]
  },
  {
   "cell_type": "code",
   "execution_count": 87,
   "id": "fb5b4e02-adba-4b5e-b114-90876d9f2c1b",
   "metadata": {},
   "outputs": [
    {
     "name": "stderr",
     "output_type": "stream",
     "text": [
      "C:\\Users\\Yair\\anaconda3\\lib\\site-packages\\category_encoders\\utils.py:21: FutureWarning: is_categorical is deprecated and will be removed in a future version.  Use is_categorical_dtype instead\n",
      "  elif pd.api.types.is_categorical(cols):\n"
     ]
    }
   ],
   "source": [
    "encoder = ce.BackwardDifferenceEncoder()\n",
    "ce_heating = encoder.fit_transform(data['heating']).drop(columns='intercept')\n",
    "ce_heating.rename(columns = {\n",
    "    'heating_0' : 'heating-GasW_VS_GasA',\n",
    "    'heating_1' : 'heating-Grav_VS_GasW',\n",
    "    'heating_2' : 'heating-Wall_VS_Grav',\n",
    "    'heating_3' : 'heating-OthW_VS_Wall' }, inplace=True)"
   ]
  },
  {
   "cell_type": "code",
   "execution_count": 11,
   "id": "1c02a174-b4fe-4e30-bcd7-1ff91c10c718",
   "metadata": {},
   "outputs": [],
   "source": [
    "# referent category is the no-gas category: 'OthW'\n",
    "# dum_heating = pd.get_dummies(data['heating'], prefix='OthW_VS').drop(columns='OthW_VS_OthW')"
   ]
  },
  {
   "cell_type": "code",
   "execution_count": 88,
   "id": "f7a182af-f7c6-4ef5-976f-2b25cb0c2c8b",
   "metadata": {},
   "outputs": [
    {
     "data": {
      "text/plain": [
       "Y    1893\n",
       "N     140\n",
       "Name: central_air, dtype: int64"
      ]
     },
     "execution_count": 88,
     "metadata": {},
     "output_type": "execute_result"
    }
   ],
   "source": [
    "data['central_air'].value_counts()"
   ]
  },
  {
   "cell_type": "code",
   "execution_count": 89,
   "id": "e85641a3-6c1e-4184-a741-8ad8972c4265",
   "metadata": {},
   "outputs": [],
   "source": [
    "data['central_air'].astype('category').cat.reorder_categories(['N','Y'], inplace=True)"
   ]
  },
  {
   "cell_type": "code",
   "execution_count": 90,
   "id": "d56ee0f4-f880-4181-8b06-e3f44af780fa",
   "metadata": {},
   "outputs": [
    {
     "name": "stderr",
     "output_type": "stream",
     "text": [
      "C:\\Users\\Yair\\anaconda3\\lib\\site-packages\\category_encoders\\utils.py:21: FutureWarning: is_categorical is deprecated and will be removed in a future version.  Use is_categorical_dtype instead\n",
      "  elif pd.api.types.is_categorical(cols):\n"
     ]
    }
   ],
   "source": [
    "encoder = ce.BackwardDifferenceEncoder()\n",
    "ce_central_air = encoder.fit_transform(data['central_air']).drop(columns='intercept')\n",
    "ce_central_air.rename(columns = {\n",
    "    'central_air_0' : 'central_air_VS_no_central_air'}, inplace=True)"
   ]
  },
  {
   "cell_type": "code",
   "execution_count": 15,
   "id": "e296d280-4fe3-4131-b9a4-6849520c7669",
   "metadata": {},
   "outputs": [],
   "source": [
    "# 1 is yes, 0 is no central A/C\n",
    "# dum_central_air = (data['central_air']=='Y').astype(int)"
   ]
  },
  {
   "cell_type": "code",
   "execution_count": 91,
   "id": "fa30d663-8698-4740-bb53-763f0cafc22a",
   "metadata": {},
   "outputs": [
    {
     "data": {
      "text/plain": [
       "SBrkr    1854\n",
       "FuseA     137\n",
       "FuseF      35\n",
       "FuseP       7\n",
       "Name: electrical, dtype: int64"
      ]
     },
     "execution_count": 91,
     "metadata": {},
     "output_type": "execute_result"
    }
   ],
   "source": [
    "data['electrical'].value_counts()"
   ]
  },
  {
   "cell_type": "code",
   "execution_count": 92,
   "id": "6ac6836f-3e31-47d0-9a21-18fceaed9bc1",
   "metadata": {},
   "outputs": [],
   "source": [
    "data['electrical'].astype('category').cat.reorder_categories(['SBrkr','FuseA','FuseF','FuseP'], inplace=True)"
   ]
  },
  {
   "cell_type": "code",
   "execution_count": 93,
   "id": "ef0a2ac7-862a-40b3-b702-eca0c346ca23",
   "metadata": {},
   "outputs": [
    {
     "name": "stderr",
     "output_type": "stream",
     "text": [
      "C:\\Users\\Yair\\anaconda3\\lib\\site-packages\\category_encoders\\utils.py:21: FutureWarning: is_categorical is deprecated and will be removed in a future version.  Use is_categorical_dtype instead\n",
      "  elif pd.api.types.is_categorical(cols):\n"
     ]
    }
   ],
   "source": [
    "encoder = ce.BackwardDifferenceEncoder()\n",
    "ce_electrical = encoder.fit_transform(data['electrical']).drop(columns='intercept')\n",
    "ce_electrical.rename(columns = {\n",
    "    'electrical_0' : 'electrical-FuseA_VS_SBrkr',\n",
    "    'electrical_1' : 'electrical-FuseF_VS_FuseA',\n",
    "    'electrical_2' : 'electrical-FuseP_VS_FuseF'}, inplace=True)"
   ]
  },
  {
   "cell_type": "code",
   "execution_count": 19,
   "id": "d114c66b-9639-49af-b6b9-f4cbf1010436",
   "metadata": {},
   "outputs": [],
   "source": [
    "# referent category will be the standard: 'SBrkr'\n",
    "# dum_electrical = pd.get_dummies(data['electrical'], prefix='SBrkr_VS').drop(columns='SBrkr_VS_SBrkr')"
   ]
  },
  {
   "cell_type": "code",
   "execution_count": 94,
   "id": "ce59bc93-db27-4cc3-ad83-4222edace8a2",
   "metadata": {},
   "outputs": [
    {
     "data": {
      "text/plain": [
       "Y    1846\n",
       "N     148\n",
       "P      39\n",
       "Name: paved_drive, dtype: int64"
      ]
     },
     "execution_count": 94,
     "metadata": {},
     "output_type": "execute_result"
    }
   ],
   "source": [
    "data['paved_drive'].value_counts()"
   ]
  },
  {
   "cell_type": "code",
   "execution_count": 95,
   "id": "f60e032c-3c62-4a63-93ae-8508af55221c",
   "metadata": {},
   "outputs": [],
   "source": [
    "data['paved_drive'].astype('category').cat.reorder_categories(['N','P','Y'], inplace=True)"
   ]
  },
  {
   "cell_type": "code",
   "execution_count": 96,
   "id": "e0db5efe-f64b-48c3-b29f-d2a577135f37",
   "metadata": {},
   "outputs": [
    {
     "name": "stderr",
     "output_type": "stream",
     "text": [
      "C:\\Users\\Yair\\anaconda3\\lib\\site-packages\\category_encoders\\utils.py:21: FutureWarning: is_categorical is deprecated and will be removed in a future version.  Use is_categorical_dtype instead\n",
      "  elif pd.api.types.is_categorical(cols):\n"
     ]
    }
   ],
   "source": [
    "encoder = ce.BackwardDifferenceEncoder()\n",
    "ce_paved_drive = encoder.fit_transform(data['paved_drive']).drop(columns='intercept')\n",
    "ce_paved_drive.rename(columns = {\n",
    "    'paved_drive_0' : 'paved_drive-P_VS_N',\n",
    "    'paved_drive_1' : 'paved_drive-Y_VS_P'}, inplace=True)"
   ]
  },
  {
   "cell_type": "code",
   "execution_count": 23,
   "id": "5501d8c6-8e05-4cbc-b0d0-e308dbfe7d71",
   "metadata": {},
   "outputs": [],
   "source": [
    "# referent category is no-paved: 'N'\n",
    "# dum_paved_drive = pd.get_dummies(data['paved_drive'], prefix='N_VS').drop(columns='N_VS_N')"
   ]
  },
  {
   "cell_type": "code",
   "execution_count": 97,
   "id": "6e4c98bc-24ab-432d-b77f-4ef6d60205c1",
   "metadata": {},
   "outputs": [
    {
     "data": {
      "text/plain": [
       "Unf          843\n",
       "RFn          578\n",
       "Fin          501\n",
       "no_garage    111\n",
       "Name: garage_finish, dtype: int64"
      ]
     },
     "execution_count": 97,
     "metadata": {},
     "output_type": "execute_result"
    }
   ],
   "source": [
    "data['garage_finish'].value_counts()"
   ]
  },
  {
   "cell_type": "code",
   "execution_count": 98,
   "id": "1cfaa587-a492-4510-8f6e-de47305d510f",
   "metadata": {},
   "outputs": [],
   "source": [
    "data['garage_finish'].astype('category').cat.reorder_categories(['no_garage','Unf','RFn','Fin'], inplace=True)"
   ]
  },
  {
   "cell_type": "code",
   "execution_count": 99,
   "id": "3ce6b75e-2259-4f45-ab23-0e885c3af181",
   "metadata": {},
   "outputs": [
    {
     "name": "stderr",
     "output_type": "stream",
     "text": [
      "C:\\Users\\Yair\\anaconda3\\lib\\site-packages\\category_encoders\\utils.py:21: FutureWarning: is_categorical is deprecated and will be removed in a future version.  Use is_categorical_dtype instead\n",
      "  elif pd.api.types.is_categorical(cols):\n"
     ]
    }
   ],
   "source": [
    "encoder = ce.BackwardDifferenceEncoder()\n",
    "ce_garage_finish = encoder.fit_transform(data['garage_finish']).drop(columns='intercept')\n",
    "ce_garage_finish.rename(columns = {\n",
    "    'garage_finish_0' : 'garage_finish-Unf_VS_no_garage',\n",
    "    'garage_finish_1' : 'garage_finish-RFn_VS_Unf',\n",
    "    'garage_finish_2' : 'garage_finish-Fin_VS_RFn'}, inplace=True)"
   ]
  },
  {
   "cell_type": "code",
   "execution_count": 27,
   "id": "19c9af72-1f5e-450e-b4f1-fb4e907c9af3",
   "metadata": {},
   "outputs": [],
   "source": [
    "# referent category is no garage\n",
    "# dum_garage_finish = pd.get_dummies(data['garage_finish'], prefix='no_garage_VS').drop(columns='no_garage_VS_no_garage')"
   ]
  },
  {
   "cell_type": "code",
   "execution_count": 100,
   "id": "6643b3ea-d8bb-4bd8-8a76-0c3bbcdd2cc4",
   "metadata": {},
   "outputs": [
    {
     "data": {
      "text/plain": [
       "no_fence    1637\n",
       "MnPrv        224\n",
       "GdPrv         82\n",
       "GdWo          80\n",
       "MnWw          10\n",
       "Name: fence, dtype: int64"
      ]
     },
     "execution_count": 100,
     "metadata": {},
     "output_type": "execute_result"
    }
   ],
   "source": [
    "data['fence'].value_counts()"
   ]
  },
  {
   "cell_type": "code",
   "execution_count": 101,
   "id": "43c5f987-fddb-439a-ba91-2fb4241ac735",
   "metadata": {},
   "outputs": [],
   "source": [
    "data['fence'].astype('category').cat.reorder_categories(['no_fence','MnWw','GdWo','MnPrv','GdPrv'], inplace=True)"
   ]
  },
  {
   "cell_type": "code",
   "execution_count": 102,
   "id": "60cb42c1-c042-4f6f-886c-7331e8456aa7",
   "metadata": {},
   "outputs": [
    {
     "name": "stderr",
     "output_type": "stream",
     "text": [
      "C:\\Users\\Yair\\anaconda3\\lib\\site-packages\\category_encoders\\utils.py:21: FutureWarning: is_categorical is deprecated and will be removed in a future version.  Use is_categorical_dtype instead\n",
      "  elif pd.api.types.is_categorical(cols):\n"
     ]
    }
   ],
   "source": [
    "encoder = ce.BackwardDifferenceEncoder()\n",
    "ce_fence = encoder.fit_transform(data['fence']).drop(columns='intercept')\n",
    "ce_fence.rename(columns = {\n",
    "    'fence_0' : 'fence-MnWw_VS_no_fence',\n",
    "    'fence_1' : 'fence-GdWo_VS_MnWw',\n",
    "    'fence_2' : 'fence-MnPrv_VS_GdWo',\n",
    "    'fence_3' : 'fence-GdPrv_VS_MnPrv'}, inplace=True)"
   ]
  },
  {
   "cell_type": "code",
   "execution_count": 31,
   "id": "764427ad-b3bf-42a7-8d7e-4419c84e531c",
   "metadata": {},
   "outputs": [],
   "source": [
    "# referent category is no fence\n",
    "# dum_fence = pd.get_dummies(data['fence'], prefix='no_fence_VS').drop(columns='no_fence_VS_no_fence')"
   ]
  },
  {
   "cell_type": "code",
   "execution_count": 103,
   "id": "a1645153-20f0-4933-a4b0-1df637a49be5",
   "metadata": {},
   "outputs": [
    {
     "data": {
      "text/plain": [
       "GLQ            604\n",
       "Unf            601\n",
       "ALQ            292\n",
       "BLQ            200\n",
       "Rec            183\n",
       "LwQ            100\n",
       "no_basement     53\n",
       "Name: bsmtfin_type_1, dtype: int64"
      ]
     },
     "execution_count": 103,
     "metadata": {},
     "output_type": "execute_result"
    }
   ],
   "source": [
    "data['bsmtfin_type_1'].value_counts()"
   ]
  },
  {
   "cell_type": "code",
   "execution_count": 104,
   "id": "78895c6e-37fb-4fa9-af5d-1b4a2142056b",
   "metadata": {},
   "outputs": [],
   "source": [
    "data['bsmtfin_type_1'].astype('category').cat.reorder_categories(['no_basement','Unf','LwQ','Rec',\n",
    "                                                                 'BLQ','ALQ','GLQ'], inplace=True)"
   ]
  },
  {
   "cell_type": "code",
   "execution_count": 105,
   "id": "a2d6a652-f4b4-40d7-ade1-70c4c76d2359",
   "metadata": {},
   "outputs": [
    {
     "name": "stderr",
     "output_type": "stream",
     "text": [
      "C:\\Users\\Yair\\anaconda3\\lib\\site-packages\\category_encoders\\utils.py:21: FutureWarning: is_categorical is deprecated and will be removed in a future version.  Use is_categorical_dtype instead\n",
      "  elif pd.api.types.is_categorical(cols):\n"
     ]
    }
   ],
   "source": [
    "encoder = ce.BackwardDifferenceEncoder()\n",
    "ce_bsmtfin_type_1 = encoder.fit_transform(data['bsmtfin_type_1']).drop(columns='intercept')\n",
    "ce_bsmtfin_type_1.rename(columns = {\n",
    "    'bsmtfin_type_1_0' : 'bsmtfin_type_1-Unf_VS_no_basement',\n",
    "    'bsmtfin_type_1_1' : 'bsmtfin_type_1-LwQ_VS_Unf',\n",
    "    'bsmtfin_type_1_2' : 'bsmtfin_type_1-Rec_VS_LwQ',\n",
    "    'bsmtfin_type_1_3' : 'bsmtfin_type_1-BLQ_VS_Rec',\n",
    "    'bsmtfin_type_1_4' : 'bsmtfin_type_1-ALQ_VS_BLQ',\n",
    "    'bsmtfin_type_1_5' : 'bsmtfin_type_1-GLQ_VS_ALQ'}, inplace=True)"
   ]
  },
  {
   "cell_type": "code",
   "execution_count": 35,
   "id": "e16dbbe5-5d2e-44b5-b298-6ad97df27daf",
   "metadata": {},
   "outputs": [],
   "source": [
    "# referent category is no basement\n",
    "# dum_bsmtfin_type_1 = pd.get_dummies(data['bsmtfin_type_1'], prefix='no_basement_VS').drop(columns='no_basement_VS_no_basement')"
   ]
  },
  {
   "cell_type": "code",
   "execution_count": 106,
   "id": "4dda8c7b-6dcc-4232-b09f-0f5025371259",
   "metadata": {},
   "outputs": [
    {
     "data": {
      "text/plain": [
       "3.0    1824\n",
       "4.0      85\n",
       "2.0      64\n",
       "1.0       4\n",
       "5.0       3\n",
       "Name: bsmt_cond, dtype: int64"
      ]
     },
     "execution_count": 106,
     "metadata": {},
     "output_type": "execute_result"
    }
   ],
   "source": [
    "data['bsmt_cond'].value_counts()"
   ]
  },
  {
   "cell_type": "code",
   "execution_count": 107,
   "id": "623eb58e-09e3-4656-911a-d432aa09b5a5",
   "metadata": {},
   "outputs": [],
   "source": [
    "data['bsmt_cond'] = ['5' if a==5 else '4' if a==4 else '3' if a==3 else '2' if a==2 else '1' if a==1 else 'no_basement' for a in data['bsmt_cond']]"
   ]
  },
  {
   "cell_type": "code",
   "execution_count": 108,
   "id": "02c5e400-ddb1-4d43-a97c-2039aea72a63",
   "metadata": {},
   "outputs": [
    {
     "data": {
      "text/plain": [
       "3              1824\n",
       "4                85\n",
       "2                64\n",
       "no_basement      53\n",
       "1                 4\n",
       "5                 3\n",
       "Name: bsmt_cond, dtype: int64"
      ]
     },
     "execution_count": 108,
     "metadata": {},
     "output_type": "execute_result"
    }
   ],
   "source": [
    "data['bsmt_cond'].value_counts()"
   ]
  },
  {
   "cell_type": "code",
   "execution_count": 109,
   "id": "31837996-27a3-4a93-81b6-67b819514120",
   "metadata": {},
   "outputs": [],
   "source": [
    "data['bsmt_cond'].astype('category').cat.reorder_categories(['no_basement','1','2','3',\n",
    "                                                                 '4','5'], inplace=True)"
   ]
  },
  {
   "cell_type": "code",
   "execution_count": 110,
   "id": "c78dc99e-7c79-4317-b3a1-7ed93cc8b7e1",
   "metadata": {},
   "outputs": [
    {
     "name": "stderr",
     "output_type": "stream",
     "text": [
      "C:\\Users\\Yair\\anaconda3\\lib\\site-packages\\category_encoders\\utils.py:21: FutureWarning: is_categorical is deprecated and will be removed in a future version.  Use is_categorical_dtype instead\n",
      "  elif pd.api.types.is_categorical(cols):\n"
     ]
    }
   ],
   "source": [
    "encoder = ce.BackwardDifferenceEncoder()\n",
    "ce_bsmt_cond = encoder.fit_transform(data['bsmt_cond']).drop(columns='intercept')\n",
    "ce_bsmt_cond.rename(columns = {\n",
    "    'bsmt_cond_0' : 'bsmt_cond-1_VS_no_basement',\n",
    "    'bsmt_cond_1' : 'bsmt_cond-2_VS_1',\n",
    "    'bsmt_cond_2' : 'bsmt_cond-3_VS_2',\n",
    "    'bsmt_cond_3' : 'bsmt_cond-4_VS_3',\n",
    "    'bsmt_cond_4' : 'bsmt_cond-5_VS_4'}, inplace=True)"
   ]
  },
  {
   "cell_type": "code",
   "execution_count": 41,
   "id": "ca16a728-e210-47f5-a4f7-32c9502c71fb",
   "metadata": {},
   "outputs": [],
   "source": [
    "# dum_bsmt_cond = pd.get_dummies(data['bsmt_cond'], prefix='no_basement_VS').drop(columns='no_basement_VS_no_basement')"
   ]
  },
  {
   "cell_type": "code",
   "execution_count": 111,
   "id": "ed9bb3e3-9fae-405d-9d09-36afca1d5502",
   "metadata": {},
   "outputs": [
    {
     "data": {
      "text/plain": [
       "4.0    518\n",
       "3.0    403\n",
       "2.0     58\n",
       "5.0     31\n",
       "1.0     31\n",
       "Name: fireplace_qu, dtype: int64"
      ]
     },
     "execution_count": 111,
     "metadata": {},
     "output_type": "execute_result"
    }
   ],
   "source": [
    "data['fireplace_qu'].value_counts()"
   ]
  },
  {
   "cell_type": "code",
   "execution_count": 112,
   "id": "b84247df-b6d9-4566-87d3-a0e6b447d82e",
   "metadata": {},
   "outputs": [],
   "source": [
    "data['fireplace_qu'] = ['5' if a==5 else '4' if a==4 else '3' if a==3 else '2' if a==2 else '1' if a==1 else 'no_fireplace' for a in data['fireplace_qu']]"
   ]
  },
  {
   "cell_type": "code",
   "execution_count": 113,
   "id": "7e5d15d1-8364-4819-bd03-1a15ed672c7a",
   "metadata": {},
   "outputs": [
    {
     "data": {
      "text/plain": [
       "no_fireplace    992\n",
       "4               518\n",
       "3               403\n",
       "2                58\n",
       "5                31\n",
       "1                31\n",
       "Name: fireplace_qu, dtype: int64"
      ]
     },
     "execution_count": 113,
     "metadata": {},
     "output_type": "execute_result"
    }
   ],
   "source": [
    "data['fireplace_qu'].value_counts()"
   ]
  },
  {
   "cell_type": "code",
   "execution_count": 114,
   "id": "945d23a3-52ee-4383-9935-928679ff2a48",
   "metadata": {},
   "outputs": [],
   "source": [
    "data['fireplace_qu'].astype('category').cat.reorder_categories(['no_fireplace','1','2','3',\n",
    "                                                                 '4','5'], inplace=True)"
   ]
  },
  {
   "cell_type": "code",
   "execution_count": 115,
   "id": "1fd5aceb-2a7d-4c03-8d0d-e94a4da96cab",
   "metadata": {},
   "outputs": [
    {
     "name": "stderr",
     "output_type": "stream",
     "text": [
      "C:\\Users\\Yair\\anaconda3\\lib\\site-packages\\category_encoders\\utils.py:21: FutureWarning: is_categorical is deprecated and will be removed in a future version.  Use is_categorical_dtype instead\n",
      "  elif pd.api.types.is_categorical(cols):\n"
     ]
    }
   ],
   "source": [
    "encoder = ce.BackwardDifferenceEncoder()\n",
    "ce_fireplace_qu = encoder.fit_transform(data['fireplace_qu']).drop(columns='intercept')\n",
    "ce_fireplace_qu.rename(columns = {\n",
    "    'fireplace_qu_0' : 'fireplace_qu-1_VS_no_fireplace',\n",
    "    'fireplace_qu_1' : 'fireplace_qu-2_VS_1',\n",
    "    'fireplace_qu_2' : 'fireplace_qu-3_VS_2',\n",
    "    'fireplace_qu_3' : 'fireplace_qu-4_VS_3',\n",
    "    'fireplace_qu_4' : 'fireplace_qu-5_VS_4'}, inplace=True)"
   ]
  },
  {
   "cell_type": "code",
   "execution_count": 47,
   "id": "d7def5c6-c988-4f99-a839-64630c46674f",
   "metadata": {},
   "outputs": [],
   "source": [
    "# dum_fireplace_qu = pd.get_dummies(data['fireplace_qu'], prefix='no_fireplace_VS').drop(columns='no_fireplace_VS_no_fireplace')"
   ]
  },
  {
   "cell_type": "code",
   "execution_count": 116,
   "id": "2bac4d09-6bf1-4ce5-b22e-b8f0207e7be8",
   "metadata": {},
   "outputs": [
    {
     "data": {
      "text/plain": [
       "3.0    1820\n",
       "2.0      80\n",
       "4.0      18\n",
       "5.0       3\n",
       "1.0       1\n",
       "Name: garage_qual, dtype: int64"
      ]
     },
     "execution_count": 116,
     "metadata": {},
     "output_type": "execute_result"
    }
   ],
   "source": [
    "data['garage_qual'].value_counts() "
   ]
  },
  {
   "cell_type": "code",
   "execution_count": 117,
   "id": "df617f62-5035-4b04-b71e-ed6e86c5a7c9",
   "metadata": {},
   "outputs": [],
   "source": [
    "data['garage_qual'] = ['5' if a==5 else '4' if a==4 else '3' if a==3 else '2' if a==2 else '1' if a==1 else 'no_garage' for a in data['garage_qual']]"
   ]
  },
  {
   "cell_type": "code",
   "execution_count": 118,
   "id": "d6a75b3d-672e-410f-bdf8-6a6c486b2d43",
   "metadata": {},
   "outputs": [
    {
     "data": {
      "text/plain": [
       "3            1820\n",
       "no_garage     111\n",
       "2              80\n",
       "4              18\n",
       "5               3\n",
       "1               1\n",
       "Name: garage_qual, dtype: int64"
      ]
     },
     "execution_count": 118,
     "metadata": {},
     "output_type": "execute_result"
    }
   ],
   "source": [
    "data['garage_qual'].value_counts() "
   ]
  },
  {
   "cell_type": "code",
   "execution_count": 119,
   "id": "88113df3-45ef-4c10-b505-c7745928d51b",
   "metadata": {},
   "outputs": [],
   "source": [
    "data['garage_qual'].astype('category').cat.reorder_categories(['no_garage','1','2','3',\n",
    "                                                                 '4','5'], inplace=True)"
   ]
  },
  {
   "cell_type": "code",
   "execution_count": 120,
   "id": "5a661931-e389-4ac7-84ca-4c7d869f922a",
   "metadata": {},
   "outputs": [
    {
     "name": "stderr",
     "output_type": "stream",
     "text": [
      "C:\\Users\\Yair\\anaconda3\\lib\\site-packages\\category_encoders\\utils.py:21: FutureWarning: is_categorical is deprecated and will be removed in a future version.  Use is_categorical_dtype instead\n",
      "  elif pd.api.types.is_categorical(cols):\n"
     ]
    }
   ],
   "source": [
    "encoder = ce.BackwardDifferenceEncoder()\n",
    "ce_garage_qual = encoder.fit_transform(data['garage_qual']).drop(columns='intercept')\n",
    "ce_garage_qual.rename(columns = {\n",
    "    'garage_qual_0' : 'garage_qual-1_VS_no_garage',\n",
    "    'garage_qual_1' : 'garage_qual-2_VS_1',\n",
    "    'garage_qual_2' : 'garage_qual-3_VS_2',\n",
    "    'garage_qual_3' : 'garage_qual-4_VS_3',\n",
    "    'garage_qual_4' : 'garage_qual-5_VS_4'}, inplace=True)"
   ]
  },
  {
   "cell_type": "code",
   "execution_count": 53,
   "id": "265f365f-fe3e-43f0-aa03-7f1c02797d8b",
   "metadata": {},
   "outputs": [],
   "source": [
    "# dum_garage_qual = pd.get_dummies(data['garage_qual'], prefix='no_garage_VS').drop(columns='no_garage_VS_no_garage')"
   ]
  },
  {
   "cell_type": "code",
   "execution_count": 121,
   "id": "1f99bfba-4104-40c2-b5fc-09567793d5b3",
   "metadata": {},
   "outputs": [
    {
     "data": {
      "text/plain": [
       "3.0    1855\n",
       "2.0      47\n",
       "4.0      12\n",
       "1.0       6\n",
       "5.0       2\n",
       "Name: garage_cond, dtype: int64"
      ]
     },
     "execution_count": 121,
     "metadata": {},
     "output_type": "execute_result"
    }
   ],
   "source": [
    "data['garage_cond'].value_counts()"
   ]
  },
  {
   "cell_type": "code",
   "execution_count": 122,
   "id": "5619fe2e-e388-4368-b983-2a99ec784eb2",
   "metadata": {},
   "outputs": [],
   "source": [
    "data['garage_cond'] = ['5' if a==5 else '4' if a==4 else '3' if a==3 else '2' if a==2 else '1' if a==1 else 'no_garage' for a in data['garage_cond']]"
   ]
  },
  {
   "cell_type": "code",
   "execution_count": 123,
   "id": "1b4f40cc-1b13-48e6-8785-850383d12d97",
   "metadata": {},
   "outputs": [
    {
     "data": {
      "text/plain": [
       "3            1855\n",
       "no_garage     111\n",
       "2              47\n",
       "4              12\n",
       "1               6\n",
       "5               2\n",
       "Name: garage_cond, dtype: int64"
      ]
     },
     "execution_count": 123,
     "metadata": {},
     "output_type": "execute_result"
    }
   ],
   "source": [
    "data['garage_cond'].value_counts()"
   ]
  },
  {
   "cell_type": "code",
   "execution_count": 124,
   "id": "feefbcb8-10b9-4350-a76b-c42561955e64",
   "metadata": {},
   "outputs": [],
   "source": [
    "data['garage_cond'].astype('category').cat.reorder_categories(['no_garage','1','2','3',\n",
    "                                                                 '4','5'], inplace=True)"
   ]
  },
  {
   "cell_type": "code",
   "execution_count": 125,
   "id": "e814265c-8056-49f5-9718-92ea15a3f969",
   "metadata": {},
   "outputs": [
    {
     "name": "stderr",
     "output_type": "stream",
     "text": [
      "C:\\Users\\Yair\\anaconda3\\lib\\site-packages\\category_encoders\\utils.py:21: FutureWarning: is_categorical is deprecated and will be removed in a future version.  Use is_categorical_dtype instead\n",
      "  elif pd.api.types.is_categorical(cols):\n"
     ]
    }
   ],
   "source": [
    "encoder = ce.BackwardDifferenceEncoder()\n",
    "ce_garage_cond = encoder.fit_transform(data['garage_cond']).drop(columns='intercept')\n",
    "ce_garage_cond.rename(columns = {\n",
    "    'garage_cond_0' : 'garage_cond-1_VS_no_garage',\n",
    "    'garage_cond_1' : 'garage_cond-2_VS_1',\n",
    "    'garage_cond_2' : 'garage_cond-3_VS_2',\n",
    "    'garage_cond_3' : 'garage_cond-4_VS_3',\n",
    "    'garage_cond_4' : 'garage_cond-5_VS_4'}, inplace=True)"
   ]
  },
  {
   "cell_type": "code",
   "execution_count": 59,
   "id": "00433851-94f8-4326-8537-691e9099006c",
   "metadata": {},
   "outputs": [],
   "source": [
    "# dum_garage_cond = pd.get_dummies(data['garage_cond'], prefix='no_garage_VS').drop(columns='no_garage_VS_no_garage')"
   ]
  },
  {
   "cell_type": "code",
   "execution_count": 126,
   "id": "eb2dd3b0-7154-46a6-8541-2e551c4684f5",
   "metadata": {},
   "outputs": [
    {
     "data": {
      "text/plain": [
       "0    2026\n",
       "1       7\n",
       "Name: pool_area, dtype: int64"
      ]
     },
     "execution_count": 126,
     "metadata": {},
     "output_type": "execute_result"
    }
   ],
   "source": [
    "data['pool_area'].value_counts()"
   ]
  },
  {
   "cell_type": "code",
   "execution_count": 127,
   "id": "4cf40187-f5bf-400f-af0b-32be235f21a3",
   "metadata": {},
   "outputs": [],
   "source": [
    "data['pool_area'] = ['no_pool' if a==0 else 'pool' for a in data['pool_area']]"
   ]
  },
  {
   "cell_type": "code",
   "execution_count": 128,
   "id": "138c730f-63b1-4881-a8bc-639aed42d0c7",
   "metadata": {},
   "outputs": [
    {
     "name": "stderr",
     "output_type": "stream",
     "text": [
      "C:\\Users\\Yair\\anaconda3\\lib\\site-packages\\category_encoders\\utils.py:21: FutureWarning: is_categorical is deprecated and will be removed in a future version.  Use is_categorical_dtype instead\n",
      "  elif pd.api.types.is_categorical(cols):\n"
     ]
    }
   ],
   "source": [
    "encoder = ce.BackwardDifferenceEncoder()\n",
    "ce_pool_area = encoder.fit_transform(data['pool_area']).drop(columns='intercept')\n",
    "ce_pool_area.rename(columns = {\n",
    "    'pool_area_0' : 'pool_VS_no_pool'}, inplace=True)"
   ]
  },
  {
   "cell_type": "code",
   "execution_count": 146,
   "id": "1cd1368c-219b-419f-88bc-efa8699a5be9",
   "metadata": {},
   "outputs": [],
   "source": [
    "# putting all the categorical features together\n",
    "data_cat = pd.concat([ce_house_style, \n",
    "                      ce_heating, ce_central_air, ce_electrical, ce_paved_drive,\n",
    "                      ce_garage_finish, ce_fence, ce_bsmtfin_type_1,\n",
    "                     ce_bsmt_cond, ce_fireplace_qu, ce_garage_qual, ce_garage_cond, ce_pool_area], axis=1)"
   ]
  },
  {
   "cell_type": "code",
   "execution_count": 148,
   "id": "dd8fee09-b83c-4c61-af48-9da16fa15208",
   "metadata": {},
   "outputs": [
    {
     "data": {
      "text/plain": [
       "house_style-split_level_VS_split_foyer                0\n",
       "house_style-story_1_VS_split_level                    0\n",
       "house_style-story_1_half_unfin_VS_story_1             0\n",
       "house_style-story_1_half_fin_VS_story_1_half_unfin    0\n",
       "house_style-story_2_VS_story_1_half_fin               0\n",
       "house_style-story_2_half_unfin_VS_story_2             0\n",
       "house_style-story_2_half_fin_VS_story_2_half_unfin    0\n",
       "heating-GasW_VS_GasA                                  0\n",
       "heating-Grav_VS_GasW                                  0\n",
       "heating-Wall_VS_Grav                                  0\n",
       "heating-OthW_VS_Wall                                  0\n",
       "central_air_VS_no_central_air                         0\n",
       "electrical-FuseA_VS_SBrkr                             0\n",
       "electrical-FuseF_VS_FuseA                             0\n",
       "electrical-FuseP_VS_FuseF                             0\n",
       "paved_drive-P_VS_N                                    0\n",
       "paved_drive-Y_VS_P                                    0\n",
       "garage_finish-Unf_VS_no_garage                        0\n",
       "garage_finish-RFn_VS_Unf                              0\n",
       "garage_finish-Fin_VS_RFn                              0\n",
       "fence-MnWw_VS_no_fence                                0\n",
       "fence-GdWo_VS_MnWw                                    0\n",
       "fence-MnPrv_VS_GdWo                                   0\n",
       "fence-GdPrv_VS_MnPrv                                  0\n",
       "bsmtfin_type_1-Unf_VS_no_basement                     0\n",
       "bsmtfin_type_1-LwQ_VS_Unf                             0\n",
       "bsmtfin_type_1-Rec_VS_LwQ                             0\n",
       "bsmtfin_type_1-BLQ_VS_Rec                             0\n",
       "bsmtfin_type_1-ALQ_VS_BLQ                             0\n",
       "bsmtfin_type_1-GLQ_VS_ALQ                             0\n",
       "bsmt_cond-1_VS_no_basement                            0\n",
       "bsmt_cond-2_VS_1                                      0\n",
       "bsmt_cond-3_VS_2                                      0\n",
       "bsmt_cond-4_VS_3                                      0\n",
       "bsmt_cond-5_VS_4                                      0\n",
       "fireplace_qu-1_VS_no_fireplace                        0\n",
       "fireplace_qu-2_VS_1                                   0\n",
       "fireplace_qu-3_VS_2                                   0\n",
       "fireplace_qu-4_VS_3                                   0\n",
       "fireplace_qu-5_VS_4                                   0\n",
       "garage_qual-1_VS_no_garage                            0\n",
       "garage_qual-2_VS_1                                    0\n",
       "garage_qual-3_VS_2                                    0\n",
       "garage_qual-4_VS_3                                    0\n",
       "garage_qual-5_VS_4                                    0\n",
       "garage_cond-1_VS_no_garage                            0\n",
       "garage_cond-2_VS_1                                    0\n",
       "garage_cond-3_VS_2                                    0\n",
       "garage_cond-4_VS_3                                    0\n",
       "garage_cond-5_VS_4                                    0\n",
       "pool_VS_no_pool                                       0\n",
       "dtype: int64"
      ]
     },
     "execution_count": 148,
     "metadata": {},
     "output_type": "execute_result"
    }
   ],
   "source": [
    "# make sure we don't have null values\n",
    "data_cat.isnull().sum()"
   ]
  },
  {
   "cell_type": "code",
   "execution_count": 149,
   "id": "dfa2b6a1-f2e0-4a9b-b0e3-bfc43408382a",
   "metadata": {},
   "outputs": [
    {
     "data": {
      "text/plain": [
       "(2033, 51)"
      ]
     },
     "execution_count": 149,
     "metadata": {},
     "output_type": "execute_result"
    }
   ],
   "source": [
    "data_cat.shape"
   ]
  },
  {
   "cell_type": "markdown",
   "id": "7525246c-dbd4-4de2-abe0-707b094d6ca1",
   "metadata": {},
   "source": [
    "---"
   ]
  },
  {
   "cell_type": "markdown",
   "id": "3b5e011e-ee70-4acf-bd8f-a174f9cfd05a",
   "metadata": {},
   "source": [
    "#### Scaling numeric features"
   ]
  },
  {
   "cell_type": "code",
   "execution_count": 133,
   "id": "38616242-521b-4331-a60a-b88fcb185bf4",
   "metadata": {},
   "outputs": [],
   "source": [
    "# numeric features to be scaled, except for the saleprice\n",
    "num_cols = [\n",
    "    'overall_qual', 'overall_cond', 'year_remod/add', 'exter_qual', 'exter_cond', 'kitchen_qual', 'full_bath',\n",
    "    'half_bath', 'bedroom_abvgr', 'kitchen_abvgr', 'totrms_abvgrd', 'fireplaces', 'wood_deck_sf',\n",
    "    'heating_qc', 'bsmtfin_sf_1', 'total_bsmt_sf', 'bsmt_full_bath', 'bsmt_half_bath']"
   ]
  },
  {
   "cell_type": "code",
   "execution_count": 134,
   "id": "69249943-6e9c-4446-b490-01db4f4356fa",
   "metadata": {},
   "outputs": [],
   "source": [
    "data_num = data[num_cols]"
   ]
  },
  {
   "cell_type": "code",
   "execution_count": 135,
   "id": "3d46546c-a6e9-4898-a1bb-c496e7916d04",
   "metadata": {},
   "outputs": [
    {
     "data": {
      "text/plain": [
       "overall_qual      0\n",
       "overall_cond      0\n",
       "year_remod/add    0\n",
       "exter_qual        0\n",
       "exter_cond        0\n",
       "kitchen_qual      0\n",
       "full_bath         0\n",
       "half_bath         0\n",
       "bedroom_abvgr     0\n",
       "kitchen_abvgr     0\n",
       "totrms_abvgrd     0\n",
       "fireplaces        0\n",
       "wood_deck_sf      0\n",
       "heating_qc        0\n",
       "bsmtfin_sf_1      0\n",
       "total_bsmt_sf     0\n",
       "bsmt_full_bath    0\n",
       "bsmt_half_bath    0\n",
       "dtype: int64"
      ]
     },
     "execution_count": 135,
     "metadata": {},
     "output_type": "execute_result"
    }
   ],
   "source": [
    "# check again for null values\n",
    "data_num.isnull().sum()"
   ]
  },
  {
   "cell_type": "code",
   "execution_count": 136,
   "id": "24b33321-83f2-460c-b347-730360a203a1",
   "metadata": {},
   "outputs": [],
   "source": [
    "sc = StandardScaler()"
   ]
  },
  {
   "cell_type": "code",
   "execution_count": 137,
   "id": "ee15f37a-d773-4ed3-9b2b-e7f16ed2337d",
   "metadata": {},
   "outputs": [],
   "source": [
    "data_num_Z = sc.fit_transform(data_num)"
   ]
  },
  {
   "cell_type": "code",
   "execution_count": 138,
   "id": "147525a0-2d48-470d-867d-5e677b578c55",
   "metadata": {},
   "outputs": [],
   "source": [
    "data_num_Z = pd.DataFrame(data_num_Z, columns=data_num.columns)"
   ]
  },
  {
   "cell_type": "markdown",
   "id": "28b9bace-5166-4b36-9e57-4b855fb0f29f",
   "metadata": {},
   "source": [
    "---"
   ]
  },
  {
   "cell_type": "markdown",
   "id": "300e2488-dc64-4a91-865a-a059264402d4",
   "metadata": {},
   "source": [
    "#### Putting all the data together"
   ]
  },
  {
   "cell_type": "code",
   "execution_count": 152,
   "id": "9463cc40-368f-4e8d-929c-bc51ee30c42d",
   "metadata": {},
   "outputs": [
    {
     "data": {
      "text/plain": [
       "(2033, 18)"
      ]
     },
     "execution_count": 152,
     "metadata": {},
     "output_type": "execute_result"
    }
   ],
   "source": [
    "data_num_Z.shape"
   ]
  },
  {
   "cell_type": "code",
   "execution_count": 153,
   "id": "9f1c130e-159d-4ec3-ad5c-7d8418cbfa90",
   "metadata": {},
   "outputs": [
    {
     "data": {
      "text/plain": [
       "(2033, 51)"
      ]
     },
     "execution_count": 153,
     "metadata": {},
     "output_type": "execute_result"
    }
   ],
   "source": [
    "data_cat.shape"
   ]
  },
  {
   "cell_type": "code",
   "execution_count": 154,
   "id": "e08b12c7-702d-4c14-98ac-5dd478d949a8",
   "metadata": {},
   "outputs": [],
   "source": [
    "data = pd.concat([data_cat, data_num_Z, data['saleprice']], axis=1)"
   ]
  },
  {
   "cell_type": "code",
   "execution_count": 155,
   "id": "bebd9133-d571-4cb6-8ee8-8ba1399aeb65",
   "metadata": {},
   "outputs": [
    {
     "data": {
      "text/html": [
       "<div>\n",
       "<style scoped>\n",
       "    .dataframe tbody tr th:only-of-type {\n",
       "        vertical-align: middle;\n",
       "    }\n",
       "\n",
       "    .dataframe tbody tr th {\n",
       "        vertical-align: top;\n",
       "    }\n",
       "\n",
       "    .dataframe thead th {\n",
       "        text-align: right;\n",
       "    }\n",
       "</style>\n",
       "<table border=\"1\" class=\"dataframe\">\n",
       "  <thead>\n",
       "    <tr style=\"text-align: right;\">\n",
       "      <th></th>\n",
       "      <th>house_style-split_level_VS_split_foyer</th>\n",
       "      <th>house_style-story_1_VS_split_level</th>\n",
       "      <th>house_style-story_1_half_unfin_VS_story_1</th>\n",
       "      <th>house_style-story_1_half_fin_VS_story_1_half_unfin</th>\n",
       "      <th>house_style-story_2_VS_story_1_half_fin</th>\n",
       "      <th>house_style-story_2_half_unfin_VS_story_2</th>\n",
       "      <th>house_style-story_2_half_fin_VS_story_2_half_unfin</th>\n",
       "      <th>heating-GasW_VS_GasA</th>\n",
       "      <th>heating-Grav_VS_GasW</th>\n",
       "      <th>heating-Wall_VS_Grav</th>\n",
       "      <th>...</th>\n",
       "      <th>kitchen_abvgr</th>\n",
       "      <th>totrms_abvgrd</th>\n",
       "      <th>fireplaces</th>\n",
       "      <th>wood_deck_sf</th>\n",
       "      <th>heating_qc</th>\n",
       "      <th>bsmtfin_sf_1</th>\n",
       "      <th>total_bsmt_sf</th>\n",
       "      <th>bsmt_full_bath</th>\n",
       "      <th>bsmt_half_bath</th>\n",
       "      <th>saleprice</th>\n",
       "    </tr>\n",
       "  </thead>\n",
       "  <tbody>\n",
       "    <tr>\n",
       "      <th>0</th>\n",
       "      <td>-0.875</td>\n",
       "      <td>-0.75</td>\n",
       "      <td>-0.625</td>\n",
       "      <td>-0.5</td>\n",
       "      <td>-0.375</td>\n",
       "      <td>-0.25</td>\n",
       "      <td>-0.125</td>\n",
       "      <td>-0.8</td>\n",
       "      <td>-0.6</td>\n",
       "      <td>-0.4</td>\n",
       "      <td>...</td>\n",
       "      <td>-0.199992</td>\n",
       "      <td>-0.278128</td>\n",
       "      <td>-0.931714</td>\n",
       "      <td>-0.750407</td>\n",
       "      <td>0.871767</td>\n",
       "      <td>0.222219</td>\n",
       "      <td>-0.769570</td>\n",
       "      <td>-0.823172</td>\n",
       "      <td>-0.250759</td>\n",
       "      <td>130500</td>\n",
       "    </tr>\n",
       "    <tr>\n",
       "      <th>1</th>\n",
       "      <td>-0.875</td>\n",
       "      <td>-0.75</td>\n",
       "      <td>-0.625</td>\n",
       "      <td>-0.5</td>\n",
       "      <td>-0.375</td>\n",
       "      <td>-0.25</td>\n",
       "      <td>-0.125</td>\n",
       "      <td>-0.8</td>\n",
       "      <td>-0.6</td>\n",
       "      <td>-0.4</td>\n",
       "      <td>...</td>\n",
       "      <td>-0.199992</td>\n",
       "      <td>1.030746</td>\n",
       "      <td>0.657359</td>\n",
       "      <td>-0.750407</td>\n",
       "      <td>0.871767</td>\n",
       "      <td>0.459688</td>\n",
       "      <td>-0.328274</td>\n",
       "      <td>1.141040</td>\n",
       "      <td>-0.250759</td>\n",
       "      <td>220000</td>\n",
       "    </tr>\n",
       "    <tr>\n",
       "      <th>2</th>\n",
       "      <td>0.125</td>\n",
       "      <td>-0.75</td>\n",
       "      <td>-0.625</td>\n",
       "      <td>-0.5</td>\n",
       "      <td>-0.375</td>\n",
       "      <td>-0.25</td>\n",
       "      <td>-0.125</td>\n",
       "      <td>-0.8</td>\n",
       "      <td>-0.6</td>\n",
       "      <td>-0.4</td>\n",
       "      <td>...</td>\n",
       "      <td>-0.199992</td>\n",
       "      <td>-0.932564</td>\n",
       "      <td>-0.931714</td>\n",
       "      <td>-0.750407</td>\n",
       "      <td>-1.202315</td>\n",
       "      <td>0.674323</td>\n",
       "      <td>0.009740</td>\n",
       "      <td>1.141040</td>\n",
       "      <td>-0.250759</td>\n",
       "      <td>109000</td>\n",
       "    </tr>\n",
       "    <tr>\n",
       "      <th>3</th>\n",
       "      <td>-0.875</td>\n",
       "      <td>-0.75</td>\n",
       "      <td>-0.625</td>\n",
       "      <td>-0.5</td>\n",
       "      <td>-0.375</td>\n",
       "      <td>-0.25</td>\n",
       "      <td>-0.125</td>\n",
       "      <td>-0.8</td>\n",
       "      <td>-0.6</td>\n",
       "      <td>-0.4</td>\n",
       "      <td>...</td>\n",
       "      <td>-0.199992</td>\n",
       "      <td>0.376309</td>\n",
       "      <td>-0.931714</td>\n",
       "      <td>0.065353</td>\n",
       "      <td>-0.165274</td>\n",
       "      <td>-0.994809</td>\n",
       "      <td>-1.570005</td>\n",
       "      <td>-0.823172</td>\n",
       "      <td>-0.250759</td>\n",
       "      <td>174000</td>\n",
       "    </tr>\n",
       "    <tr>\n",
       "      <th>4</th>\n",
       "      <td>0.125</td>\n",
       "      <td>0.25</td>\n",
       "      <td>-0.625</td>\n",
       "      <td>-0.5</td>\n",
       "      <td>-0.375</td>\n",
       "      <td>-0.25</td>\n",
       "      <td>-0.125</td>\n",
       "      <td>-0.8</td>\n",
       "      <td>-0.6</td>\n",
       "      <td>-0.4</td>\n",
       "      <td>...</td>\n",
       "      <td>-0.199992</td>\n",
       "      <td>-0.278128</td>\n",
       "      <td>-0.931714</td>\n",
       "      <td>-0.750407</td>\n",
       "      <td>-1.202315</td>\n",
       "      <td>-0.994809</td>\n",
       "      <td>-0.884588</td>\n",
       "      <td>-0.823172</td>\n",
       "      <td>-0.250759</td>\n",
       "      <td>138500</td>\n",
       "    </tr>\n",
       "  </tbody>\n",
       "</table>\n",
       "<p>5 rows × 70 columns</p>\n",
       "</div>"
      ],
      "text/plain": [
       "   house_style-split_level_VS_split_foyer  house_style-story_1_VS_split_level  \\\n",
       "0                                  -0.875                               -0.75   \n",
       "1                                  -0.875                               -0.75   \n",
       "2                                   0.125                               -0.75   \n",
       "3                                  -0.875                               -0.75   \n",
       "4                                   0.125                                0.25   \n",
       "\n",
       "   house_style-story_1_half_unfin_VS_story_1  \\\n",
       "0                                     -0.625   \n",
       "1                                     -0.625   \n",
       "2                                     -0.625   \n",
       "3                                     -0.625   \n",
       "4                                     -0.625   \n",
       "\n",
       "   house_style-story_1_half_fin_VS_story_1_half_unfin  \\\n",
       "0                                               -0.5    \n",
       "1                                               -0.5    \n",
       "2                                               -0.5    \n",
       "3                                               -0.5    \n",
       "4                                               -0.5    \n",
       "\n",
       "   house_style-story_2_VS_story_1_half_fin  \\\n",
       "0                                   -0.375   \n",
       "1                                   -0.375   \n",
       "2                                   -0.375   \n",
       "3                                   -0.375   \n",
       "4                                   -0.375   \n",
       "\n",
       "   house_style-story_2_half_unfin_VS_story_2  \\\n",
       "0                                      -0.25   \n",
       "1                                      -0.25   \n",
       "2                                      -0.25   \n",
       "3                                      -0.25   \n",
       "4                                      -0.25   \n",
       "\n",
       "   house_style-story_2_half_fin_VS_story_2_half_unfin  heating-GasW_VS_GasA  \\\n",
       "0                                             -0.125                   -0.8   \n",
       "1                                             -0.125                   -0.8   \n",
       "2                                             -0.125                   -0.8   \n",
       "3                                             -0.125                   -0.8   \n",
       "4                                             -0.125                   -0.8   \n",
       "\n",
       "   heating-Grav_VS_GasW  heating-Wall_VS_Grav  ...  kitchen_abvgr  \\\n",
       "0                  -0.6                  -0.4  ...      -0.199992   \n",
       "1                  -0.6                  -0.4  ...      -0.199992   \n",
       "2                  -0.6                  -0.4  ...      -0.199992   \n",
       "3                  -0.6                  -0.4  ...      -0.199992   \n",
       "4                  -0.6                  -0.4  ...      -0.199992   \n",
       "\n",
       "   totrms_abvgrd  fireplaces  wood_deck_sf  heating_qc  bsmtfin_sf_1  \\\n",
       "0      -0.278128   -0.931714     -0.750407    0.871767      0.222219   \n",
       "1       1.030746    0.657359     -0.750407    0.871767      0.459688   \n",
       "2      -0.932564   -0.931714     -0.750407   -1.202315      0.674323   \n",
       "3       0.376309   -0.931714      0.065353   -0.165274     -0.994809   \n",
       "4      -0.278128   -0.931714     -0.750407   -1.202315     -0.994809   \n",
       "\n",
       "   total_bsmt_sf  bsmt_full_bath  bsmt_half_bath  saleprice  \n",
       "0      -0.769570       -0.823172       -0.250759     130500  \n",
       "1      -0.328274        1.141040       -0.250759     220000  \n",
       "2       0.009740        1.141040       -0.250759     109000  \n",
       "3      -1.570005       -0.823172       -0.250759     174000  \n",
       "4      -0.884588       -0.823172       -0.250759     138500  \n",
       "\n",
       "[5 rows x 70 columns]"
      ]
     },
     "execution_count": 155,
     "metadata": {},
     "output_type": "execute_result"
    }
   ],
   "source": [
    "data.head()"
   ]
  },
  {
   "cell_type": "code",
   "execution_count": 156,
   "id": "feb39237-279b-4b20-a9df-7f8cc269b45d",
   "metadata": {},
   "outputs": [
    {
     "data": {
      "text/plain": [
       "(2033, 70)"
      ]
     },
     "execution_count": 156,
     "metadata": {},
     "output_type": "execute_result"
    }
   ],
   "source": [
    "data.shape"
   ]
  },
  {
   "cell_type": "markdown",
   "id": "808989f9-3ed8-40d3-9607-1559e42f6a4d",
   "metadata": {},
   "source": [
    "---"
   ]
  },
  {
   "cell_type": "markdown",
   "id": "4e2aec75-bcab-453e-a992-398ed5a1528f",
   "metadata": {},
   "source": [
    "### **Save the data**"
   ]
  },
  {
   "cell_type": "code",
   "execution_count": 157,
   "id": "3a57e364-2e5c-496f-90d6-7cf37a568a67",
   "metadata": {},
   "outputs": [],
   "source": [
    "data.to_csv('../data/data3.csv', index=False)"
   ]
  },
  {
   "cell_type": "markdown",
   "id": "3db4a64a-8d95-483c-9bbb-04138582411c",
   "metadata": {},
   "source": [
    "---"
   ]
  }
 ],
 "metadata": {
  "kernelspec": {
   "display_name": "Python 3",
   "language": "python",
   "name": "python3"
  },
  "language_info": {
   "codemirror_mode": {
    "name": "ipython",
    "version": 3
   },
   "file_extension": ".py",
   "mimetype": "text/x-python",
   "name": "python",
   "nbconvert_exporter": "python",
   "pygments_lexer": "ipython3",
   "version": "3.8.8"
  }
 },
 "nbformat": 4,
 "nbformat_minor": 5
}
